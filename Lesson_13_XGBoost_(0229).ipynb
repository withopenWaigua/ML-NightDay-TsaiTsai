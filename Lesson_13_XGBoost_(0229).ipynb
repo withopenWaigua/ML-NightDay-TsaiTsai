{
  "cells": [
    {
      "cell_type": "markdown",
      "metadata": {
        "id": "view-in-github",
        "colab_type": "text"
      },
      "source": [
        "<a href=\"https://colab.research.google.com/github/withopenWaigua/ML-NightDay-TsaiTsai/blob/main/Lesson_13_XGBoost_(0229).ipynb\" target=\"_parent\"><img src=\"https://colab.research.google.com/assets/colab-badge.svg\" alt=\"Open In Colab\"/></a>"
      ]
    },
    {
      "cell_type": "markdown",
      "id": "4f53f454-c672-48bb-9ce0-bcd7f14e4682",
      "metadata": {
        "id": "4f53f454-c672-48bb-9ce0-bcd7f14e4682"
      },
      "source": [
        "# 集成学习：XGBoost"
      ]
    },
    {
      "cell_type": "code",
      "execution_count": null,
      "id": "c570a66a-ddf4-4cc7-850a-6739d08763a4",
      "metadata": {
        "id": "c570a66a-ddf4-4cc7-850a-6739d08763a4"
      },
      "outputs": [],
      "source": [
        "import numpy as np\n",
        "import pandas as pd\n",
        "import sklearn\n",
        "import matplotlib as mlp\n",
        "import matplotlib.pyplot as plt\n",
        "import seaborn as sns\n",
        "import re, pip, conda\n",
        "import time\n",
        "import os"
      ]
    },
    {
      "cell_type": "code",
      "execution_count": null,
      "id": "4601a002-c484-4342-b7ef-d9976fb9720a",
      "metadata": {
        "id": "4601a002-c484-4342-b7ef-d9976fb9720a",
        "outputId": "90d4a9b0-cf24-4163-d470-6bb4c0805550"
      },
      "outputs": [
        {
          "name": "stdout",
          "output_type": "stream",
          "text": [
            "sklearn 1.0.1\n",
            "matplotlib 3.4.3\n",
            "numpy 1.21.4\n",
            "pandas 1.3.4\n",
            "seaborn 0.11.2\n",
            "pip 21.3.1\n",
            "conda 4.11.0\n"
          ]
        }
      ],
      "source": [
        "for package in [sklearn,mlp,np,pd,sns,pip,conda]:\n",
        "    print(re.findall(\"([^']*)\",str(package))[2],package.__version__)"
      ]
    },
    {
      "cell_type": "code",
      "execution_count": null,
      "id": "51a6e021-29d6-44bd-9525-26330bb01570",
      "metadata": {
        "id": "51a6e021-29d6-44bd-9525-26330bb01570"
      },
      "outputs": [],
      "source": [
        "#更新pip\n",
        "#pip install --upgrade pip\n",
        "\n",
        "#使用pip/conda更新sklearn\n",
        "#pip install --upgrade scikit-learn\n",
        "#conda update scikit-learn"
      ]
    },
    {
      "cell_type": "markdown",
      "id": "1bb61e69-8181-4929-bdb7-be28b3c140b6",
      "metadata": {
        "id": "1bb61e69-8181-4929-bdb7-be28b3c140b6"
      },
      "source": [
        "目录\n",
        "\n",
        "**一 XGBoost的基本思想与实现**<br>\n",
        "&emsp;1 XGBoost pk 梯度提升树<br>\n",
        "&emsp;2 XGBoost的sklearnAPI实现<br>\n",
        "&emsp;3 XGBoost的原生库代码实现<br>\n",
        "&emsp;4 XGBoost分类器的实现<br>\n",
        "**二 XGBoost的参数**<br>\n",
        "&emsp;1 迭代过程<br>\n",
        "&emsp;&emsp; 1.1 迭代次数/学习率/初始$H_0$/最大迭代值<br>\n",
        "&emsp;&emsp; 1.2 XGBoost的目标函数<br>\n",
        "&emsp;2 XGBoost中的弱评估器<br>\n",
        "&emsp;&emsp; 2.1 三大评估器与DART树<br>\n",
        "&emsp;&emsp; 2.2 XGBoost中弱评估器的分枝<br>\n",
        "&emsp;&emsp; 2.3 控制复杂度（一）：弱评估器的剪枝<br>\n",
        "&emsp;&emsp; 2.4 控制复杂度（一）：弱评估器的训练数据<br>\n",
        "&emsp;3 XGBoost的其他参数与方法<br>\n",
        "**三 XGBoost中参数空间与自动优化**<br>\n",
        "&emsp;1 XGBoost的参数空间<br>\n",
        "&emsp;2 基于TPE对XGBoost进行优化<br>\n",
        "**四 原理进阶：XGBoost的求解流程**<br>\n",
        "&emsp;1 XGBoost的基本数学流程<br>\n",
        "&emsp;2 化简XGBoost的目标函数<br>\n",
        "&emsp;3 令XGBoost的目标函数最小<br>"
      ]
    },
    {
      "cell_type": "markdown",
      "id": "ffe20a97-73c4-44ae-96bd-2e6bc76e0cbc",
      "metadata": {
        "tags": [],
        "id": "ffe20a97-73c4-44ae-96bd-2e6bc76e0cbc"
      },
      "source": [
        "推荐的学习路径：\n",
        "\n",
        "【快速实现XGBoost、跑通代码】- 第一部分<br>\n",
        "【快速掌握XGBoost应用、达到自由调参水平】- 第一部分~第三部分<br>\n",
        "【快速掌握XGBoost原理、面试得以通关】- 第一部分1 + 第二部分1.2、2.2 + 第四部分<br>"
      ]
    },
    {
      "cell_type": "markdown",
      "id": "1c4beeaf-3a75-463b-a60e-8179a518d2c7",
      "metadata": {
        "id": "1c4beeaf-3a75-463b-a60e-8179a518d2c7"
      },
      "source": [
        "   "
      ]
    },
    {
      "cell_type": "markdown",
      "id": "d61df5c8-13cb-43c7-830e-c0fb05f545e2",
      "metadata": {
        "tags": [],
        "id": "d61df5c8-13cb-43c7-830e-c0fb05f545e2"
      },
      "source": [
        "# 一 XGBoost的基础思想与实现"
      ]
    },
    {
      "cell_type": "markdown",
      "id": "14d86924-c103-4f9f-929e-c50baa357b0e",
      "metadata": {
        "id": "14d86924-c103-4f9f-929e-c50baa357b0e"
      },
      "source": [
        "## 1 XGBoost pk 梯度提升树"
      ]
    },
    {
      "cell_type": "markdown",
      "id": "0e501b17-c576-40f9-b991-a0cadc3f0512",
      "metadata": {
        "jp-MarkdownHeadingCollapsed": true,
        "tags": [],
        "id": "0e501b17-c576-40f9-b991-a0cadc3f0512"
      },
      "source": [
        "极限提升树XGBoost(Extreme Gradient Boosting，XGB，发音/æks-g-boost/)是基于梯度提升树GBDT全面升级的新一代提升算法，也是提升家族中最富盛名、最灵活、最被机器学习竞赛所青睐的算法。不同于我们之前学过的任意单一算法，XGBoost是一个以提升树为核心的算法系统，它覆盖了至少3+建树流程、10+损失函数，可以实现各种类型的梯度提升树，灵活性无与伦比。同时，XGBoost天生被设计成支持巨量数据，因此可以自由接入GPU/分布式/数据库等系统、还创新了众多工程上对传统提升算法进行加速的新方法。可以说，XGBoost是21世纪中Boosting算法的又一个里程碑，它开创了后GBDT时代中Boosting算法的新辉煌。\n",
        "\n",
        "**<font color=\"red\">需要注意的是，学习XGBoost需要大量梯度提升树（GBDT）相关知识，本课程将假设你已经非常熟悉梯度提升树的原理与特点、并且熟悉sklearn中的交叉验证的用法。如果你不熟悉梯度提升树，强烈建议你回顾之前的课程。</font>**\n",
        "\n",
        "作为Boosting算法，XGBoost中自然包含Boosting三要素：\n",
        "\n",
        "- 损失函数$L(y,\\hat{y})$ ：用以衡量模型预测结果与真实结果的差异。<br>\n",
        "- 弱评估器$f(x)$ ：（一般为）决策树，不同的boosting算法使用不同的建树过程。<br>\n",
        "- 综合集成结果$H(x)$：即集成算法具体如何输出集成结果\n",
        "\n",
        "并且，XGBoost也遵循Boosting算法的基本流程进行建模：\n",
        "\n",
        "---\n",
        "**<font color=\"green\"><center>依据上一个弱评估器$f(x)_{k-1}$的结果，计算损失函数$L$，\n",
        "    <br>并使用$L$自适应地影响下一个弱评估器$f(x)_k$的构建。<br>集成模型输出的结果，受到整体所有弱评估器$f(x)_0$ ~ $f(x)_K$的影响。</center></font>**\n",
        "---"
      ]
    },
    {
      "cell_type": "markdown",
      "id": "b0a79a2e-d6bd-4093-8ca3-911fc9b7d386",
      "metadata": {
        "id": "b0a79a2e-d6bd-4093-8ca3-911fc9b7d386"
      },
      "source": [
        "当然，XGBoost真实的流程比上述过程复杂得多。虽然梯度提升树的流程本身已经比较复杂，XGBoost还是在此流程上做出了众多关键的改进。综合来看，这些改进都是基于XGBoost中两种非常关键的思想实现的：\n",
        "\n",
        "- **第一，实现精确性与复杂度之间的平衡**<br>\n",
        "\n",
        "树的集成模型是机器学习中最为强大的学习器之一，这一族学习器的特点是精确性好、适用于各种场景，但运行缓慢、且过拟合风险很高，因此从学习单一决策树时起，我们就持续为大家提供丰富的剪枝策略，目的就是为了降低各种树模型的模型复杂度，从而控制住过拟合。**树模型的学习能力与过拟合风险之间的平衡，就是预测精确性与模型复杂度之间的平衡，也是经验风险与结构风险之间的平衡**，这一平衡对决策树以及树的集成模型来说是永恒的议题。<br>\n",
        "\n",
        "在过去，我们总是先建立效果优异的模型，再依赖于手动剪枝来调节树模型的复杂度，但在XGBoost中，精确性与复杂度会在训练的每一步被考虑到。主要体现在：\n",
        "\n",
        "> - **1. XGBoost为损失函数$L(y,\\hat{y})$加入结构风险项，构成目标函数$O(y,\\hat{y})$**<br><br>\n",
        "> 在AdaBoost与GBDT当中，我们的目标是找到损失函数$L(y,\\hat{y})$的最小值，也就是让预测结果与真实结果差异最小，这一流程只关心精确性、不关心复杂度和过拟合情况。为应对这个问题，XGBoost从决策树的预剪枝流程、逻辑回归、岭回归、Lasso等经典算法的抗过拟合流程吸取经验，在损失函数中加入了控制过拟合的结构风险项，并将【$L(y,\\hat{y})$ + 结构风险】定义为目标函数$O(y,\\hat{y})$。<br><br>\n",
        "> 这一变化让XGBoost在许多方面都与其他Boosting算法不同：例如，XGBoost是向着令目标函数最小化的目标进行训练，而不是令损失函数最小化的方向。再比如，XGBoost会优先利用结构风险中的参数来控制过拟合，而不像其他树的集成模型一样依赖于树结构参数（例如`max_depth`，`min_impurity_decrease`等）。<br><br>\n",
        "> - **2. 使用全新不纯度衡量指标，将复杂度纳入分枝规则**<br><br>\n",
        "> 在之前学过的算法当中，无论Boosting流程如何进化，建立单棵决策树的规则基本都遵循我们曾经学过的CART树流程，在分类树中，我们使用信息增益（information gain）来衡量叶子的质量，在回归树中，我们使用MSE或者弗里德曼MSE来衡量叶子的质量。这一流程有成熟的剪枝机制、预测精度高、能够适应各种场景，但却可能建立复杂度很高的树。<br><br>\n",
        "> 为实现精确性与复杂度之间的平衡，XGBoost重新设定了分枝指标**【结构分数】**（原论文中写作Structure Score，也被称为质量分数Quality Score），以及基于结构分数的**【结构分数增益】**（Gain of structure score），结构分数增益可以逼迫决策树向整体结构更简单的方向生长。<br><br>\n",
        "> 这一变化让XGBoost使用与传统CART略有区别的建树流程，同时在建树过程中大量使用残差（Residuals）或类残差对象作为中间变量，因此XGBoost的数学过程比其他Boosting算法更复杂。"
      ]
    },
    {
      "cell_type": "markdown",
      "id": "93b795cf-883d-4b06-a6f7-5fdae549d93c",
      "metadata": {
        "id": "93b795cf-883d-4b06-a6f7-5fdae549d93c"
      },
      "source": [
        "- **第二，极大程度地降低模型复杂度、提升模型运行效率，将算法武装成更加适合于大数据的算法**<br>\n",
        "\n",
        "在任意决策树的建树过程中，都需要对每一个特征上所有潜在的分枝节点进行不纯度计算，当数据量巨大时，这一计算将消耗巨量的时间，因此树集成模型的关键缺点之一就是计算缓慢，而这一缺点在实际工业环境当中是相当致命的。为了提升树模型的运算速度、同时又不极大地伤害模型的精确性，XGBoost使用多种优化技巧来实现效率提升：<br>\n",
        "\n",
        "> - **1. 使用估计贪婪算法、平行学习、分位数草图算法等方法构建了适用于大数据的全新建树流程**<br><br>\n",
        "> - **2. 使用感知缓存访问技术与核外计算技术，提升算法在硬件上的运算性能**<br><br>\n",
        "> - **3. 引入Dropout技术，为整体建树流程增加更多随机性、让算法适应更大数据**<br><br>\n",
        "> 不仅在数学方法上有所改进，XGBoost正式拉开了Boosting算法工程优化的序幕。后续更多的Boosting算法，包括LightGBM，CatBoost等也都是在工程方法上做出了大量的优化。遗憾的是，XGBoost的平行学习、估计贪婪算法等知识点将不会被包括在本次课程当中。在讲解LightGBM的时候，我们将详解基于直方图的估计算法，那时我们就能够很容易地理解XGBoost所使用的估计贪婪算法了。"
      ]
    },
    {
      "cell_type": "markdown",
      "id": "981b766e-5b0e-4a44-ba05-2b2cc4660513",
      "metadata": {
        "id": "981b766e-5b0e-4a44-ba05-2b2cc4660513"
      },
      "source": [
        "除此之外，XGBoost还保留了部分与梯度提升树类似的属性，包括：\n",
        "\n",
        "- **弱评估器的输出类型与集成算法输出类型不一致**\n",
        "\n",
        "> 对于AdaBoost或随机森林算法来说，当集成算法执行的是回归任务时，弱评估器也是回归器，当集成算法执行分类任务时，弱评估器也是分类器。但对于GBDT以及基于GBDT的复杂Boosting算法们而言，**无论集成算法整体在执行回归/分类/排序任务，弱评估器一定是回归器**。GBDT通过sigmoid或softmax函数输出具体的分类结果，但实际弱评估器一定是回归器，XGBoost也是如此。\n",
        "\n",
        "- **拟合负梯度，且当损失函数是0.5倍MSE时，拟合残差**\n",
        "\n",
        "> 任意Boosting算法都有自适应调整弱评估器的步骤。在GBDT当中，每次用于建立弱评估器的是样本$X$以及当下集成输出$H(x_i)$与真实标签$y$之间的伪残差（也就是负梯度）。当损失函数是$\\frac{1}{2}MSE$时，负梯度在数学上等同于残差（Residual），因此**GBDT是通过拟合残差来影响后续弱评估器结构**。XGBoost也是依赖于拟合残差来影响后续弱评估器结构，但是与GBDT一样，这一点需要通过数学来证明。\n",
        "\n",
        "- **抽样思想**\n",
        "\n",
        "> GBDT借鉴了大量Bagging算法中的抽样思想，XGBoost也继承了这一属性，因此在XGBoost当中，我们也可以对样本和特征进行抽样来增大弱评估器之间的独立性\n",
        "\n",
        "因为存在这些相似之处，因此我们将会在XGBoost的参数中看到部分熟悉的参数，如果你对梯度提升树足够熟悉，那XGBoost的许多参数对你来说应该并不难懂。需要注意的是，作为2014年才被正式提出的Boosting算法，XGBoost是一个独立于经典算法的算法系统，因此xgboost库是需要单独安装的。\n",
        "\n",
        "你可以使用以下代码在cmd中非常简单地安装xgboost，通常来说无需配置环境变量。"
      ]
    },
    {
      "cell_type": "code",
      "execution_count": null,
      "id": "66c405e1-48ee-4f99-b9f8-c8efa2e13f69",
      "metadata": {
        "id": "66c405e1-48ee-4f99-b9f8-c8efa2e13f69"
      },
      "outputs": [],
      "source": [
        "#!pip install xgboost #安装xgboost库\n",
        "#!pip install --upgrade xgboost #更新xgboost库"
      ]
    },
    {
      "cell_type": "code",
      "execution_count": null,
      "id": "31a8f9f2-8864-4515-b8d5-a485782d46a9",
      "metadata": {
        "id": "31a8f9f2-8864-4515-b8d5-a485782d46a9"
      },
      "outputs": [],
      "source": [
        "import xgboost as xgb #导入成功则说明安装正确"
      ]
    },
    {
      "cell_type": "code",
      "execution_count": null,
      "id": "60f81c6b-7e50-41a5-aa74-c662104913bc",
      "metadata": {
        "id": "60f81c6b-7e50-41a5-aa74-c662104913bc",
        "outputId": "d8d4630b-e77f-44ae-ba4d-c44d18060219"
      },
      "outputs": [
        {
          "data": {
            "text/plain": [
              "'1.5.1'"
            ]
          },
          "execution_count": 6,
          "metadata": {},
          "output_type": "execute_result"
        }
      ],
      "source": [
        "xgb.__version__"
      ]
    },
    {
      "cell_type": "markdown",
      "id": "28109e94-2878-422c-bc12-1bfe96e39a37",
      "metadata": {
        "id": "28109e94-2878-422c-bc12-1bfe96e39a37"
      },
      "source": [
        "需要注意的是，windows与linux系统下支持单GPU运算，但Mac系统不支持GPU运算。同时，只有Linux系统支持多GPU联合运算，其他系统不支持。如果pip安装失败，则可以删除后参考该页面进行具体安装：https://xgboost.readthedocs.io/en/stable/install.html"
      ]
    },
    {
      "cell_type": "markdown",
      "id": "1aba6bd3-51c6-4e2d-bdac-1550367e61a2",
      "metadata": {
        "id": "1aba6bd3-51c6-4e2d-bdac-1550367e61a2"
      },
      "source": [
        "## 2 XGBoost回归的sklearnAPI实现"
      ]
    },
    {
      "cell_type": "markdown",
      "id": "bf82aa4b-9390-4376-8a7f-f7bfa9a3e0d7",
      "metadata": {
        "id": "bf82aa4b-9390-4376-8a7f-f7bfa9a3e0d7"
      },
      "source": [
        "不同于内嵌在sklearn框架中的其他算法，xgboost是独立的算法库，因此它有一套不同于sklearn代码的原生代码。大部分时候我们使用原生代码来运行xgboost，因为这套原生代码是完全为集成学习所设计的，不仅可以无缝使用交叉验证、默认输出指标为RMSE，还能够默认输出训练集上的结果帮我们监控模型。然而对于熟悉sklearn的我们来说，这一套代码略有难度，因此许多人也会倾向于使用xgboost自带的sklearn接口来实现算法。\n",
        "\n",
        "XGBoost自带sklearn接口（sklearn API），通过这个接口，我们可以使用跟sklearn代码一样的方式来实现xgboost，即可以通过fit和predict等接口来执行训练预测过程，也可以调用属性比如coef_等。在XGBoost的sklearn API中，我们可以看到下面五个类：\n",
        "\n",
        "|类|说明|\n",
        "|:-:|:-:|\n",
        "|**XGBRegressor()**|实现xgboost回归|\n",
        "|**XGBClassifier()**|实现xgboost分类|\n",
        "|**XGBRanker()**|实现xgboost排序|\n",
        "|**XGBRFClassifier()**|基于xgboost库实现随机森林分类|\n",
        "|**XGBRFRegressor()**|基于xgboost库实现随机森林回归|\n",
        "\n",
        "其中XGBRF的两个类是以XGBoost方式建树、但以bagging方式构建森林的类，通常只有在我们使用普通随机森林效果不佳、但又不希望使用Boosting的时候使用。这种使用XGBoost方式建树的森林在sklearn中已经开始了实验，不过还没有正式上线。\n",
        "\n",
        "另外两个类就很容易理解了，一个是XGBoost的回归，一个是XGBoost的分类。这两个类的参数高度相似，我们可以以XGBoost回归为例查看："
      ]
    },
    {
      "cell_type": "markdown",
      "id": "c59bff45-7663-4b90-8f20-d4045aa71e37",
      "metadata": {
        "id": "c59bff45-7663-4b90-8f20-d4045aa71e37"
      },
      "source": [
        "*class* `xgboost.XGBRegressor`(n_estimators, max_depth, learning_rate, verbosity, objective, booster, tree_method, n_jobs, gamma, min_child_weight, max_delta_step, subsample, colsample_bytree, colsample_bylevel, colsample_bynode, reg_alpha, reg_lambda, scale_pos_weight, base_score, random_state, missing, num_parallel_tree, monotone_constraints, interaction_constraints, importance_type, gpu_id, validate_parameters, predictor, enable_categorical, eval_metric, early_stopping_rounds, callbacks,**kwargs)\n",
        "\n",
        "*class* `xgboost.XGBClassifier`(n_estimators, use_label_encoder, max_depth, learning_rate, verbosity, objective, booster, tree_method, n_jobs, gamma, min_child_weight, max_delta_step, subsample, colsample_bytree, colsample_bylevel, colsample_bynode, reg_alpha, reg_lambda, scale_pos_weight, base_score, random_state, missing, num_parallel_tree, monotone_constraints, interaction_constraints, importance_type, gpu_id, validate_parameters, predictor, enable_categorical, **kwargs)"
      ]
    },
    {
      "cell_type": "markdown",
      "id": "f1b1e49d-18a5-49a4-b465-67aea6b31a50",
      "metadata": {
        "id": "f1b1e49d-18a5-49a4-b465-67aea6b31a50"
      },
      "source": [
        "可以看到，两个类的参数两都很多，其中不乏一些我们非常熟悉的参数，例如`n_estimators`，`learning_rate`, `max_depth`等。但大部分参数还是需要我们重新学习和认识，这与xgboost复杂的原理有很大的关系，但由于是sklearn API，所以所有这些参数都有相应的默认值。我们可以在不认识参数的情况下调用这个类。以回归类为例我们来看："
      ]
    },
    {
      "cell_type": "code",
      "execution_count": null,
      "id": "0d0f12d4-bc49-40ed-9e65-4cc97b59c317",
      "metadata": {
        "id": "0d0f12d4-bc49-40ed-9e65-4cc97b59c317"
      },
      "outputs": [],
      "source": [
        "from xgboost import XGBRegressor\n",
        "from sklearn.model_selection import cross_validate, KFold\n",
        "from sklearn.model_selection import train_test_split"
      ]
    },
    {
      "cell_type": "code",
      "execution_count": null,
      "id": "07517672-1563-429b-8352-44ea70c121ad",
      "metadata": {
        "id": "07517672-1563-429b-8352-44ea70c121ad"
      },
      "outputs": [],
      "source": [
        "data = pd.read_csv(r\"D:\\Pythonwork\\2021ML\\PART 2 Ensembles\\datasets\\House Price\\train_encode.csv\",index_col=0)"
      ]
    },
    {
      "cell_type": "code",
      "execution_count": null,
      "id": "dd46c1e8-f27e-413e-a67a-64467b023aa7",
      "metadata": {
        "id": "dd46c1e8-f27e-413e-a67a-64467b023aa7",
        "outputId": "65974bff-21e8-4b36-f073-46f3adc0275e"
      },
      "outputs": [
        {
          "data": {
            "text/html": [
              "<div>\n",
              "<style scoped>\n",
              "    .dataframe tbody tr th:only-of-type {\n",
              "        vertical-align: middle;\n",
              "    }\n",
              "\n",
              "    .dataframe tbody tr th {\n",
              "        vertical-align: top;\n",
              "    }\n",
              "\n",
              "    .dataframe thead th {\n",
              "        text-align: right;\n",
              "    }\n",
              "</style>\n",
              "<table border=\"1\" class=\"dataframe\">\n",
              "  <thead>\n",
              "    <tr style=\"text-align: right;\">\n",
              "      <th></th>\n",
              "      <th>Id</th>\n",
              "      <th>住宅类型</th>\n",
              "      <th>住宅区域</th>\n",
              "      <th>街道接触面积(英尺)</th>\n",
              "      <th>住宅面积</th>\n",
              "      <th>街道路面状况</th>\n",
              "      <th>巷子路面状况</th>\n",
              "      <th>住宅形状(大概)</th>\n",
              "      <th>住宅现状</th>\n",
              "      <th>水电气</th>\n",
              "      <th>...</th>\n",
              "      <th>泳池面积</th>\n",
              "      <th>泳池质量</th>\n",
              "      <th>篱笆质量</th>\n",
              "      <th>其他配置</th>\n",
              "      <th>其他配置的价值</th>\n",
              "      <th>销售月份</th>\n",
              "      <th>销售年份</th>\n",
              "      <th>销售类型</th>\n",
              "      <th>销售状态</th>\n",
              "      <th>SalePrice</th>\n",
              "    </tr>\n",
              "  </thead>\n",
              "  <tbody>\n",
              "    <tr>\n",
              "      <th>0</th>\n",
              "      <td>0.0</td>\n",
              "      <td>5.0</td>\n",
              "      <td>3.0</td>\n",
              "      <td>36.0</td>\n",
              "      <td>327.0</td>\n",
              "      <td>1.0</td>\n",
              "      <td>0.0</td>\n",
              "      <td>3.0</td>\n",
              "      <td>3.0</td>\n",
              "      <td>0.0</td>\n",
              "      <td>...</td>\n",
              "      <td>0.0</td>\n",
              "      <td>0.0</td>\n",
              "      <td>0.0</td>\n",
              "      <td>0.0</td>\n",
              "      <td>0.0</td>\n",
              "      <td>1.0</td>\n",
              "      <td>2.0</td>\n",
              "      <td>8.0</td>\n",
              "      <td>4.0</td>\n",
              "      <td>208500</td>\n",
              "    </tr>\n",
              "    <tr>\n",
              "      <th>1</th>\n",
              "      <td>1.0</td>\n",
              "      <td>0.0</td>\n",
              "      <td>3.0</td>\n",
              "      <td>51.0</td>\n",
              "      <td>498.0</td>\n",
              "      <td>1.0</td>\n",
              "      <td>0.0</td>\n",
              "      <td>3.0</td>\n",
              "      <td>3.0</td>\n",
              "      <td>0.0</td>\n",
              "      <td>...</td>\n",
              "      <td>0.0</td>\n",
              "      <td>0.0</td>\n",
              "      <td>0.0</td>\n",
              "      <td>0.0</td>\n",
              "      <td>0.0</td>\n",
              "      <td>4.0</td>\n",
              "      <td>1.0</td>\n",
              "      <td>8.0</td>\n",
              "      <td>4.0</td>\n",
              "      <td>181500</td>\n",
              "    </tr>\n",
              "    <tr>\n",
              "      <th>2</th>\n",
              "      <td>2.0</td>\n",
              "      <td>5.0</td>\n",
              "      <td>3.0</td>\n",
              "      <td>39.0</td>\n",
              "      <td>702.0</td>\n",
              "      <td>1.0</td>\n",
              "      <td>0.0</td>\n",
              "      <td>0.0</td>\n",
              "      <td>3.0</td>\n",
              "      <td>0.0</td>\n",
              "      <td>...</td>\n",
              "      <td>0.0</td>\n",
              "      <td>0.0</td>\n",
              "      <td>0.0</td>\n",
              "      <td>0.0</td>\n",
              "      <td>0.0</td>\n",
              "      <td>8.0</td>\n",
              "      <td>2.0</td>\n",
              "      <td>8.0</td>\n",
              "      <td>4.0</td>\n",
              "      <td>223500</td>\n",
              "    </tr>\n",
              "    <tr>\n",
              "      <th>3</th>\n",
              "      <td>3.0</td>\n",
              "      <td>6.0</td>\n",
              "      <td>3.0</td>\n",
              "      <td>31.0</td>\n",
              "      <td>489.0</td>\n",
              "      <td>1.0</td>\n",
              "      <td>0.0</td>\n",
              "      <td>0.0</td>\n",
              "      <td>3.0</td>\n",
              "      <td>0.0</td>\n",
              "      <td>...</td>\n",
              "      <td>0.0</td>\n",
              "      <td>0.0</td>\n",
              "      <td>0.0</td>\n",
              "      <td>0.0</td>\n",
              "      <td>0.0</td>\n",
              "      <td>1.0</td>\n",
              "      <td>0.0</td>\n",
              "      <td>8.0</td>\n",
              "      <td>0.0</td>\n",
              "      <td>140000</td>\n",
              "    </tr>\n",
              "    <tr>\n",
              "      <th>4</th>\n",
              "      <td>4.0</td>\n",
              "      <td>5.0</td>\n",
              "      <td>3.0</td>\n",
              "      <td>55.0</td>\n",
              "      <td>925.0</td>\n",
              "      <td>1.0</td>\n",
              "      <td>0.0</td>\n",
              "      <td>0.0</td>\n",
              "      <td>3.0</td>\n",
              "      <td>0.0</td>\n",
              "      <td>...</td>\n",
              "      <td>0.0</td>\n",
              "      <td>0.0</td>\n",
              "      <td>0.0</td>\n",
              "      <td>0.0</td>\n",
              "      <td>0.0</td>\n",
              "      <td>11.0</td>\n",
              "      <td>2.0</td>\n",
              "      <td>8.0</td>\n",
              "      <td>4.0</td>\n",
              "      <td>250000</td>\n",
              "    </tr>\n",
              "  </tbody>\n",
              "</table>\n",
              "<p>5 rows × 81 columns</p>\n",
              "</div>"
            ],
            "text/plain": [
              "    Id  住宅类型  住宅区域  街道接触面积(英尺)   住宅面积  街道路面状况  巷子路面状况  住宅形状(大概)  住宅现状  水电气  \\\n",
              "0  0.0   5.0   3.0        36.0  327.0     1.0     0.0       3.0   3.0  0.0   \n",
              "1  1.0   0.0   3.0        51.0  498.0     1.0     0.0       3.0   3.0  0.0   \n",
              "2  2.0   5.0   3.0        39.0  702.0     1.0     0.0       0.0   3.0  0.0   \n",
              "3  3.0   6.0   3.0        31.0  489.0     1.0     0.0       0.0   3.0  0.0   \n",
              "4  4.0   5.0   3.0        55.0  925.0     1.0     0.0       0.0   3.0  0.0   \n",
              "\n",
              "   ...  泳池面积  泳池质量  篱笆质量  其他配置  其他配置的价值  销售月份  销售年份  销售类型  销售状态  SalePrice  \n",
              "0  ...   0.0   0.0   0.0   0.0      0.0   1.0   2.0   8.0   4.0     208500  \n",
              "1  ...   0.0   0.0   0.0   0.0      0.0   4.0   1.0   8.0   4.0     181500  \n",
              "2  ...   0.0   0.0   0.0   0.0      0.0   8.0   2.0   8.0   4.0     223500  \n",
              "3  ...   0.0   0.0   0.0   0.0      0.0   1.0   0.0   8.0   0.0     140000  \n",
              "4  ...   0.0   0.0   0.0   0.0      0.0  11.0   2.0   8.0   4.0     250000  \n",
              "\n",
              "[5 rows x 81 columns]"
            ]
          },
          "execution_count": 9,
          "metadata": {},
          "output_type": "execute_result"
        }
      ],
      "source": [
        "data.head()"
      ]
    },
    {
      "cell_type": "code",
      "execution_count": null,
      "id": "c87ecffe-946a-412c-a07c-72da7031ae4c",
      "metadata": {
        "id": "c87ecffe-946a-412c-a07c-72da7031ae4c"
      },
      "outputs": [],
      "source": [
        "#回归数据\n",
        "X = data.iloc[:,:-1]\n",
        "y = data.iloc[:,-1]"
      ]
    },
    {
      "cell_type": "code",
      "execution_count": null,
      "id": "66001103-77e0-45d0-99d3-18c909e745b7",
      "metadata": {
        "id": "66001103-77e0-45d0-99d3-18c909e745b7",
        "outputId": "22b819d3-f298-4827-b27f-9e5f1569ff74"
      },
      "outputs": [
        {
          "data": {
            "text/plain": [
              "(1460, 80)"
            ]
          },
          "execution_count": 11,
          "metadata": {},
          "output_type": "execute_result"
        }
      ],
      "source": [
        "X.shape"
      ]
    },
    {
      "cell_type": "code",
      "execution_count": null,
      "id": "4ba4d7f3-3b34-4881-a3d1-a5deace87f53",
      "metadata": {
        "id": "4ba4d7f3-3b34-4881-a3d1-a5deace87f53",
        "outputId": "8fdab93a-7d7c-49ed-d064-0d3bf0d1e368"
      },
      "outputs": [
        {
          "data": {
            "text/plain": [
              "count      1460.000000\n",
              "mean     180921.195890\n",
              "std       79442.502883\n",
              "min       34900.000000\n",
              "25%      129975.000000\n",
              "50%      163000.000000\n",
              "75%      214000.000000\n",
              "max      755000.000000\n",
              "Name: SalePrice, dtype: float64"
            ]
          },
          "execution_count": 12,
          "metadata": {},
          "output_type": "execute_result"
        }
      ],
      "source": [
        "y.describe()"
      ]
    },
    {
      "cell_type": "markdown",
      "id": "72b1ac93-eced-42a0-87e0-8840de2fa658",
      "metadata": {
        "id": "72b1ac93-eced-42a0-87e0-8840de2fa658"
      },
      "source": [
        "在这个数据集上我们曾经达到过如下的分数："
      ]
    },
    {
      "cell_type": "markdown",
      "id": "4a042e50-6db3-4337-8f5a-651097bee25e",
      "metadata": {
        "id": "4a042e50-6db3-4337-8f5a-651097bee25e"
      },
      "source": [
        "|算法|RF|AdaBoost|GBDT|RF<br>(TPE)|AdaBoost<br>(TPE)|GBDT<br>(TPE)|\n",
        "|:-:|:-:|:-:|:-:|:-:|:-:|:-:|\n",
        "|5折验证<br>运行时间|1.29s|0.28s|0.49s|0.22s|0.27s|<font color=\"brown\">**1.54s(↑)**</font>|\n",
        "|测试最优分数<br>(RMSE)|30571.267|35345.931|28783.954|28346.673|35169.730|<font color=\"green\">**26415.835(↓)**</font>|"
      ]
    },
    {
      "cell_type": "code",
      "execution_count": null,
      "id": "84b7d889-3ec8-4138-affe-c230eec2baf0",
      "metadata": {
        "id": "84b7d889-3ec8-4138-affe-c230eec2baf0",
        "outputId": "e6ee359d-91de-4ebf-9c74-44727b23dea6"
      },
      "outputs": [
        {
          "data": {
            "text/plain": [
              "0.8707175563742298"
            ]
          },
          "execution_count": 13,
          "metadata": {},
          "output_type": "execute_result"
        }
      ],
      "source": [
        "#sklearn普通训练代码三步走：实例化，fit，score\n",
        "\n",
        "Xtrain,Xtest,Ytrain,Ytest = train_test_split(X,y,test_size=0.3,random_state=1412)\n",
        "\n",
        "xgb_sk = XGBRegressor(random_state=1412) #实例化模型\n",
        "xgb_sk.fit(Xtrain,Ytrain)\n",
        "xgb_sk.score(Xtest,Ytest) #默认指标R2"
      ]
    },
    {
      "cell_type": "code",
      "execution_count": null,
      "id": "ca370072-773b-4b61-a163-b4473d8f45f8",
      "metadata": {
        "id": "ca370072-773b-4b61-a163-b4473d8f45f8"
      },
      "outputs": [],
      "source": [
        "#sklearn交叉验证三步走：实例化，交叉验证，对结果求平均\n",
        "\n",
        "xgb_sk = XGBRegressor(random_state=1412) #实例化模型"
      ]
    },
    {
      "cell_type": "code",
      "execution_count": null,
      "id": "bf9a94d0-4ca0-44c9-84e5-d8fbfa384ad3",
      "metadata": {
        "id": "bf9a94d0-4ca0-44c9-84e5-d8fbfa384ad3",
        "outputId": "bfbb6268-e00d-4527-ea2d-8d504efac60c"
      },
      "outputs": [
        {
          "name": "stderr",
          "output_type": "stream",
          "text": [
            "[Parallel(n_jobs=-1)]: Using backend LokyBackend with 16 concurrent workers.\n",
            "[Parallel(n_jobs=-1)]: Done   5 out of   5 | elapsed:    1.5s finished\n"
          ]
        }
      ],
      "source": [
        "#定义所需的交叉验证方式\n",
        "cv = KFold(n_splits=5,shuffle=True,random_state=1412)\n",
        "\n",
        "result_xgb_sk = cross_validate(xgb_sk,X,y,cv=cv\n",
        "                               ,scoring=\"neg_root_mean_squared_error\" #负根均方误差\n",
        "                               ,return_train_score=True\n",
        "                               ,verbose=True\n",
        "                               ,n_jobs=-1)"
      ]
    },
    {
      "cell_type": "code",
      "execution_count": null,
      "id": "a2038f82-43e9-4361-92e4-5c2f3d169a12",
      "metadata": {
        "id": "a2038f82-43e9-4361-92e4-5c2f3d169a12",
        "outputId": "3b24782f-8a7b-4cd8-ff50-7b8ce7788480"
      },
      "outputs": [
        {
          "data": {
            "text/plain": [
              "{'fit_time': array([0.23205304, 0.45810175, 0.46110272, 0.47810745, 0.47210622]),\n",
              " 'score_time': array([0.00499988, 0.00500083, 0.00700212, 0.00600123, 0.0080018 ]),\n",
              " 'test_score': array([-25398.06063039, -42892.11176772, -26426.91326917, -20676.41934632,\n",
              "        -33375.56869975]),\n",
              " 'train_score': array([ -903.74997856, -1106.45801425,  -997.3799282 ,  -818.69215194,\n",
              "         -877.57892862])}"
            ]
          },
          "execution_count": 32,
          "metadata": {},
          "output_type": "execute_result"
        }
      ],
      "source": [
        "result_xgb_sk"
      ]
    },
    {
      "cell_type": "code",
      "execution_count": null,
      "id": "020c3b28-dc72-4233-a671-5ad93559dc4c",
      "metadata": {
        "id": "020c3b28-dc72-4233-a671-5ad93559dc4c"
      },
      "outputs": [],
      "source": [
        "def RMSE(result,name):\n",
        "    return abs(result[name].mean())"
      ]
    },
    {
      "cell_type": "code",
      "execution_count": null,
      "id": "de4aedc3-227b-4261-a6b4-61c74fbcd1b0",
      "metadata": {
        "id": "de4aedc3-227b-4261-a6b4-61c74fbcd1b0",
        "outputId": "d2c9811a-b7e7-4fc2-8cea-ebd5d8e7dbcf"
      },
      "outputs": [
        {
          "data": {
            "text/plain": [
              "940.7718003131752"
            ]
          },
          "execution_count": 34,
          "metadata": {},
          "output_type": "execute_result"
        }
      ],
      "source": [
        "RMSE(result_xgb_sk,\"train_score\")"
      ]
    },
    {
      "cell_type": "code",
      "execution_count": null,
      "id": "24f7d9be-df74-42b7-87e1-fdda1d5a6371",
      "metadata": {
        "id": "24f7d9be-df74-42b7-87e1-fdda1d5a6371",
        "outputId": "f369b215-e3e1-4a08-9ba3-e4bf84adbede"
      },
      "outputs": [
        {
          "data": {
            "text/plain": [
              "29753.814742669765"
            ]
          },
          "execution_count": 35,
          "metadata": {},
          "output_type": "execute_result"
        }
      ],
      "source": [
        "RMSE(result_xgb_sk,\"test_score\")"
      ]
    },
    {
      "cell_type": "markdown",
      "id": "9e14a551-09f2-4dbf-a217-813322cc2478",
      "metadata": {
        "id": "9e14a551-09f2-4dbf-a217-813322cc2478"
      },
      "source": [
        "可以看到，在默认参数下，xgboost模型极度不稳定，并且过拟合的情况非常严重，在训练集上的RMSE达到了前所未有的低点940.77，这说明XGBoost的学习能力的确强劲，现有数据量对xgboost来说可能有点不足。在没有调整任何参数的情况下，XGBoost的表现没能胜过梯度提升树，这可能是因为在默认参数下梯度提升树的过拟合程度较轻。我们可以尝试使用之前学过的知识，对XGBoost的参数略微进行调整，例如将最可能影响模型的参数之一：`max_depth`设置为一个较小的值。"
      ]
    },
    {
      "cell_type": "code",
      "execution_count": null,
      "id": "e373eb8e-c3b5-4c64-941d-b3c626494f90",
      "metadata": {
        "id": "e373eb8e-c3b5-4c64-941d-b3c626494f90"
      },
      "outputs": [],
      "source": [
        "xgb_sk = XGBRegressor(max_depth=5,random_state=1412) #实例化"
      ]
    },
    {
      "cell_type": "code",
      "execution_count": null,
      "id": "f9bf1b75-630c-4bf0-a74d-3c643c0c42f3",
      "metadata": {
        "id": "f9bf1b75-630c-4bf0-a74d-3c643c0c42f3",
        "outputId": "2fd0a986-3bdb-4e94-b21c-3e758009471a"
      },
      "outputs": [
        {
          "name": "stderr",
          "output_type": "stream",
          "text": [
            "[Parallel(n_jobs=-1)]: Using backend LokyBackend with 16 concurrent workers.\n",
            "[Parallel(n_jobs=-1)]: Done   5 out of   5 | elapsed:    0.3s finished\n"
          ]
        }
      ],
      "source": [
        "result_xgb_sk = cross_validate(xgb_sk,X,y,cv=cv\n",
        "                               ,scoring=\"neg_root_mean_squared_error\" #负根均方误差\n",
        "                               ,return_train_score=True\n",
        "                               ,verbose=True\n",
        "                               ,n_jobs=-1)"
      ]
    },
    {
      "cell_type": "code",
      "execution_count": null,
      "id": "298cd4fe-a73d-43eb-b2a9-7e231dcaa847",
      "metadata": {
        "id": "298cd4fe-a73d-43eb-b2a9-7e231dcaa847",
        "outputId": "89993851-4060-4fc2-c4a5-5b7be7df0e6f"
      },
      "outputs": [
        {
          "data": {
            "text/plain": [
              "2362.6596931022264"
            ]
          },
          "execution_count": 38,
          "metadata": {},
          "output_type": "execute_result"
        }
      ],
      "source": [
        "RMSE(result_xgb_sk,\"train_score\")"
      ]
    },
    {
      "cell_type": "code",
      "execution_count": null,
      "id": "4515b3f7-3ce7-4dd9-9c46-8d3113663af6",
      "metadata": {
        "id": "4515b3f7-3ce7-4dd9-9c46-8d3113663af6",
        "outputId": "16e15e17-a04c-4d80-a467-f52baaede75c"
      },
      "outputs": [
        {
          "data": {
            "text/plain": [
              "28623.2199609373"
            ]
          },
          "execution_count": 39,
          "metadata": {},
          "output_type": "execute_result"
        }
      ],
      "source": [
        "RMSE(result_xgb_sk,\"test_score\")"
      ]
    },
    {
      "cell_type": "markdown",
      "id": "bc272fcf-03ca-4c09-95db-583e8db712d9",
      "metadata": {
        "id": "bc272fcf-03ca-4c09-95db-583e8db712d9"
      },
      "source": [
        "过拟合程度立刻减轻了，这说明模型是有潜力的，经过精密的调参之后xgboost上应该能够获得不错的结果。"
      ]
    },
    {
      "cell_type": "markdown",
      "id": "cd92bb0e-4a53-4d33-8faf-ef925b4b27c2",
      "metadata": {
        "id": "cd92bb0e-4a53-4d33-8faf-ef925b4b27c2"
      },
      "source": [
        "当sklearn API训练完毕之后，我们可以调用sklearn中常见的部分属性对训练后的模型进行查看，例如查看特征重要性的属性`feature_importances_`，以及查看XGB下每一棵树的`get_booster()`方法、查看总共有多少棵树的`get_num_boosting_rounds()`方法、以及查看当前所有参数的方法`get_params`。"
      ]
    },
    {
      "cell_type": "code",
      "execution_count": null,
      "id": "84fcf6e9-f785-4b12-89b5-52890755841f",
      "metadata": {
        "id": "84fcf6e9-f785-4b12-89b5-52890755841f"
      },
      "outputs": [],
      "source": [
        "xgb_sk = XGBRegressor(max_depth=5,random_state=1412).fit(X,y)"
      ]
    },
    {
      "cell_type": "code",
      "execution_count": null,
      "id": "86427568-5661-48b2-ae0c-38c4d6a66681",
      "metadata": {
        "id": "86427568-5661-48b2-ae0c-38c4d6a66681",
        "outputId": "6fea4cb6-cc30-4a43-f07f-a4903bd89032"
      },
      "outputs": [
        {
          "data": {
            "text/plain": [
              "array([2.75380560e-04, 3.31971998e-04, 1.00358156e-02, 1.05883693e-03,\n",
              "       3.16664134e-03, 0.00000000e+00, 1.98506648e-04, 2.89293937e-03,\n",
              "       1.25273280e-02, 0.00000000e+00, 5.93377743e-04, 1.02778999e-02,\n",
              "       2.30982271e-03, 1.63636741e-03, 2.90878420e-03, 2.35304120e-03,\n",
              "       6.21278654e-04, 4.83804524e-01, 3.57081974e-03, 5.26868505e-03,\n",
              "       5.39273489e-03, 1.19193934e-03, 6.73988950e-04, 8.58596177e-04,\n",
              "       7.24220707e-04, 6.31435658e-04, 6.40772341e-04, 1.79228242e-02,\n",
              "       1.88877675e-04, 5.03550633e-04, 1.56989340e-02, 2.03612563e-03,\n",
              "       2.47432292e-03, 1.01661379e-03, 8.10322072e-03, 2.90135911e-04,\n",
              "       5.88890282e-04, 7.41500990e-04, 1.55724427e-02, 4.79830429e-04,\n",
              "       3.00964224e-04, 3.08048874e-02, 1.71841952e-04, 1.05094137e-02,\n",
              "       7.64262909e-03, 5.08715457e-04, 3.02572548e-02, 2.92710634e-03,\n",
              "       3.74272262e-04, 3.38621549e-02, 1.68845232e-03, 5.42165304e-04,\n",
              "       3.92313190e-02, 2.88939234e-02, 3.41931777e-03, 3.12080747e-03,\n",
              "       9.38584842e-03, 8.22769129e-04, 1.47235217e-02, 3.14127025e-03,\n",
              "       1.07205287e-03, 1.11840509e-01, 3.14075779e-03, 2.42510848e-02,\n",
              "       7.32478802e-05, 7.96243025e-04, 9.54234274e-04, 1.75007887e-03,\n",
              "       5.87832765e-04, 3.06713278e-04, 1.96228363e-03, 1.95614668e-03,\n",
              "       0.00000000e+00, 6.25234039e-04, 6.64470572e-05, 1.08636224e-04,\n",
              "       8.74570746e-04, 8.18299886e-04, 3.22782877e-03, 3.69613548e-03],\n",
              "      dtype=float32)"
            ]
          },
          "execution_count": 47,
          "metadata": {},
          "output_type": "execute_result"
        }
      ],
      "source": [
        "#查看特征重要性\n",
        "xgb_sk.feature_importances_"
      ]
    },
    {
      "cell_type": "code",
      "execution_count": null,
      "id": "dc26deb9-8000-4a8e-bc81-d1da41ba784c",
      "metadata": {
        "id": "dc26deb9-8000-4a8e-bc81-d1da41ba784c",
        "outputId": "65b4ba83-b8ee-4373-bfae-57401a776200"
      },
      "outputs": [
        {
          "data": {
            "text/plain": [
              "<xgboost.core.Booster at 0x1f905eec130>"
            ]
          },
          "execution_count": 51,
          "metadata": {},
          "output_type": "execute_result"
        }
      ],
      "source": [
        "#调出其中一棵树，不过无法展示出树的细节，只能够调出建树的Booster对象\n",
        "xgb_sk.get_booster()[2]"
      ]
    },
    {
      "cell_type": "markdown",
      "id": "3833e11d-90df-4286-9e26-886793dd183d",
      "metadata": {
        "id": "3833e11d-90df-4286-9e26-886793dd183d"
      },
      "source": [
        "一棵树都是一个单独的Booster提升树，Booster就相当于sklearn中DecisionTreeRegressor，只不过是使用xgboost独有的建树规则进行计算。"
      ]
    },
    {
      "cell_type": "code",
      "execution_count": null,
      "id": "ef3dcc74-5b68-4a5d-9ed8-cd0233ad5340",
      "metadata": {
        "id": "ef3dcc74-5b68-4a5d-9ed8-cd0233ad5340",
        "outputId": "5108d1d6-c00b-45f2-cc81-ad744d1409da"
      },
      "outputs": [
        {
          "data": {
            "text/plain": [
              "100"
            ]
          },
          "execution_count": 52,
          "metadata": {},
          "output_type": "execute_result"
        }
      ],
      "source": [
        "#查看一共建立了多少棵树，相当于是n_estimators的取值\n",
        "xgb_sk.get_num_boosting_rounds()"
      ]
    },
    {
      "cell_type": "code",
      "execution_count": null,
      "id": "2d953a20-68de-4059-9afa-bb3e6bab616d",
      "metadata": {
        "id": "2d953a20-68de-4059-9afa-bb3e6bab616d",
        "outputId": "2bb7c34d-5c2c-4de7-daaf-1cd12a3ceb2b"
      },
      "outputs": [
        {
          "data": {
            "text/plain": [
              "{'objective': 'reg:squarederror',\n",
              " 'base_score': 0.5,\n",
              " 'booster': 'gbtree',\n",
              " 'colsample_bylevel': 1,\n",
              " 'colsample_bynode': 1,\n",
              " 'colsample_bytree': 1,\n",
              " 'enable_categorical': False,\n",
              " 'gamma': 0,\n",
              " 'gpu_id': -1,\n",
              " 'importance_type': None,\n",
              " 'interaction_constraints': '',\n",
              " 'learning_rate': 0.300000012,\n",
              " 'max_delta_step': 0,\n",
              " 'max_depth': 5,\n",
              " 'min_child_weight': 1,\n",
              " 'missing': nan,\n",
              " 'monotone_constraints': '()',\n",
              " 'n_estimators': 100,\n",
              " 'n_jobs': 16,\n",
              " 'num_parallel_tree': 1,\n",
              " 'predictor': 'auto',\n",
              " 'random_state': 1412,\n",
              " 'reg_alpha': 0,\n",
              " 'reg_lambda': 1,\n",
              " 'scale_pos_weight': 1,\n",
              " 'subsample': 1,\n",
              " 'tree_method': 'exact',\n",
              " 'validate_parameters': 1,\n",
              " 'verbosity': None}"
            ]
          },
          "execution_count": 44,
          "metadata": {},
          "output_type": "execute_result"
        }
      ],
      "source": [
        "#获取每一个参数的取值\n",
        "xgb_sk.get_params()"
      ]
    },
    {
      "cell_type": "markdown",
      "id": "a83198c0-12f3-48b4-9865-47325a5ce6e9",
      "metadata": {
        "id": "a83198c0-12f3-48b4-9865-47325a5ce6e9"
      },
      "source": [
        "查看参数对xgboost来说很有意义，因为XGBRegressor的说明中没有注明默认参数，因此通过查看参数，我们可以了解到xgboost在sklearn API中都设置了怎样的参数，作为未来调参的参考。对于xgboost分类器，我们还可以调用`predict_proba`这样的方法来输出概率值，除此之外我们一般不会再用到xgboost sklearn API中的其他功能。"
      ]
    },
    {
      "cell_type": "markdown",
      "id": "56912251-e8c2-41d4-8418-bc88f6634f28",
      "metadata": {
        "id": "56912251-e8c2-41d4-8418-bc88f6634f28"
      },
      "source": [
        "## 3 XGBoost回归的原生代码实现"
      ]
    },
    {
      "cell_type": "markdown",
      "id": "0453fb6c-9979-4fa4-a75f-bfd530803711",
      "metadata": {
        "id": "0453fb6c-9979-4fa4-a75f-bfd530803711"
      },
      "source": [
        "XGBoost的原生代码与我们已经习惯了的sklearn代码有很大的不同。首先，**原生代码必须使用XGBoost自定义的数据结构DMatrix**，这一数据结构能够保证xgboost算法运行更快，并且能够自然迁移到GPU上运行，类似于列表、数组、Dataframe等结构都不能用于原生代码，因此使用原生代码的第一步就是要更换数据结构。"
      ]
    },
    {
      "cell_type": "markdown",
      "id": "69e9ceea-4c71-4e31-91fb-809103b23150",
      "metadata": {
        "id": "69e9ceea-4c71-4e31-91fb-809103b23150"
      },
      "source": [
        "![](http://pictes.oss-cn-beijing.aliyuncs.com/%E5%BE%AE%E8%AF%BE%20-%20sklearn/week%2011%20XGBoost/xgb%E5%BB%BA%E6%A8%A1%E6%B5%81%E7%A8%8B.PNG)"
      ]
    },
    {
      "cell_type": "markdown",
      "id": "43b58d89-cf76-42eb-a9fe-c5ac2070d04e",
      "metadata": {
        "id": "43b58d89-cf76-42eb-a9fe-c5ac2070d04e"
      },
      "source": [
        "当设置好数据结构后，**我们需要以字典形式设置参数**。XGBoost也可以接受像sklearn一样，将所有参数都写在训练所用的类当中，然而由于xgboost的参数列表过长、参数类型过多，直接将所有参数混写在训练模型的类中会显得代码冗长且混乱，因此我们往往会使用字典单独呈现参数。准备好参数列表后，**我们将使用xgboost中自带的方法`xgb.train`或`xgb.cv`进行训练**，训练完毕后，我们可以使用`predict`方法对结果进行预测。虽然xgboost原生代码库所使用的数据结构是DMatrix，但在预测试输出的数据结构却是普通的数组，因此可以直接使用sklearn中的评估指标，或者python编写的评估指标进行评估。接下来，我们来认识一下xgboost原生代码中最关键的方法："
      ]
    },
    {
      "cell_type": "markdown",
      "id": "798f48d8-6c20-43cd-b11b-cb730535dfc6",
      "metadata": {
        "id": "798f48d8-6c20-43cd-b11b-cb730535dfc6"
      },
      "source": [
        "*class* `xgboost.DMatrix`(data, label=None, *, weight=None, base_margin=None, missing=None, silent=False, feature_names=None, feature_types=None, nthread=None, group=None, qid=None, label_lower_bound=None, label_upper_bound=None, feature_weights=None, enable_categorical=False)\n",
        "\n",
        "*function* `xgboost.train`(*params, dtrain, num_boost_round=10, *, evals=None, obj=None, feval=None, maximize=None, early_stopping_rounds=None, evals_result=None, verbose_eval=True, xgb_model=None, callbacks=None, custom_metric=None)\n",
        "\n",
        "*function* `xgboost.cv`(*params, dtrain, num_boost_round=10, nfold=3, stratified=False, folds=None, metrics=(), obj=None, feval=None, maximize=None, early_stopping_rounds=None, fpreproc=None, as_pandas=True, verbose_eval=None, show_stdv=True, seed=0, callbacks=None, shuffle=True, custom_metric=None)"
      ]
    },
    {
      "cell_type": "markdown",
      "id": "8bec0967-7565-4eff-a71b-dcbab9965fe9",
      "metadata": {
        "id": "8bec0967-7565-4eff-a71b-dcbab9965fe9"
      },
      "source": [
        "其中，方法`xgb.train`和`xgb.cv`的第一个参数`params`就是我们需要使用字典自定义的参数列表，第二个参数`dtrain`就是DMatrix结构的训练数据，第三个参数`num_boost_round`其实就等同于sklearn中的`n_estimators`，表示总共建立多少棵提升树，也就是提升过程中的迭代次数。\n",
        "\n",
        "在之后的课程中，我们将会详细讲解训练中涉及到的每一个参数，在这里我们了解前三个参数就可以。和sklearn中一样，xgboost中的这些参数也都拥有默认值，因此我们可以不填写任何参数就运行xgboost算法。现在，我们来简单看看原生代码是如何实现的："
      ]
    },
    {
      "cell_type": "code",
      "execution_count": null,
      "id": "3d38ab3d-925c-4674-913f-ec0272294fb8",
      "metadata": {
        "id": "3d38ab3d-925c-4674-913f-ec0272294fb8"
      },
      "outputs": [],
      "source": [
        "import xgboost as xgb"
      ]
    },
    {
      "cell_type": "markdown",
      "id": "e150777b-3d23-4a40-97c0-409f8be4d861",
      "metadata": {
        "id": "e150777b-3d23-4a40-97c0-409f8be4d861"
      },
      "source": [
        "- 将数据转换为DMatrix"
      ]
    },
    {
      "cell_type": "markdown",
      "id": "632a8029-c7b1-49d0-a435-1ad372b257c4",
      "metadata": {
        "id": "632a8029-c7b1-49d0-a435-1ad372b257c4"
      },
      "source": [
        "XGBoost模块的三步走：将数据转换为DMatrix，定义需要输入的参数params，直接调用训练。第一步，先转换数据格式："
      ]
    },
    {
      "cell_type": "code",
      "execution_count": null,
      "id": "68dfc386-2926-4540-b2dd-51a6224f0420",
      "metadata": {
        "id": "68dfc386-2926-4540-b2dd-51a6224f0420",
        "outputId": "c550188d-59f5-46a9-f269-577fe98cf5e9"
      },
      "outputs": [
        {
          "data": {
            "text/html": [
              "<div>\n",
              "<style scoped>\n",
              "    .dataframe tbody tr th:only-of-type {\n",
              "        vertical-align: middle;\n",
              "    }\n",
              "\n",
              "    .dataframe tbody tr th {\n",
              "        vertical-align: top;\n",
              "    }\n",
              "\n",
              "    .dataframe thead th {\n",
              "        text-align: right;\n",
              "    }\n",
              "</style>\n",
              "<table border=\"1\" class=\"dataframe\">\n",
              "  <thead>\n",
              "    <tr style=\"text-align: right;\">\n",
              "      <th></th>\n",
              "      <th>Id</th>\n",
              "      <th>住宅类型</th>\n",
              "      <th>住宅区域</th>\n",
              "      <th>街道接触面积(英尺)</th>\n",
              "      <th>住宅面积</th>\n",
              "      <th>街道路面状况</th>\n",
              "      <th>巷子路面状况</th>\n",
              "      <th>住宅形状(大概)</th>\n",
              "      <th>住宅现状</th>\n",
              "      <th>水电气</th>\n",
              "      <th>...</th>\n",
              "      <th>半开放式门廊面积</th>\n",
              "      <th>泳池面积</th>\n",
              "      <th>泳池质量</th>\n",
              "      <th>篱笆质量</th>\n",
              "      <th>其他配置</th>\n",
              "      <th>其他配置的价值</th>\n",
              "      <th>销售月份</th>\n",
              "      <th>销售年份</th>\n",
              "      <th>销售类型</th>\n",
              "      <th>销售状态</th>\n",
              "    </tr>\n",
              "  </thead>\n",
              "  <tbody>\n",
              "    <tr>\n",
              "      <th>0</th>\n",
              "      <td>0.0</td>\n",
              "      <td>5.0</td>\n",
              "      <td>3.0</td>\n",
              "      <td>36.0</td>\n",
              "      <td>327.0</td>\n",
              "      <td>1.0</td>\n",
              "      <td>0.0</td>\n",
              "      <td>3.0</td>\n",
              "      <td>3.0</td>\n",
              "      <td>0.0</td>\n",
              "      <td>...</td>\n",
              "      <td>0.0</td>\n",
              "      <td>0.0</td>\n",
              "      <td>0.0</td>\n",
              "      <td>0.0</td>\n",
              "      <td>0.0</td>\n",
              "      <td>0.0</td>\n",
              "      <td>1.0</td>\n",
              "      <td>2.0</td>\n",
              "      <td>8.0</td>\n",
              "      <td>4.0</td>\n",
              "    </tr>\n",
              "    <tr>\n",
              "      <th>1</th>\n",
              "      <td>1.0</td>\n",
              "      <td>0.0</td>\n",
              "      <td>3.0</td>\n",
              "      <td>51.0</td>\n",
              "      <td>498.0</td>\n",
              "      <td>1.0</td>\n",
              "      <td>0.0</td>\n",
              "      <td>3.0</td>\n",
              "      <td>3.0</td>\n",
              "      <td>0.0</td>\n",
              "      <td>...</td>\n",
              "      <td>0.0</td>\n",
              "      <td>0.0</td>\n",
              "      <td>0.0</td>\n",
              "      <td>0.0</td>\n",
              "      <td>0.0</td>\n",
              "      <td>0.0</td>\n",
              "      <td>4.0</td>\n",
              "      <td>1.0</td>\n",
              "      <td>8.0</td>\n",
              "      <td>4.0</td>\n",
              "    </tr>\n",
              "    <tr>\n",
              "      <th>2</th>\n",
              "      <td>2.0</td>\n",
              "      <td>5.0</td>\n",
              "      <td>3.0</td>\n",
              "      <td>39.0</td>\n",
              "      <td>702.0</td>\n",
              "      <td>1.0</td>\n",
              "      <td>0.0</td>\n",
              "      <td>0.0</td>\n",
              "      <td>3.0</td>\n",
              "      <td>0.0</td>\n",
              "      <td>...</td>\n",
              "      <td>0.0</td>\n",
              "      <td>0.0</td>\n",
              "      <td>0.0</td>\n",
              "      <td>0.0</td>\n",
              "      <td>0.0</td>\n",
              "      <td>0.0</td>\n",
              "      <td>8.0</td>\n",
              "      <td>2.0</td>\n",
              "      <td>8.0</td>\n",
              "      <td>4.0</td>\n",
              "    </tr>\n",
              "    <tr>\n",
              "      <th>3</th>\n",
              "      <td>3.0</td>\n",
              "      <td>6.0</td>\n",
              "      <td>3.0</td>\n",
              "      <td>31.0</td>\n",
              "      <td>489.0</td>\n",
              "      <td>1.0</td>\n",
              "      <td>0.0</td>\n",
              "      <td>0.0</td>\n",
              "      <td>3.0</td>\n",
              "      <td>0.0</td>\n",
              "      <td>...</td>\n",
              "      <td>0.0</td>\n",
              "      <td>0.0</td>\n",
              "      <td>0.0</td>\n",
              "      <td>0.0</td>\n",
              "      <td>0.0</td>\n",
              "      <td>0.0</td>\n",
              "      <td>1.0</td>\n",
              "      <td>0.0</td>\n",
              "      <td>8.0</td>\n",
              "      <td>0.0</td>\n",
              "    </tr>\n",
              "    <tr>\n",
              "      <th>4</th>\n",
              "      <td>4.0</td>\n",
              "      <td>5.0</td>\n",
              "      <td>3.0</td>\n",
              "      <td>55.0</td>\n",
              "      <td>925.0</td>\n",
              "      <td>1.0</td>\n",
              "      <td>0.0</td>\n",
              "      <td>0.0</td>\n",
              "      <td>3.0</td>\n",
              "      <td>0.0</td>\n",
              "      <td>...</td>\n",
              "      <td>0.0</td>\n",
              "      <td>0.0</td>\n",
              "      <td>0.0</td>\n",
              "      <td>0.0</td>\n",
              "      <td>0.0</td>\n",
              "      <td>0.0</td>\n",
              "      <td>11.0</td>\n",
              "      <td>2.0</td>\n",
              "      <td>8.0</td>\n",
              "      <td>4.0</td>\n",
              "    </tr>\n",
              "  </tbody>\n",
              "</table>\n",
              "<p>5 rows × 80 columns</p>\n",
              "</div>"
            ],
            "text/plain": [
              "    Id  住宅类型  住宅区域  街道接触面积(英尺)   住宅面积  街道路面状况  巷子路面状况  住宅形状(大概)  住宅现状  水电气  \\\n",
              "0  0.0   5.0   3.0        36.0  327.0     1.0     0.0       3.0   3.0  0.0   \n",
              "1  1.0   0.0   3.0        51.0  498.0     1.0     0.0       3.0   3.0  0.0   \n",
              "2  2.0   5.0   3.0        39.0  702.0     1.0     0.0       0.0   3.0  0.0   \n",
              "3  3.0   6.0   3.0        31.0  489.0     1.0     0.0       0.0   3.0  0.0   \n",
              "4  4.0   5.0   3.0        55.0  925.0     1.0     0.0       0.0   3.0  0.0   \n",
              "\n",
              "   ...  半开放式门廊面积  泳池面积  泳池质量  篱笆质量  其他配置  其他配置的价值  销售月份  销售年份  销售类型  销售状态  \n",
              "0  ...       0.0   0.0   0.0   0.0   0.0      0.0   1.0   2.0   8.0   4.0  \n",
              "1  ...       0.0   0.0   0.0   0.0   0.0      0.0   4.0   1.0   8.0   4.0  \n",
              "2  ...       0.0   0.0   0.0   0.0   0.0      0.0   8.0   2.0   8.0   4.0  \n",
              "3  ...       0.0   0.0   0.0   0.0   0.0      0.0   1.0   0.0   8.0   0.0  \n",
              "4  ...       0.0   0.0   0.0   0.0   0.0      0.0  11.0   2.0   8.0   4.0  \n",
              "\n",
              "[5 rows x 80 columns]"
            ]
          },
          "execution_count": 54,
          "metadata": {},
          "output_type": "execute_result"
        }
      ],
      "source": [
        "X.head() #DataFrame"
      ]
    },
    {
      "cell_type": "code",
      "execution_count": null,
      "id": "f844061a-d0e1-4ad1-86df-e77b1cca2e79",
      "metadata": {
        "id": "f844061a-d0e1-4ad1-86df-e77b1cca2e79"
      },
      "outputs": [],
      "source": [
        "data_xgb = xgb.DMatrix(X,y)"
      ]
    },
    {
      "cell_type": "code",
      "execution_count": null,
      "id": "cce43c5b-640d-488f-8cae-cdcb5abbb316",
      "metadata": {
        "id": "cce43c5b-640d-488f-8cae-cdcb5abbb316",
        "outputId": "2d69d0fc-82f2-43d2-b3c0-08efc48c1b36"
      },
      "outputs": [
        {
          "data": {
            "text/plain": [
              "<xgboost.core.DMatrix at 0x1f90d260820>"
            ]
          },
          "execution_count": 57,
          "metadata": {},
          "output_type": "execute_result"
        }
      ],
      "source": [
        "data_xgb"
      ]
    },
    {
      "cell_type": "code",
      "execution_count": null,
      "id": "551b9e20-059f-46ec-a229-c6b2e9dbcf72",
      "metadata": {
        "id": "551b9e20-059f-46ec-a229-c6b2e9dbcf72",
        "outputId": "39852bce-e051-4f10-b33f-f8b0ed46c244"
      },
      "outputs": [
        {
          "data": {
            "text/plain": [
              "xgboost.core.DMatrix"
            ]
          },
          "execution_count": 66,
          "metadata": {},
          "output_type": "execute_result"
        }
      ],
      "source": [
        "type(data_xgb)"
      ]
    },
    {
      "cell_type": "markdown",
      "id": "3dd4d645-8f2e-415d-b74e-f12efc2cf1fa",
      "metadata": {
        "id": "3dd4d645-8f2e-415d-b74e-f12efc2cf1fa"
      },
      "source": [
        "如上所示，DMatrix会将特征矩阵与标签打包在同一个对象中，且一次只能转换一组数据。并且，我们无法通过索引或循环查看内部的内容，一旦数据被转换为DMatrix，就难以调用或修改了："
      ]
    },
    {
      "cell_type": "code",
      "execution_count": null,
      "id": "b6ad92ef-16bf-47e3-97d0-70e0774e2d5b",
      "metadata": {
        "id": "b6ad92ef-16bf-47e3-97d0-70e0774e2d5b",
        "outputId": "ebbcec83-b170-4452-d36f-550c82969f5f"
      },
      "outputs": [
        {
          "ename": "TypeError",
          "evalue": "'DMatrix' object is not subscriptable",
          "output_type": "error",
          "traceback": [
            "\u001b[1;31m---------------------------------------------------------------------------\u001b[0m",
            "\u001b[1;31mTypeError\u001b[0m                                 Traceback (most recent call last)",
            "\u001b[1;32m~\\AppData\\Local\\Temp/ipykernel_27308/3612000095.py\u001b[0m in \u001b[0;36m<module>\u001b[1;34m\u001b[0m\n\u001b[1;32m----> 1\u001b[1;33m \u001b[0mdata_xgb\u001b[0m\u001b[1;33m[\u001b[0m\u001b[1;36m0\u001b[0m\u001b[1;33m]\u001b[0m\u001b[1;33m\u001b[0m\u001b[1;33m\u001b[0m\u001b[0m\n\u001b[0m",
            "\u001b[1;31mTypeError\u001b[0m: 'DMatrix' object is not subscriptable"
          ]
        }
      ],
      "source": [
        "data_xgb[0]"
      ]
    },
    {
      "cell_type": "code",
      "execution_count": null,
      "id": "ecafc9da-000e-46a0-81c5-63a5b8017772",
      "metadata": {
        "id": "ecafc9da-000e-46a0-81c5-63a5b8017772",
        "outputId": "365e5732-4e4d-4a9d-fe43-b9a89f167017"
      },
      "outputs": [
        {
          "ename": "TypeError",
          "evalue": "'DMatrix' object is not iterable",
          "output_type": "error",
          "traceback": [
            "\u001b[1;31m---------------------------------------------------------------------------\u001b[0m",
            "\u001b[1;31mTypeError\u001b[0m                                 Traceback (most recent call last)",
            "\u001b[1;32m~\\AppData\\Local\\Temp/ipykernel_27308/1318535528.py\u001b[0m in \u001b[0;36m<module>\u001b[1;34m\u001b[0m\n\u001b[1;32m----> 1\u001b[1;33m \u001b[1;32mfor\u001b[0m \u001b[0mi\u001b[0m \u001b[1;32min\u001b[0m \u001b[0mdata_xgb\u001b[0m\u001b[1;33m:\u001b[0m\u001b[1;33m\u001b[0m\u001b[1;33m\u001b[0m\u001b[0m\n\u001b[0m\u001b[0;32m      2\u001b[0m     \u001b[0mprint\u001b[0m\u001b[1;33m(\u001b[0m\u001b[0mi\u001b[0m\u001b[1;33m)\u001b[0m\u001b[1;33m\u001b[0m\u001b[1;33m\u001b[0m\u001b[0m\n\u001b[0;32m      3\u001b[0m     \u001b[1;32mbreak\u001b[0m\u001b[1;33m\u001b[0m\u001b[1;33m\u001b[0m\u001b[0m\n",
            "\u001b[1;31mTypeError\u001b[0m: 'DMatrix' object is not iterable"
          ]
        }
      ],
      "source": [
        "for i in data_xgb:\n",
        "    print(i)\n",
        "    break"
      ]
    },
    {
      "cell_type": "markdown",
      "id": "b54e3518-b3c2-4a50-97dd-734052db89e6",
      "metadata": {
        "id": "b54e3518-b3c2-4a50-97dd-734052db89e6"
      },
      "source": [
        "因此，**数据预处理需要在转换为DMatrix之前做好**。如果我们有划分训练集和测试集，则需要分别将训练集和测试集转换为DMatrix："
      ]
    },
    {
      "cell_type": "code",
      "execution_count": null,
      "id": "70c3670d-7de0-4e24-b645-ad652a673ae8",
      "metadata": {
        "id": "70c3670d-7de0-4e24-b645-ad652a673ae8"
      },
      "outputs": [],
      "source": [
        "#如果有分割训练集和测试集\n",
        "from sklearn.model_selection import train_test_split\n",
        "Xtrain,Xtest,Ytrain,Ytest = train_test_split(X,y,test_size=0.3,random_state=1412)"
      ]
    },
    {
      "cell_type": "code",
      "execution_count": null,
      "id": "a70bf7ac-6d26-4ede-9aad-895964b5d9c4",
      "metadata": {
        "id": "a70bf7ac-6d26-4ede-9aad-895964b5d9c4"
      },
      "outputs": [],
      "source": [
        "dtrain = xgb.DMatrix(Xtrain,Ytrain)\n",
        "dtest = xgb.DMatrix(Xtest,Ytest)"
      ]
    },
    {
      "cell_type": "markdown",
      "id": "cd44e21e-9a4e-4a66-b2cd-cfe95260e882",
      "metadata": {
        "id": "cd44e21e-9a4e-4a66-b2cd-cfe95260e882"
      },
      "source": [
        "- 定义所需要输出的参数，直接进行训练"
      ]
    },
    {
      "cell_type": "code",
      "execution_count": null,
      "id": "4501dcbe-dada-40f9-99f7-112ce38c8cc0",
      "metadata": {
        "id": "4501dcbe-dada-40f9-99f7-112ce38c8cc0"
      },
      "outputs": [],
      "source": [
        "params = {\"max_depth\":5,\"seed\":1412}"
      ]
    },
    {
      "cell_type": "markdown",
      "id": "f5a95c51-8531-4f61-944a-e1b91ac14262",
      "metadata": {
        "id": "f5a95c51-8531-4f61-944a-e1b91ac14262"
      },
      "source": [
        "一般来说params中会包含至少7~10个参数，如果我们在大型数据上使用xgboost，则可能会涉及到十几个参数或以上，这些参数大多与sklearn中呈现不同的名称，我们将在后续课程中逐一讲解，现在我们可以写上两个我们非常熟悉的参数：最大深度`max_depth`以及随机数种子`seed`。"
      ]
    },
    {
      "cell_type": "code",
      "execution_count": null,
      "id": "bc66ddd9-fcd1-4ce8-8417-86f5d32526d5",
      "metadata": {
        "id": "bc66ddd9-fcd1-4ce8-8417-86f5d32526d5"
      },
      "outputs": [],
      "source": [
        "reg = xgb.train(params, data_xgb, num_boost_round=100)"
      ]
    },
    {
      "cell_type": "markdown",
      "id": "b238ae66-7249-42d4-bda3-9dcf3a1de6cc",
      "metadata": {
        "id": "b238ae66-7249-42d4-bda3-9dcf3a1de6cc"
      },
      "source": [
        "不难发现，**XGBoost不需要实例化，`xgb.train`函数包揽了实例化和训练的功能**，一行代码解决所有问题。同时，**XGBoost在训练时没有区分回归和分类器，它默认是执行回归算法**，因此当我们执行回归任务时，代码是最为简单的。"
      ]
    },
    {
      "cell_type": "markdown",
      "id": "ea99df4e-c615-411d-91bb-ee540c084753",
      "metadata": {
        "id": "ea99df4e-c615-411d-91bb-ee540c084753"
      },
      "source": [
        "在这行简单的代码中，比较令人困惑的可能是参数`num_boost_round`的位置。作为控制树的数量的参数，它的性质应该与控制树深度的`max_depth`差不多，因此一般来说，我们会倾向于将与模型学习过程相关的参数应该都在params中设置。然而，如果我们将`num_boost_round`写在params当中，则会出现如下警告："
      ]
    },
    {
      "cell_type": "code",
      "execution_count": null,
      "id": "74268fa7-863a-452f-b895-8b4b13a31472",
      "metadata": {
        "id": "74268fa7-863a-452f-b895-8b4b13a31472",
        "outputId": "000b3b3a-fa40-4634-852d-0a522c3e7875"
      },
      "outputs": [
        {
          "name": "stdout",
          "output_type": "stream",
          "text": [
            "[18:27:06] WARNING: C:/Users/Administrator/workspace/xgboost-win64_release_1.5.1/src/learner.cc:576: \n",
            "Parameters: { \"num_boost_round\" } might not be used.\n",
            "\n",
            "  This could be a false alarm, with some parameters getting used by language bindings but\n",
            "  then being mistakenly passed down to XGBoost core, or some parameter actually being used\n",
            "  but getting flagged wrongly here. Please open an issue if you find any such cases.\n",
            "\n",
            "\n"
          ]
        }
      ],
      "source": [
        "params = {\"num_boost_round\":100,\"max_depth\":5,\"seed\":1412}\n",
        "reg = xgb.train(params, data_xgb)"
      ]
    },
    {
      "cell_type": "markdown",
      "id": "e9f55761-c120-421d-b735-7ef822f890b1",
      "metadata": {
        "id": "e9f55761-c120-421d-b735-7ef822f890b1"
      },
      "source": [
        "这个警告说明，xgboost不推荐将参数`num_boost_round`写在params里，即便现在这样可以运行，但在之后的版本迭代中也会逐渐舍弃这个功能。这既是说，xgboost将参数分为了两大部分，一部分可以通过params进行设置，另一部分则需要在方法`xgb.train`或者`xgb.cv`中进行设置。遗憾的是，xgboost并没有明确对参数分割的条件和理由，但一般来说，**除了建树棵树、提前停止这两个关键元素，其他参数基本都被设置在params当中**。如果在实际运行过程中，出现了警告或报错，则根据实际情况进行调整。"
      ]
    },
    {
      "cell_type": "markdown",
      "id": "7c00cdc7-80f6-4731-b9f3-d07f22730bc7",
      "metadata": {
        "id": "7c00cdc7-80f6-4731-b9f3-d07f22730bc7"
      },
      "source": [
        "在运行完`xgb.train`后，我们就已经训练完毕后，训练到的reg可以直接用于预测："
      ]
    },
    {
      "cell_type": "code",
      "execution_count": null,
      "id": "14c2ed67-94ed-4ce2-9945-75c695e4e638",
      "metadata": {
        "id": "14c2ed67-94ed-4ce2-9945-75c695e4e638"
      },
      "outputs": [],
      "source": [
        "y_pred = reg.predict(data_xgb)"
      ]
    },
    {
      "cell_type": "code",
      "execution_count": null,
      "id": "c211f0f2-732f-4195-848b-9082139609a0",
      "metadata": {
        "id": "c211f0f2-732f-4195-848b-9082139609a0",
        "outputId": "738cbebb-5a8b-4336-8211-105b39be67c3"
      },
      "outputs": [
        {
          "data": {
            "text/plain": [
              "array([187948.77 , 154381.31 , 199905.75 , ..., 249179.   , 124129.945,\n",
              "       145862.28 ], dtype=float32)"
            ]
          },
          "execution_count": 75,
          "metadata": {},
          "output_type": "execute_result"
        }
      ],
      "source": [
        "y_pred"
      ]
    },
    {
      "cell_type": "markdown",
      "id": "fcf6595f-f394-4812-8d7b-73bb316e6fce",
      "metadata": {
        "id": "fcf6595f-f394-4812-8d7b-73bb316e6fce"
      },
      "source": [
        "我们可以使用sklearn中的评估指标进行评估，对回归类算法，xgboost的默认评估指标是RMSE"
      ]
    },
    {
      "cell_type": "code",
      "execution_count": null,
      "id": "7aa930f5-3ba7-4ea5-bca2-fbcf8a4c98d0",
      "metadata": {
        "id": "7aa930f5-3ba7-4ea5-bca2-fbcf8a4c98d0",
        "outputId": "a541ec4f-53d7-4db5-edae-70633b1d2d86"
      },
      "outputs": [
        {
          "data": {
            "text/plain": [
              "16853.386170715003"
            ]
          },
          "execution_count": 76,
          "metadata": {},
          "output_type": "execute_result"
        }
      ],
      "source": [
        "from sklearn.metrics import mean_squared_error as MSE\n",
        "MSE(y,y_pred,squared=False) #RMSE"
      ]
    },
    {
      "cell_type": "markdown",
      "id": "9e6faaf9-b76d-4171-a60f-7f0ae57c2b3e",
      "metadata": {
        "id": "9e6faaf9-b76d-4171-a60f-7f0ae57c2b3e"
      },
      "source": [
        "- 使用交叉验证进行训练"
      ]
    },
    {
      "cell_type": "code",
      "execution_count": null,
      "id": "ef330386-1092-42a8-a7d2-59135d41172e",
      "metadata": {
        "id": "ef330386-1092-42a8-a7d2-59135d41172e"
      },
      "outputs": [],
      "source": [
        "params = {\"max_depth\":5,\"seed\":1412}\n",
        "result = xgb.cv(params,data_xgb,num_boost_round=100\n",
        "                ,nfold=5 #补充交叉验证中所需的参数，nfold=5表示5折交叉验证\n",
        "                ,seed=1412 #交叉验证的随机数种子，params中的是管理boosting过程的随机数种子\n",
        "               )"
      ]
    },
    {
      "cell_type": "code",
      "execution_count": null,
      "id": "12da1581-bdcf-4c1b-9680-e0871e28d0bf",
      "metadata": {
        "id": "12da1581-bdcf-4c1b-9680-e0871e28d0bf",
        "outputId": "ff34b585-9960-41ed-e625-e334c269db53"
      },
      "outputs": [
        {
          "data": {
            "text/html": [
              "<div>\n",
              "<style scoped>\n",
              "    .dataframe tbody tr th:only-of-type {\n",
              "        vertical-align: middle;\n",
              "    }\n",
              "\n",
              "    .dataframe tbody tr th {\n",
              "        vertical-align: top;\n",
              "    }\n",
              "\n",
              "    .dataframe thead th {\n",
              "        text-align: right;\n",
              "    }\n",
              "</style>\n",
              "<table border=\"1\" class=\"dataframe\">\n",
              "  <thead>\n",
              "    <tr style=\"text-align: right;\">\n",
              "      <th></th>\n",
              "      <th>train-rmse-mean</th>\n",
              "      <th>train-rmse-std</th>\n",
              "      <th>test-rmse-mean</th>\n",
              "      <th>test-rmse-std</th>\n",
              "    </tr>\n",
              "  </thead>\n",
              "  <tbody>\n",
              "    <tr>\n",
              "      <th>0</th>\n",
              "      <td>141522.721875</td>\n",
              "      <td>1318.896997</td>\n",
              "      <td>141941.484375</td>\n",
              "      <td>6432.947712</td>\n",
              "    </tr>\n",
              "    <tr>\n",
              "      <th>1</th>\n",
              "      <td>102183.568750</td>\n",
              "      <td>1053.673671</td>\n",
              "      <td>103857.753125</td>\n",
              "      <td>5778.064364</td>\n",
              "    </tr>\n",
              "    <tr>\n",
              "      <th>2</th>\n",
              "      <td>74524.579688</td>\n",
              "      <td>728.019143</td>\n",
              "      <td>77554.021875</td>\n",
              "      <td>5732.164228</td>\n",
              "    </tr>\n",
              "    <tr>\n",
              "      <th>3</th>\n",
              "      <td>55214.231250</td>\n",
              "      <td>465.428776</td>\n",
              "      <td>59894.982031</td>\n",
              "      <td>6121.923227</td>\n",
              "    </tr>\n",
              "    <tr>\n",
              "      <th>4</th>\n",
              "      <td>41754.467188</td>\n",
              "      <td>345.496649</td>\n",
              "      <td>47824.114063</td>\n",
              "      <td>5734.477932</td>\n",
              "    </tr>\n",
              "    <tr>\n",
              "      <th>...</th>\n",
              "      <td>...</td>\n",
              "      <td>...</td>\n",
              "      <td>...</td>\n",
              "      <td>...</td>\n",
              "    </tr>\n",
              "    <tr>\n",
              "      <th>95</th>\n",
              "      <td>2513.421875</td>\n",
              "      <td>206.432972</td>\n",
              "      <td>28623.110938</td>\n",
              "      <td>7513.194129</td>\n",
              "    </tr>\n",
              "    <tr>\n",
              "      <th>96</th>\n",
              "      <td>2476.676709</td>\n",
              "      <td>201.605999</td>\n",
              "      <td>28624.677344</td>\n",
              "      <td>7517.551419</td>\n",
              "    </tr>\n",
              "    <tr>\n",
              "      <th>97</th>\n",
              "      <td>2440.533399</td>\n",
              "      <td>203.698024</td>\n",
              "      <td>28620.468359</td>\n",
              "      <td>7523.209246</td>\n",
              "    </tr>\n",
              "    <tr>\n",
              "      <th>98</th>\n",
              "      <td>2405.017529</td>\n",
              "      <td>210.983203</td>\n",
              "      <td>28619.228125</td>\n",
              "      <td>7525.503699</td>\n",
              "    </tr>\n",
              "    <tr>\n",
              "      <th>99</th>\n",
              "      <td>2362.659668</td>\n",
              "      <td>218.221383</td>\n",
              "      <td>28623.220313</td>\n",
              "      <td>7526.333222</td>\n",
              "    </tr>\n",
              "  </tbody>\n",
              "</table>\n",
              "<p>100 rows × 4 columns</p>\n",
              "</div>"
            ],
            "text/plain": [
              "    train-rmse-mean  train-rmse-std  test-rmse-mean  test-rmse-std\n",
              "0     141522.721875     1318.896997   141941.484375    6432.947712\n",
              "1     102183.568750     1053.673671   103857.753125    5778.064364\n",
              "2      74524.579688      728.019143    77554.021875    5732.164228\n",
              "3      55214.231250      465.428776    59894.982031    6121.923227\n",
              "4      41754.467188      345.496649    47824.114063    5734.477932\n",
              "..              ...             ...             ...            ...\n",
              "95      2513.421875      206.432972    28623.110938    7513.194129\n",
              "96      2476.676709      201.605999    28624.677344    7517.551419\n",
              "97      2440.533399      203.698024    28620.468359    7523.209246\n",
              "98      2405.017529      210.983203    28619.228125    7525.503699\n",
              "99      2362.659668      218.221383    28623.220313    7526.333222\n",
              "\n",
              "[100 rows x 4 columns]"
            ]
          },
          "execution_count": 63,
          "metadata": {},
          "output_type": "execute_result"
        }
      ],
      "source": [
        "result"
      ]
    },
    {
      "cell_type": "markdown",
      "id": "8c0a12d5-df55-4090-a93d-d95d424b937e",
      "metadata": {
        "id": "8c0a12d5-df55-4090-a93d-d95d424b937e"
      },
      "source": [
        "如上所示，result返回了一个100行，4列的矩阵，格式为DataFrame。\n",
        "\n",
        "该矩阵行数与迭代次数一致，当我们规定迭代次数为100时，这个矩阵就有100行，如果我们规定的迭代次数为10，这个矩阵就只会有10行。每一行代表了每次迭代后进行交叉验证的结果的均值，例如索引为0的行就表示迭代了一次时（刚建立第一棵树时），进行5折交叉验证的结果，最后一行的结果也就是当前模型迭代完毕后（建好了全部的`nun_boost_round`棵树时）输出的结果，也是之前我们使用sklearn API时得到过的结果：测试集上5折交叉验证结果28623.22。\n",
        "\n",
        "每次迭代后xgboost会执行5折交叉验证，并收集交叉验证上的训练集RMSE均值、训练集RMSE的标准差、测试集RMSE的均值、测试集RMSE的标准差，这些数据构成了4列数据。实际上，这个矩阵展示了每次迭代过后，进行5折交叉验证的结果，也展示出了随着迭代次数增多，模型表现变化的趋势，因此输出结果可以被用于绘制图像。"
      ]
    },
    {
      "cell_type": "code",
      "execution_count": null,
      "id": "23a89ee2-98fd-4146-9a0e-7435a840e6f1",
      "metadata": {
        "id": "23a89ee2-98fd-4146-9a0e-7435a840e6f1",
        "outputId": "bf2c4c06-d679-40d0-8145-bfa5e038c2f6"
      },
      "outputs": [
        {
          "data": {
            "image/png": "[encoded data removed]",
            "text/plain": [
              "<Figure size 1800x1200 with 1 Axes>"
            ]
          },
          "metadata": {
            "needs_background": "light"
          },
          "output_type": "display_data"
        }
      ],
      "source": [
        "plt.figure(dpi=300)\n",
        "plt.plot(result[\"train-rmse-mean\"])\n",
        "plt.plot(result[\"test-rmse-mean\"])\n",
        "plt.legend([\"train\",\"test\"])\n",
        "plt.title(\"xgboost 5fold cv\");"
      ]
    },
    {
      "cell_type": "markdown",
      "id": "a02eca64-8b83-45b9-9c4a-70e391e02f90",
      "metadata": {
        "id": "a02eca64-8b83-45b9-9c4a-70e391e02f90"
      },
      "source": [
        "## 4 XGBoost分类的代码实现"
      ]
    },
    {
      "cell_type": "markdown",
      "id": "532e361a-bb53-4780-9ed2-a80bac78a286",
      "metadata": {
        "id": "532e361a-bb53-4780-9ed2-a80bac78a286"
      },
      "source": [
        "XGBoost默认会实现回归算法，因此在执行分类的时候，我们需要主动声明算法的类型。xgboost是通过当前算法所使用的损失函数来判断任务类型的，即是通过在params中填写的`objective`参数来判断任务类型。当不再执行回归任务时，模型的评估指标也会发生变化，因此xgboost分类所需要的参数会更多。`objective`参数中可以输入数十种不同的选项，常见的有：\n",
        "\n",
        "- 用于回归\n",
        "> - **reg:squarederror**：平方损失，即$\\frac{1}{2}(y - \\hat{y})^2$，其中1/2是为了计算简便<br><br>\n",
        "> - **reg:squaredlogerror**：平方对数损失，即$\\frac{1}{2}[log(\\hat{y} + 1) - log(y + 1)]^2$，其中1/2是为了计算简便\n",
        "\n",
        "- 用于分类\n",
        "> - **binary:logistic**：二分类交叉熵损失，使用该损失时`predict`接口输出概率。如果你对该损失不熟悉，你需要学习逻辑回归算法。<br><br>\n",
        "> - **binary:logitraw**：二分类交叉熵损失，使用该损失时`predict`接输出执行sigmoid变化之前的值<br><br>\n",
        "> - **multi:softmax**：多分类交叉熵损失，使用该损失时`predict`接口输出具体的类别。如果你对该损失不熟悉，你需要学习AdaBoost与GBDT。<br><br>\n",
        "> - **multi:softprob**：多分类交叉熵，适用该损失时`predict`接口输出每个样本每个类别下的概率\n",
        "\n",
        "除此之外，还有众多用于排序算法、计数算法的损失函数。xgboost几乎适用于所有可微的损失函数，不同的损失函数会影响`predict`的输出，但却不会影响交叉验证方法`xgb.cv`的输出。当不填写任何内容时，参数`objective`的默认值为`reg:squarederror`。接下来我们来看看xgboost分类器的实现：\n",
        "\n",
        "- 导入数据"
      ]
    },
    {
      "cell_type": "code",
      "execution_count": null,
      "id": "fba12a52-7d37-484b-9ef0-a1591c47a0ab",
      "metadata": {
        "id": "fba12a52-7d37-484b-9ef0-a1591c47a0ab"
      },
      "outputs": [],
      "source": [
        "#导入2个最简单的分类数据集：乳腺癌数据集与手写数字数据集\n",
        "from sklearn.datasets import load_breast_cancer, load_digits\n",
        "\n",
        "#二分类数据\n",
        "X_binary = load_breast_cancer().data\n",
        "y_binary = load_breast_cancer().target\n",
        "data_binary = xgb.DMatrix(X_binary,y_binary)\n",
        "\n",
        "#多分类数据\n",
        "X_multi = load_digits().data\n",
        "y_multi = load_digits().target\n",
        "data_multi = xgb.DMatrix(X_multi, y_multi)"
      ]
    },
    {
      "cell_type": "markdown",
      "id": "83b6fc04-2adc-436e-8740-afe5ed6d5b6d",
      "metadata": {
        "id": "83b6fc04-2adc-436e-8740-afe5ed6d5b6d"
      },
      "source": [
        "- 设置params，进行训练"
      ]
    },
    {
      "cell_type": "markdown",
      "id": "3b89984c-701e-4809-b992-437d44bf3612",
      "metadata": {
        "id": "3b89984c-701e-4809-b992-437d44bf3612"
      },
      "source": [
        "相比起默认的回归算法，xgboost分类算法所需的参数会更多一些。二分类损失函数一般需要搭配参数`eval_matric`，用于设置分类的评估指标。xgboost中默认的二分类指标是对数损失（也就是交叉熵损失`logloss`），在更老的版本中，xgboost中默认的二分类指标是错误率`error`，在某些xgboost版本当中，不设置参数`eval_matric`将引发警告。"
      ]
    },
    {
      "cell_type": "code",
      "execution_count": null,
      "id": "387fc0ba-c3b2-4791-9283-a6f55a136cf2",
      "metadata": {
        "id": "387fc0ba-c3b2-4791-9283-a6f55a136cf2"
      },
      "outputs": [],
      "source": [
        "params1 = {\"seed\":1412, \"objective\":\"binary:logistic\"\n",
        "           ,\"eval_metric\":\"logloss\" #二分类交叉熵损失\n",
        "          }\n",
        "clf_binary = xgb.train(params1, data_binary, num_boost_round=100)"
      ]
    },
    {
      "cell_type": "markdown",
      "id": "45896637-611c-4ef0-92cd-7d8a099fccb8",
      "metadata": {
        "id": "45896637-611c-4ef0-92cd-7d8a099fccb8"
      },
      "source": [
        "对多分类算法来说，除了设置损失函数和评估指标，还需要设置参数`num_class`。参数`num_class`用于多分类状况下、具体的标签类别数量，例如，如果是三分类，则需设置{\"num_calss\":3}。通常来说，算法应该能够根据标签的情况自主判断实际类别为多少，但不知为何，在xgboost原生代码及sklearn API当中，部分版本的xgboost都存在无法判断标签类别数量的问题。为避免报错，建议在执行多分类时写上该参数。"
      ]
    },
    {
      "cell_type": "code",
      "execution_count": null,
      "id": "08051fd5-dd4c-4a6a-b775-2f5fe5bafe21",
      "metadata": {
        "id": "08051fd5-dd4c-4a6a-b775-2f5fe5bafe21"
      },
      "outputs": [],
      "source": [
        "params2 = {\"seed\":1412, \"objective\":\"multi:softmax\"\n",
        "           ,\"eval_metric\":\"mlogloss\" #多分类交叉熵损失 #\"merror\"\n",
        "           ,\"num_class\":10}\n",
        "clf_multi = xgb.train(params2, data_multi, num_boost_round=100)"
      ]
    },
    {
      "cell_type": "markdown",
      "id": "b115f86b-50b7-4193-bb76-515b6d42e66e",
      "metadata": {
        "id": "b115f86b-50b7-4193-bb76-515b6d42e66e"
      },
      "source": [
        "- 预测与评估"
      ]
    },
    {
      "cell_type": "code",
      "execution_count": null,
      "id": "36f06d6b-5b8b-455f-877c-b238172f4afc",
      "metadata": {
        "id": "36f06d6b-5b8b-455f-877c-b238172f4afc"
      },
      "outputs": [],
      "source": [
        "y_pred_binary = clf_binary.predict(data_binary)\n",
        "y_pred_multi = clf_multi.predict(data_multi)"
      ]
    },
    {
      "cell_type": "code",
      "execution_count": null,
      "id": "e6707c91-321e-409c-8aeb-53d76c6a7bfb",
      "metadata": {
        "tags": [],
        "id": "e6707c91-321e-409c-8aeb-53d76c6a7bfb",
        "outputId": "5375290b-c553-4d0e-8534-a051849d79a6"
      },
      "outputs": [
        {
          "data": {
            "text/plain": [
              "array([5.8410629e-03, 5.9211289e-04, 1.5155278e-04, 2.4505438e-02,\n",
              "       8.6602634e-03, 2.3524903e-02, 8.7698136e-05, 2.2055734e-04,\n",
              "       1.5081177e-03, 4.2824438e-03, 1.5698196e-02, 2.2565569e-04,\n",
              "       4.6376034e-04, 9.0418644e-03, 7.7753547e-03, 6.4944592e-04,\n",
              "       9.2663817e-05, 1.2998856e-04, 9.4483788e-05, 9.9722409e-01],\n",
              "      dtype=float32)"
            ]
          },
          "execution_count": 71,
          "metadata": {},
          "output_type": "execute_result"
        }
      ],
      "source": [
        "y_pred_binary[:20] #二分类直接返回概率，不返回类别，需要自己转换"
      ]
    },
    {
      "cell_type": "code",
      "execution_count": null,
      "id": "df6a15c3-de66-42d9-89fd-800e67bb246c",
      "metadata": {
        "id": "df6a15c3-de66-42d9-89fd-800e67bb246c",
        "outputId": "375991b4-832d-45ba-ff8d-2e88c19739d2"
      },
      "outputs": [
        {
          "data": {
            "text/plain": [
              "array([0., 1., 2., ..., 8., 9., 8.], dtype=float32)"
            ]
          },
          "execution_count": 72,
          "metadata": {},
          "output_type": "execute_result"
        }
      ],
      "source": [
        "y_pred_multi #多分类，选择`multi:softmax`时返回具体类别，也可以选择`multi:softprob`返回概率。"
      ]
    },
    {
      "cell_type": "code",
      "execution_count": null,
      "id": "06253d82-2124-4d0b-bcc8-62dee9623ff1",
      "metadata": {
        "id": "06253d82-2124-4d0b-bcc8-62dee9623ff1"
      },
      "outputs": [],
      "source": [
        "from sklearn.metrics import accuracy_score as ACC #当返回具体类别时，可以使用准确率\n",
        "from sklearn.metrics import log_loss as logloss #当返回概率时，则必须使用交叉熵损失"
      ]
    },
    {
      "cell_type": "code",
      "execution_count": null,
      "id": "6f78c382-283d-448c-a557-45075e438a5e",
      "metadata": {
        "collapsed": true,
        "jupyter": {
          "outputs_hidden": true
        },
        "tags": [],
        "id": "6f78c382-283d-448c-a557-45075e438a5e",
        "outputId": "033c8bdd-ee31-4d4d-f4c7-a296b69e5f7c"
      },
      "outputs": [
        {
          "data": {
            "text/plain": [
              "array([0, 0, 0, 0, 0, 0, 0, 0, 0, 0, 0, 0, 0, 0, 0, 0, 0, 0, 0, 1, 1, 1,\n",
              "       0, 0, 0, 0, 0, 0, 0, 0, 0, 0, 0, 0, 0, 0, 0, 1, 0, 0, 0, 0, 0, 0,\n",
              "       0, 0, 1, 0, 1, 1, 1, 1, 1, 0, 0, 1, 0, 0, 1, 1, 1, 1, 0, 1, 0, 0,\n",
              "       1, 1, 1, 1, 0, 1, 0, 0, 1, 0, 1, 0, 0, 1, 1, 1, 0, 0, 1, 0, 0, 0,\n",
              "       1, 1, 1, 0, 1, 1, 0, 0, 1, 1, 1, 0, 0, 1, 1, 1, 1, 0, 1, 1, 0, 1,\n",
              "       1, 1, 1, 1, 1, 1, 1, 0, 0, 0, 1, 0, 0, 1, 1, 1, 0, 0, 1, 0, 1, 0,\n",
              "       0, 1, 0, 0, 1, 1, 0, 1, 1, 0, 1, 1, 1, 1, 0, 1, 1, 1, 1, 1, 1, 1,\n",
              "       1, 1, 0, 1, 1, 1, 1, 0, 0, 1, 0, 1, 1, 0, 0, 1, 1, 0, 0, 1, 1, 1,\n",
              "       1, 0, 1, 1, 0, 0, 0, 1, 0, 1, 0, 1, 1, 1, 0, 1, 1, 0, 0, 1, 0, 0,\n",
              "       0, 0, 1, 0, 0, 0, 1, 0, 1, 0, 1, 1, 0, 1, 0, 0, 0, 0, 1, 1, 0, 0,\n",
              "       1, 1, 1, 0, 1, 1, 1, 1, 1, 0, 0, 1, 1, 0, 1, 1, 0, 0, 1, 0, 1, 1,\n",
              "       1, 1, 0, 1, 1, 1, 1, 1, 0, 1, 0, 0, 0, 0, 0, 0, 0, 0, 0, 0, 0, 0,\n",
              "       0, 0, 1, 1, 1, 1, 1, 1, 0, 1, 0, 1, 1, 0, 1, 1, 0, 1, 0, 0, 1, 1,\n",
              "       1, 1, 1, 1, 1, 1, 1, 1, 1, 1, 1, 0, 1, 1, 0, 1, 0, 1, 1, 1, 1, 1,\n",
              "       1, 1, 1, 1, 1, 1, 1, 1, 1, 0, 1, 1, 1, 0, 1, 0, 1, 1, 1, 1, 0, 0,\n",
              "       0, 1, 1, 1, 1, 0, 1, 0, 1, 0, 1, 1, 1, 0, 1, 1, 1, 1, 1, 1, 1, 0,\n",
              "       0, 0, 1, 1, 1, 1, 1, 1, 1, 1, 1, 1, 1, 0, 0, 1, 0, 0, 0, 1, 0, 0,\n",
              "       1, 1, 1, 1, 1, 0, 1, 1, 1, 1, 1, 0, 1, 1, 1, 0, 1, 1, 0, 0, 1, 1,\n",
              "       1, 1, 1, 1, 0, 1, 1, 1, 1, 1, 1, 1, 0, 1, 1, 1, 1, 1, 0, 1, 1, 0,\n",
              "       1, 1, 1, 1, 1, 1, 1, 1, 1, 1, 1, 1, 0, 1, 0, 0, 1, 0, 1, 1, 1, 1,\n",
              "       1, 0, 1, 1, 0, 1, 0, 1, 1, 0, 1, 0, 1, 1, 1, 1, 1, 1, 1, 1, 0, 0,\n",
              "       1, 1, 1, 1, 1, 1, 0, 1, 1, 1, 1, 1, 1, 1, 1, 1, 1, 0, 1, 1, 1, 1,\n",
              "       1, 1, 1, 0, 1, 0, 1, 1, 0, 1, 1, 1, 1, 1, 0, 0, 1, 0, 1, 0, 1, 1,\n",
              "       1, 1, 1, 0, 1, 1, 0, 1, 0, 1, 0, 0, 1, 1, 1, 0, 1, 1, 1, 1, 1, 1,\n",
              "       1, 1, 1, 1, 1, 0, 1, 0, 0, 1, 1, 1, 1, 1, 1, 1, 1, 1, 1, 1, 1, 1,\n",
              "       1, 1, 1, 1, 1, 1, 1, 1, 1, 1, 1, 1, 0, 0, 0, 0, 0, 0, 1])"
            ]
          },
          "execution_count": 75,
          "metadata": {},
          "output_type": "execute_result"
        }
      ],
      "source": [
        "(y_pred_binary > 0.5).astype(\"int\")"
      ]
    },
    {
      "cell_type": "code",
      "execution_count": null,
      "id": "d6d1c6a5-283d-43b4-b29c-18482178c518",
      "metadata": {
        "id": "d6d1c6a5-283d-43b4-b29c-18482178c518",
        "outputId": "2982ef21-b870-4775-8c5d-1434676df439"
      },
      "outputs": [
        {
          "data": {
            "text/plain": [
              "1.0"
            ]
          },
          "execution_count": 119,
          "metadata": {},
          "output_type": "execute_result"
        }
      ],
      "source": [
        "ACC(y_binary,(y_pred_binary > 0.5).astype(int)) #对二分类计算准确率，则必须先转换为类别"
      ]
    },
    {
      "cell_type": "code",
      "execution_count": null,
      "id": "cd9ec85c-f033-4b3f-937f-5c9eb5d64010",
      "metadata": {
        "id": "cd9ec85c-f033-4b3f-937f-5c9eb5d64010",
        "outputId": "2e147713-fc8c-4e88-9ae8-30a676febef4"
      },
      "outputs": [
        {
          "data": {
            "text/plain": [
              "1.0"
            ]
          },
          "execution_count": 120,
          "metadata": {},
          "output_type": "execute_result"
        }
      ],
      "source": [
        "ACC(y_multi, y_pred_multi)"
      ]
    },
    {
      "cell_type": "markdown",
      "id": "38085a2f-9d2e-4f64-ad4e-b17ab1600a0a",
      "metadata": {
        "id": "38085a2f-9d2e-4f64-ad4e-b17ab1600a0a"
      },
      "source": [
        "两个数据都非常简单，对于xgboost来说都学习到了100%的准确率。来看交叉熵损失："
      ]
    },
    {
      "cell_type": "code",
      "execution_count": null,
      "id": "0a22eb1c-8384-4574-9215-ac3f6e7195e9",
      "metadata": {
        "id": "0a22eb1c-8384-4574-9215-ac3f6e7195e9",
        "outputId": "429e4420-afd0-4a75-8587-803e16d79f32"
      },
      "outputs": [
        {
          "data": {
            "text/plain": [
              "0.004539324697500797"
            ]
          },
          "execution_count": 121,
          "metadata": {},
          "output_type": "execute_result"
        }
      ],
      "source": [
        "logloss(y_binary,y_pred_binary) #只有二分类输出了概率，因此可以查看交叉熵损失"
      ]
    },
    {
      "cell_type": "markdown",
      "id": "9c5919ed-9b0a-49ef-bee1-0d9a071c6def",
      "metadata": {
        "id": "9c5919ed-9b0a-49ef-bee1-0d9a071c6def"
      },
      "source": [
        "- 交叉验证"
      ]
    },
    {
      "cell_type": "markdown",
      "id": "564a1e97-7096-41b9-97c7-1d46b2f8f6f5",
      "metadata": {
        "id": "564a1e97-7096-41b9-97c7-1d46b2f8f6f5"
      },
      "source": [
        "分类算法与回归算法执行交叉验证的流程基本一致，但需要注意的是，当使用`xgb.train`时，我们会将评估指标参数`eval_matric`写在params中，在使用`xgb.cv`时，我们却需要将评估指标参数写在`xgb.cv`当中，否则有时候会报出警告。这是一个奇怪的bug，可能会随着xgboost库的迭代更新而消失。如果不介意警告，可以继续将评估指标写在params里的`eval_matric`参数下。在`xgb.cv`当中，我们需要将评估指标打包成元组，写在参数`metrics`内部，如下所示："
      ]
    },
    {
      "cell_type": "code",
      "execution_count": null,
      "id": "b766d08c-1942-4ef4-9f7e-cd70fd4c4dd7",
      "metadata": {
        "id": "b766d08c-1942-4ef4-9f7e-cd70fd4c4dd7"
      },
      "outputs": [],
      "source": [
        "params2 = {\"seed\":1412\n",
        "           , \"objective\":\"multi:softmax\" #无论填写什么损失函数都不影响交叉验证的评估指标\n",
        "           , \"num_class\":10}\n",
        "result = xgb.cv(params2,data_multi,num_boost_round=100\n",
        "                ,metrics = (\"mlogloss\") #交叉验证的评估指标由cv中的参数metrics决定\n",
        "                ,nfold=5 #补充交叉验证中所需的参数，nfold=5表示5折交叉验证\n",
        "                ,seed=1412 #交叉验证的随机数种子，params中的是管理boosting过程的随机数种子\n",
        "               )"
      ]
    },
    {
      "cell_type": "code",
      "execution_count": null,
      "id": "82b34643-6180-4b60-9c7c-e34bc0ad7c72",
      "metadata": {
        "id": "82b34643-6180-4b60-9c7c-e34bc0ad7c72",
        "outputId": "a202087e-5467-4ebc-c1a1-e473d12c4ec6"
      },
      "outputs": [
        {
          "data": {
            "text/html": [
              "<div>\n",
              "<style scoped>\n",
              "    .dataframe tbody tr th:only-of-type {\n",
              "        vertical-align: middle;\n",
              "    }\n",
              "\n",
              "    .dataframe tbody tr th {\n",
              "        vertical-align: top;\n",
              "    }\n",
              "\n",
              "    .dataframe thead th {\n",
              "        text-align: right;\n",
              "    }\n",
              "</style>\n",
              "<table border=\"1\" class=\"dataframe\">\n",
              "  <thead>\n",
              "    <tr style=\"text-align: right;\">\n",
              "      <th></th>\n",
              "      <th>train-mlogloss-mean</th>\n",
              "      <th>train-mlogloss-std</th>\n",
              "      <th>test-mlogloss-mean</th>\n",
              "      <th>test-mlogloss-std</th>\n",
              "    </tr>\n",
              "  </thead>\n",
              "  <tbody>\n",
              "    <tr>\n",
              "      <th>0</th>\n",
              "      <td>1.228912</td>\n",
              "      <td>0.006192</td>\n",
              "      <td>1.330349</td>\n",
              "      <td>0.039377</td>\n",
              "    </tr>\n",
              "    <tr>\n",
              "      <th>1</th>\n",
              "      <td>0.869281</td>\n",
              "      <td>0.005974</td>\n",
              "      <td>1.009304</td>\n",
              "      <td>0.046665</td>\n",
              "    </tr>\n",
              "    <tr>\n",
              "      <th>2</th>\n",
              "      <td>0.642709</td>\n",
              "      <td>0.005521</td>\n",
              "      <td>0.805701</td>\n",
              "      <td>0.050207</td>\n",
              "    </tr>\n",
              "    <tr>\n",
              "      <th>3</th>\n",
              "      <td>0.484223</td>\n",
              "      <td>0.004590</td>\n",
              "      <td>0.658486</td>\n",
              "      <td>0.049434</td>\n",
              "    </tr>\n",
              "    <tr>\n",
              "      <th>4</th>\n",
              "      <td>0.370331</td>\n",
              "      <td>0.004205</td>\n",
              "      <td>0.552657</td>\n",
              "      <td>0.049002</td>\n",
              "    </tr>\n",
              "    <tr>\n",
              "      <th>...</th>\n",
              "      <td>...</td>\n",
              "      <td>...</td>\n",
              "      <td>...</td>\n",
              "      <td>...</td>\n",
              "    </tr>\n",
              "    <tr>\n",
              "      <th>95</th>\n",
              "      <td>0.003921</td>\n",
              "      <td>0.000027</td>\n",
              "      <td>0.118105</td>\n",
              "      <td>0.027968</td>\n",
              "    </tr>\n",
              "    <tr>\n",
              "      <th>96</th>\n",
              "      <td>0.003908</td>\n",
              "      <td>0.000026</td>\n",
              "      <td>0.118007</td>\n",
              "      <td>0.027899</td>\n",
              "    </tr>\n",
              "    <tr>\n",
              "      <th>97</th>\n",
              "      <td>0.003896</td>\n",
              "      <td>0.000026</td>\n",
              "      <td>0.118073</td>\n",
              "      <td>0.027942</td>\n",
              "    </tr>\n",
              "    <tr>\n",
              "      <th>98</th>\n",
              "      <td>0.003885</td>\n",
              "      <td>0.000026</td>\n",
              "      <td>0.117976</td>\n",
              "      <td>0.027911</td>\n",
              "    </tr>\n",
              "    <tr>\n",
              "      <th>99</th>\n",
              "      <td>0.003874</td>\n",
              "      <td>0.000026</td>\n",
              "      <td>0.117779</td>\n",
              "      <td>0.027960</td>\n",
              "    </tr>\n",
              "  </tbody>\n",
              "</table>\n",
              "<p>100 rows × 4 columns</p>\n",
              "</div>"
            ],
            "text/plain": [
              "    train-mlogloss-mean  train-mlogloss-std  test-mlogloss-mean  \\\n",
              "0              1.228912            0.006192            1.330349   \n",
              "1              0.869281            0.005974            1.009304   \n",
              "2              0.642709            0.005521            0.805701   \n",
              "3              0.484223            0.004590            0.658486   \n",
              "4              0.370331            0.004205            0.552657   \n",
              "..                  ...                 ...                 ...   \n",
              "95             0.003921            0.000027            0.118105   \n",
              "96             0.003908            0.000026            0.118007   \n",
              "97             0.003896            0.000026            0.118073   \n",
              "98             0.003885            0.000026            0.117976   \n",
              "99             0.003874            0.000026            0.117779   \n",
              "\n",
              "    test-mlogloss-std  \n",
              "0            0.039377  \n",
              "1            0.046665  \n",
              "2            0.050207  \n",
              "3            0.049434  \n",
              "4            0.049002  \n",
              "..                ...  \n",
              "95           0.027968  \n",
              "96           0.027899  \n",
              "97           0.027942  \n",
              "98           0.027911  \n",
              "99           0.027960  \n",
              "\n",
              "[100 rows x 4 columns]"
            ]
          },
          "execution_count": 150,
          "metadata": {},
          "output_type": "execute_result"
        }
      ],
      "source": [
        "result #返回多分类交叉熵损失"
      ]
    },
    {
      "cell_type": "markdown",
      "id": "23a7e8f9-fe4f-4d7a-bebf-888d99fd6984",
      "metadata": {
        "id": "23a7e8f9-fe4f-4d7a-bebf-888d99fd6984"
      },
      "source": [
        "参数`metrics`支持多个评估指标："
      ]
    },
    {
      "cell_type": "code",
      "execution_count": null,
      "id": "d75e9da2-c2eb-4461-82d8-f6d0719c6808",
      "metadata": {
        "id": "d75e9da2-c2eb-4461-82d8-f6d0719c6808"
      },
      "outputs": [],
      "source": [
        "params3 = {\"seed\":1412\n",
        "           , \"objective\":\"multi:softmax\" #无论填写什么损失函数都不影响交叉验证的评估指标\n",
        "           , \"num_class\":10}\n",
        "result = xgb.cv(params3,data_multi,num_boost_round=100\n",
        "                ,metrics = (\"mlogloss\",\"merror\")\n",
        "                ,nfold=5 #补充交叉验证中所需的参数，nfold=5表示5折交叉验证\n",
        "                ,seed=1412 #交叉验证的随机数种子，params中的是管理boosting过程的随机数种子\n",
        "               )"
      ]
    },
    {
      "cell_type": "code",
      "execution_count": null,
      "id": "1f6ed416-793f-4f75-9ad1-440c7e0f2645",
      "metadata": {
        "id": "1f6ed416-793f-4f75-9ad1-440c7e0f2645",
        "outputId": "c586cb39-a338-4227-ad5c-258cfdf8eade"
      },
      "outputs": [
        {
          "data": {
            "text/html": [
              "<div>\n",
              "<style scoped>\n",
              "    .dataframe tbody tr th:only-of-type {\n",
              "        vertical-align: middle;\n",
              "    }\n",
              "\n",
              "    .dataframe tbody tr th {\n",
              "        vertical-align: top;\n",
              "    }\n",
              "\n",
              "    .dataframe thead th {\n",
              "        text-align: right;\n",
              "    }\n",
              "</style>\n",
              "<table border=\"1\" class=\"dataframe\">\n",
              "  <thead>\n",
              "    <tr style=\"text-align: right;\">\n",
              "      <th></th>\n",
              "      <th>train-mlogloss-mean</th>\n",
              "      <th>train-mlogloss-std</th>\n",
              "      <th>train-merror-mean</th>\n",
              "      <th>train-merror-std</th>\n",
              "      <th>test-mlogloss-mean</th>\n",
              "      <th>test-mlogloss-std</th>\n",
              "      <th>test-merror-mean</th>\n",
              "      <th>test-merror-std</th>\n",
              "    </tr>\n",
              "  </thead>\n",
              "  <tbody>\n",
              "    <tr>\n",
              "      <th>0</th>\n",
              "      <td>1.228912</td>\n",
              "      <td>0.006192</td>\n",
              "      <td>0.030746</td>\n",
              "      <td>0.002658</td>\n",
              "      <td>1.330349</td>\n",
              "      <td>0.039377</td>\n",
              "      <td>0.122978</td>\n",
              "      <td>0.022670</td>\n",
              "    </tr>\n",
              "    <tr>\n",
              "      <th>1</th>\n",
              "      <td>0.869281</td>\n",
              "      <td>0.005974</td>\n",
              "      <td>0.014329</td>\n",
              "      <td>0.003948</td>\n",
              "      <td>1.009304</td>\n",
              "      <td>0.046665</td>\n",
              "      <td>0.094041</td>\n",
              "      <td>0.022593</td>\n",
              "    </tr>\n",
              "    <tr>\n",
              "      <th>2</th>\n",
              "      <td>0.642709</td>\n",
              "      <td>0.005521</td>\n",
              "      <td>0.008765</td>\n",
              "      <td>0.002732</td>\n",
              "      <td>0.805701</td>\n",
              "      <td>0.050207</td>\n",
              "      <td>0.080682</td>\n",
              "      <td>0.022009</td>\n",
              "    </tr>\n",
              "    <tr>\n",
              "      <th>3</th>\n",
              "      <td>0.484223</td>\n",
              "      <td>0.004590</td>\n",
              "      <td>0.005147</td>\n",
              "      <td>0.001432</td>\n",
              "      <td>0.658486</td>\n",
              "      <td>0.049434</td>\n",
              "      <td>0.070664</td>\n",
              "      <td>0.022264</td>\n",
              "    </tr>\n",
              "    <tr>\n",
              "      <th>4</th>\n",
              "      <td>0.370331</td>\n",
              "      <td>0.004205</td>\n",
              "      <td>0.003200</td>\n",
              "      <td>0.001362</td>\n",
              "      <td>0.552657</td>\n",
              "      <td>0.049002</td>\n",
              "      <td>0.065101</td>\n",
              "      <td>0.018976</td>\n",
              "    </tr>\n",
              "    <tr>\n",
              "      <th>...</th>\n",
              "      <td>...</td>\n",
              "      <td>...</td>\n",
              "      <td>...</td>\n",
              "      <td>...</td>\n",
              "      <td>...</td>\n",
              "      <td>...</td>\n",
              "      <td>...</td>\n",
              "      <td>...</td>\n",
              "    </tr>\n",
              "    <tr>\n",
              "      <th>95</th>\n",
              "      <td>0.003921</td>\n",
              "      <td>0.000027</td>\n",
              "      <td>0.000000</td>\n",
              "      <td>0.000000</td>\n",
              "      <td>0.118105</td>\n",
              "      <td>0.027968</td>\n",
              "      <td>0.038392</td>\n",
              "      <td>0.005910</td>\n",
              "    </tr>\n",
              "    <tr>\n",
              "      <th>96</th>\n",
              "      <td>0.003908</td>\n",
              "      <td>0.000026</td>\n",
              "      <td>0.000000</td>\n",
              "      <td>0.000000</td>\n",
              "      <td>0.118007</td>\n",
              "      <td>0.027899</td>\n",
              "      <td>0.038392</td>\n",
              "      <td>0.005910</td>\n",
              "    </tr>\n",
              "    <tr>\n",
              "      <th>97</th>\n",
              "      <td>0.003896</td>\n",
              "      <td>0.000026</td>\n",
              "      <td>0.000000</td>\n",
              "      <td>0.000000</td>\n",
              "      <td>0.118073</td>\n",
              "      <td>0.027942</td>\n",
              "      <td>0.038392</td>\n",
              "      <td>0.005910</td>\n",
              "    </tr>\n",
              "    <tr>\n",
              "      <th>98</th>\n",
              "      <td>0.003885</td>\n",
              "      <td>0.000026</td>\n",
              "      <td>0.000000</td>\n",
              "      <td>0.000000</td>\n",
              "      <td>0.117976</td>\n",
              "      <td>0.027911</td>\n",
              "      <td>0.038392</td>\n",
              "      <td>0.005910</td>\n",
              "    </tr>\n",
              "    <tr>\n",
              "      <th>99</th>\n",
              "      <td>0.003874</td>\n",
              "      <td>0.000026</td>\n",
              "      <td>0.000000</td>\n",
              "      <td>0.000000</td>\n",
              "      <td>0.117779</td>\n",
              "      <td>0.027960</td>\n",
              "      <td>0.038392</td>\n",
              "      <td>0.005910</td>\n",
              "    </tr>\n",
              "  </tbody>\n",
              "</table>\n",
              "<p>100 rows × 8 columns</p>\n",
              "</div>"
            ],
            "text/plain": [
              "    train-mlogloss-mean  train-mlogloss-std  train-merror-mean  \\\n",
              "0              1.228912            0.006192           0.030746   \n",
              "1              0.869281            0.005974           0.014329   \n",
              "2              0.642709            0.005521           0.008765   \n",
              "3              0.484223            0.004590           0.005147   \n",
              "4              0.370331            0.004205           0.003200   \n",
              "..                  ...                 ...                ...   \n",
              "95             0.003921            0.000027           0.000000   \n",
              "96             0.003908            0.000026           0.000000   \n",
              "97             0.003896            0.000026           0.000000   \n",
              "98             0.003885            0.000026           0.000000   \n",
              "99             0.003874            0.000026           0.000000   \n",
              "\n",
              "    train-merror-std  test-mlogloss-mean  test-mlogloss-std  test-merror-mean  \\\n",
              "0           0.002658            1.330349           0.039377          0.122978   \n",
              "1           0.003948            1.009304           0.046665          0.094041   \n",
              "2           0.002732            0.805701           0.050207          0.080682   \n",
              "3           0.001432            0.658486           0.049434          0.070664   \n",
              "4           0.001362            0.552657           0.049002          0.065101   \n",
              "..               ...                 ...                ...               ...   \n",
              "95          0.000000            0.118105           0.027968          0.038392   \n",
              "96          0.000000            0.118007           0.027899          0.038392   \n",
              "97          0.000000            0.118073           0.027942          0.038392   \n",
              "98          0.000000            0.117976           0.027911          0.038392   \n",
              "99          0.000000            0.117779           0.027960          0.038392   \n",
              "\n",
              "    test-merror-std  \n",
              "0          0.022670  \n",
              "1          0.022593  \n",
              "2          0.022009  \n",
              "3          0.022264  \n",
              "4          0.018976  \n",
              "..              ...  \n",
              "95         0.005910  \n",
              "96         0.005910  \n",
              "97         0.005910  \n",
              "98         0.005910  \n",
              "99         0.005910  \n",
              "\n",
              "[100 rows x 8 columns]"
            ]
          },
          "execution_count": 154,
          "metadata": {},
          "output_type": "execute_result"
        }
      ],
      "source": [
        "result #可以执行多个指标，让输出结果的列数翻倍"
      ]
    },
    {
      "cell_type": "markdown",
      "id": "4a3a5a4e-337d-4223-8a01-9949a8d5eb60",
      "metadata": {
        "id": "4a3a5a4e-337d-4223-8a01-9949a8d5eb60"
      },
      "source": [
        "- sklearn API的实现"
      ]
    },
    {
      "cell_type": "code",
      "execution_count": null,
      "id": "8daf2dc2-d4e4-4919-b35d-3afe51b24555",
      "metadata": {
        "id": "8daf2dc2-d4e4-4919-b35d-3afe51b24555"
      },
      "outputs": [],
      "source": [
        "from xgboost import XGBClassifier"
      ]
    },
    {
      "cell_type": "markdown",
      "id": "c815edd3-a1e7-4c20-a05c-e413ab479219",
      "metadata": {
        "id": "c815edd3-a1e7-4c20-a05c-e413ab479219"
      },
      "source": [
        "由于在sklearn API当中，我们明确了正在执行的任务是分类，因此无需再使用损失函数来帮助我们辨别分类的类型了。然而如果是多分类，建议还是在参数中明确所使用的损失函数："
      ]
    },
    {
      "cell_type": "code",
      "execution_count": null,
      "id": "4d5c25e6-ad50-4835-ba06-24fcbc9a4e06",
      "metadata": {
        "id": "4d5c25e6-ad50-4835-ba06-24fcbc9a4e06"
      },
      "outputs": [],
      "source": [
        "clf = XGBClassifier()"
      ]
    },
    {
      "cell_type": "code",
      "execution_count": null,
      "id": "cc8672a4-171a-4d4c-9cd9-72932bdcb8cc",
      "metadata": {
        "collapsed": true,
        "jupyter": {
          "outputs_hidden": true
        },
        "tags": [],
        "id": "cc8672a4-171a-4d4c-9cd9-72932bdcb8cc",
        "outputId": "3f1e8e85-b3b3-4a27-919e-6477179e4630"
      },
      "outputs": [
        {
          "data": {
            "text/plain": [
              "{'objective': 'binary:logistic',\n",
              " 'use_label_encoder': True,\n",
              " 'base_score': None,\n",
              " 'booster': None,\n",
              " 'colsample_bylevel': None,\n",
              " 'colsample_bynode': None,\n",
              " 'colsample_bytree': None,\n",
              " 'enable_categorical': False,\n",
              " 'gamma': None,\n",
              " 'gpu_id': None,\n",
              " 'importance_type': None,\n",
              " 'interaction_constraints': None,\n",
              " 'learning_rate': None,\n",
              " 'max_delta_step': None,\n",
              " 'max_depth': None,\n",
              " 'min_child_weight': None,\n",
              " 'missing': nan,\n",
              " 'monotone_constraints': None,\n",
              " 'n_estimators': 100,\n",
              " 'n_jobs': None,\n",
              " 'num_parallel_tree': None,\n",
              " 'predictor': None,\n",
              " 'random_state': None,\n",
              " 'reg_alpha': None,\n",
              " 'reg_lambda': None,\n",
              " 'scale_pos_weight': None,\n",
              " 'subsample': None,\n",
              " 'tree_method': None,\n",
              " 'validate_parameters': None,\n",
              " 'verbosity': None}"
            ]
          },
          "execution_count": 79,
          "metadata": {},
          "output_type": "execute_result"
        }
      ],
      "source": [
        "clf.get_params()"
      ]
    },
    {
      "cell_type": "code",
      "execution_count": null,
      "id": "23b10001-bf87-4632-a88d-9beb38f673dc",
      "metadata": {
        "id": "23b10001-bf87-4632-a88d-9beb38f673dc"
      },
      "outputs": [],
      "source": [
        "clf = XGBClassifier(objective=\"multi:softmax\"\n",
        "                    , eval_metric=\"mlogloss\" #设置评估指标避免警告\n",
        "                    , num_class = 10\n",
        "                  #  , use_label_encoder=False\n",
        "                   ) "
      ]
    },
    {
      "cell_type": "code",
      "execution_count": null,
      "id": "f0bc08b6-e66c-4e8f-b290-90d8117b3ff0",
      "metadata": {
        "id": "f0bc08b6-e66c-4e8f-b290-90d8117b3ff0"
      },
      "outputs": [],
      "source": [
        "clf = clf.fit(X_multi,y_multi)"
      ]
    },
    {
      "cell_type": "code",
      "execution_count": null,
      "id": "6d60420f-5b45-41fc-a92a-7f096042d40d",
      "metadata": {
        "id": "6d60420f-5b45-41fc-a92a-7f096042d40d",
        "outputId": "4a3ea428-332d-49af-afaa-ffc417b33870"
      },
      "outputs": [
        {
          "data": {
            "text/plain": [
              "array([0, 1, 2, ..., 8, 9, 8])"
            ]
          },
          "execution_count": 179,
          "metadata": {},
          "output_type": "execute_result"
        }
      ],
      "source": [
        "clf.predict(X_multi) #输出具体数值 - 具体的预测类别"
      ]
    },
    {
      "cell_type": "code",
      "execution_count": null,
      "id": "e53bbb91-0e43-4233-a371-fc0c4227c0e0",
      "metadata": {
        "id": "e53bbb91-0e43-4233-a371-fc0c4227c0e0",
        "outputId": "fcab9729-2f34-4a6c-a071-a05be2eb653d"
      },
      "outputs": [
        {
          "data": {
            "text/plain": [
              "(1797, 10)"
            ]
          },
          "execution_count": 87,
          "metadata": {},
          "output_type": "execute_result"
        }
      ],
      "source": [
        "clf.predict_proba(X_multi).shape #输出概率值"
      ]
    },
    {
      "cell_type": "code",
      "execution_count": null,
      "id": "5c665e25-bd8c-4585-8e67-55aeddee2f72",
      "metadata": {
        "id": "5c665e25-bd8c-4585-8e67-55aeddee2f72",
        "outputId": "95236978-a255-4e3e-a285-3e8b65645b05"
      },
      "outputs": [
        {
          "data": {
            "text/plain": [
              "1.0"
            ]
          },
          "execution_count": 181,
          "metadata": {},
          "output_type": "execute_result"
        }
      ],
      "source": [
        "clf.score(X_multi,y_multi) #虽然设置了评估指标，但score接口还是准确率"
      ]
    },
    {
      "cell_type": "markdown",
      "id": "1fee3d41-c99c-4d81-95a0-fb721ca81c60",
      "metadata": {
        "id": "1fee3d41-c99c-4d81-95a0-fb721ca81c60"
      },
      "source": [
        "到这里，你已经基本掌握了xgboost建模的代码。如果你没有提升模型的需求，只需要跑通代码结果，那这部分内容就足够你使用了。从下一部分开始，我们将详细讲解xgboost中涉及到的所有重要参数。"
      ]
    },
    {
      "cell_type": "markdown",
      "id": "c2fad9b5-2370-4ab3-bb17-029c653835fc",
      "metadata": {
        "id": "c2fad9b5-2370-4ab3-bb17-029c653835fc"
      },
      "source": [
        "  "
      ]
    },
    {
      "cell_type": "markdown",
      "id": "625c67ce-cff5-4c41-8628-64977bb2a82e",
      "metadata": {
        "tags": [],
        "id": "625c67ce-cff5-4c41-8628-64977bb2a82e"
      },
      "source": [
        "# 二 XGBoost的参数"
      ]
    },
    {
      "cell_type": "markdown",
      "id": "50adae40-02ec-4058-829f-3cb638d14c4e",
      "metadata": {
        "id": "50adae40-02ec-4058-829f-3cb638d14c4e"
      },
      "source": [
        "在之前的课程当中，我们已经认识了几个xgboost的参数，包括设置迭代次数的`num_boost_round`，设置损失函数的`objective`，设置评估指标的`eval_matric`，以及设置多分类类别数的`num_class`。这些参数有些是在params中设置的参数，有些是需要在方法`.train`或者`.cv`中设置的参数，但这些参数只是xgboost参数的九牛一毛。由于xgboost本身是一个复杂的算法系统，其超参数的数量十分惊人，我已经将可能用到的参数总结在了如下表格当中，其中标注为绿色的是我们未曾学过、或必须讲解的重要参数。"
      ]
    },
    {
      "cell_type": "markdown",
      "id": "5bfc57d9-f2df-4497-9efc-9920776e7231",
      "metadata": {
        "id": "5bfc57d9-f2df-4497-9efc-9920776e7231"
      },
      "source": [
        "|类型|参数|\n",
        "|-|-|\n",
        "|**迭代过程/目标函数**|**params**: eta, base_score, objective, <font color=\"green\">**lambda, gamma, alpha, max_delta_step**</font><br>**xgb.train()**: num_boost_round|\n",
        "|**弱评估器结构**|**params**: max_depth, <font color=\"green\">**booster, min_child_weight**</font>|\n",
        "|**dart树**|**params**: <font color=\"green\">**sample_type, normalized_type, rate_drop, one_drop, skip_drop**</font>|\n",
        "|**弱评估器的训练数据**|**params**: subsample, <font color=\"green\">**sampling_method, colsamle_bytree, colsample_bylevel, colsample_bynode**</font>|\n",
        "|**提前停止**|**xgb.train()**: <font color=\"green\">**early_stopping_rounds, evals**</font>, eval_metric|\n",
        "|**其他**|**params**: seed, <font color=\"green\">**verbosity, scale_pos_weight, nthread**</font>|"
      ]
    },
    {
      "cell_type": "markdown",
      "id": "2d5c4666-0e67-46fe-aa81-e3cfbb806c83",
      "metadata": {
        "id": "2d5c4666-0e67-46fe-aa81-e3cfbb806c83"
      },
      "source": [
        "需要的时，在实现xgboost的两种方式中（原生代码与sklearn API），参数的名称可能不同。**在后续课程当中，我将会持续使用原生代码进行讲解，并附上该参数在sklearn API下的名称**。有的参数可能只能在原生代码中使用，如果出现该情况，则会特殊标注出来。在后续案例课程当中，我们将会大量使用xgboost的原生代码，强烈建议以xgboost原生代码为核心进行学习，如果你考虑继续使用sklearn API，可以参考之前课程中所有适用于sklearn的代码，大部分代码都适用。"
      ]
    },
    {
      "cell_type": "markdown",
      "id": "5348c276-83c8-4ef8-b635-b59f499719be",
      "metadata": {
        "id": "5348c276-83c8-4ef8-b635-b59f499719be"
      },
      "source": [
        "## 1 迭代过程\n",
        "\n",
        "### 1.1 迭代次数/学习率/初始$H_0$/最大迭代值\n",
        "\n",
        "作为Boosting算法，XGBoost的迭代流程与GBDT高度相似，因此XGBoost自然而然也有设置具体迭代次数的参数`num_boost_round`、学习率参数`eta`以及设置初始迭代值的`base_score`。\n",
        "\n",
        "具体地来说，对于样本$x_i$，集成算法当中一共有$K$棵树，则参数`num_boost_round`的取值为K。假设现在正在建立第$k$个弱评估器，则第$k$个弱评估器上$x_i$的结果可以表示为$f_k(x_i)$。假设整个Boosting算法对样本$x_i$输出的结果为$H(x_i)$，则该结果一般可以被表示为k=1~k=K过程当中，所有弱评估器结果的加权求和：\n",
        "\n",
        "$$H(x_i) =  \\sum_{k=1}^\\boldsymbol{\\color{red}K}\\phi_kf_k(x_i)$$\n",
        "\n",
        "其中，$\\phi_k$为第k棵树的权重。特别的，XGBoost算法不计算树权重，因此XGBoost的输出结果为：\n",
        "\n",
        "$$H(x_i) =  \\sum_{k=1}^\\boldsymbol{\\color{red}K}f_k(x_i)$$\n",
        "\n",
        "对于第$k$次迭代来说，则有：\n",
        "\n",
        "$$H_k(x_i) = H_{k-1}(x_i) + f_k(x_i)$$\n",
        "\n",
        "在这个一般过程中，每次将本轮建好的决策树加入之前的建树结果时，可以增加参数$\\color{red}\\eta$，表示为第k棵树加入整体集成算法时的学习率，对标参数`eta`。\n",
        "\n",
        "$$H_k(x_i) = H_{k-1}(x_i) + \\boldsymbol{\\color{red}\\eta} f_k(x_i)$$\n",
        "\n",
        "该学习率参数控制Boosting集成过程中$H(x_i)$的增长速度，是相当关键的参数。当学习率很大时，$H(x_i)$增长得更快，我们所需的`num_boost_round`更少，当学习率较小时，$H(x_i)$增长较慢，我们所需的`num_boost_round`就更多，因此boosting算法往往会需要在`num_boost_round`与`eta`中做出权衡。在XGBoost当中，`num_boost_round`的默认值为10，`eta`的默认值为0.3，如果你熟悉GBDT算法，那你也一定熟悉这两个参数，故此不再赘述。\n",
        "\n",
        "- 参数`base_score`\n",
        "\n",
        "在上述过程中，我们建立第一个弱评估器时有：\n",
        "\n",
        "$$H_1(x_i) = H_{0}(x_i) + \\eta f_1(x_i)$$\n",
        "\n",
        "由于没有第0棵树的存在，因此$H_0(x_i)$的值在数学过程及算法具体实现过程中都需要进行单独的确定，而这个值就由`base_score`确定。在xgboost中，我们可以对`base_score`输出**任何数值**，但并不支持类似于GBDT当中输入评估器的操作。当不填写时，该参数的默认值为0.5，即对所有样本都设置0.5为起始值。当迭代次数足够多、数据量足够大时，调整算法的$H_0(x_i)$意义不大，因此我们基本不会调整这个参数。\n",
        "\n",
        "- 参数`max_delta_step`\n",
        "\n",
        "在迭代过程当中，XGBoost有一个独特的参数`max_delta_step`。这个参数代表了每次迭代时被允许的最大$\\eta f_k(x_i)$。当参数`max_delta_step`被设置为0，则说明不对每次迭代的$\\eta f_k(x_i)$大小做限制，如果该参数被设置为正数C，则代表$\\eta f_k(x_i) \\leq C$，否则就让算法执行：\n",
        "\n",
        "$$H_k(x_i) = H_{k-1}(x_i) + C$$\n",
        "\n",
        "通常来说这个参数是不需要的，但有时候这个参数会对极度不均衡的数据有效。如果样本极度不均衡，那可以尝试在这个参数中设置1~10左右的数。\n",
        "\n",
        "总结：\n",
        "\n",
        "|参数含义|原生代码|sklearn API|\n",
        "|:-:|:-:|:-:|\n",
        "|迭代次数/树的数量|**num_boost_round**<br>(xgb.train)|**n_estimators**|\n",
        "|学习率|**eta**<br>(params)|**learning_rate**|\n",
        "|初始迭代值|**base_score**<br>(params)|**base_score**|\n",
        "|一次迭代中所允许的最大迭代值|**max_delta_step**<br>(params)|**max_delta_step**|\n",
        "\n",
        "注意，在XGBoost原生论文当中使用$\\Phi(x)$作为树输出结果的表示，并且让$f(x) = \\eta \\Phi(x)$，并且全程避免了使用字母$H$，因为在xgboost的体系当中，字母$H$代表着相当重要的另一个存在。在我们的课程中，为与之前的课程保持一致，我们还是使用$H(x)$来表示最终模型的输出结果，$f(x)$作为树输出结果的表示，并将学习率$\\eta$单独呈现，但在阅读XGBoost原论文时，注意避免混淆。"
      ]
    },
    {
      "cell_type": "markdown",
      "id": "6f46faea-6659-4ca0-adef-0d62c10af2f5",
      "metadata": {
        "id": "6f46faea-6659-4ca0-adef-0d62c10af2f5"
      },
      "source": [
        "### 1.2 xgboost的目标函数"
      ]
    },
    {
      "cell_type": "markdown",
      "id": "23ab713b-5a37-4f48-9f28-1e263658533d",
      "metadata": {
        "id": "23ab713b-5a37-4f48-9f28-1e263658533d"
      },
      "source": [
        "在之前的课程当中，我们已经简单介绍过xgboost常用的几种损失函数。与GBDT一样，xgboost的损失函数理论上可以推广到任意可微函数，因此只要是我们在之前的课程中介绍过的损失函数都可以被用于xgboost。但与GBDT不同的是，xgboost并不向着损失函数最小化的方向运行，而是如我们在前面所提到的，**xgboost向着令目标函数最小化的方向运行**。\n",
        "\n",
        "需要注意的是，损失函数可以针对单个样本进行计算，也可以针对整个算法进行计算，**但在XGBoost的定义中，目标函数是针对每一棵树的，而不是针对一个样本或整个算法**。对任意树$f_k$来说，目标函数有两个组成部分，一部分是任意可微的损失函数，它控制模型的**经验风险**。从数值上来说，它等于现在树上所有样本上损失函数之和，其中单一样本的损失为$l(y_i,\\hat{y_i})$。另一部分是控制模型复杂度的$\\Omega(f_k)$，它控制当前树的**结构风险**。<br>\n",
        "\n",
        "<center>$Obj_k = \\sum_{i=1}^Ml(y_i,\\hat{y_i}) + \\Omega(f_k)$</center><br>\n",
        "\n",
        "其中$M$表示现在这棵树上一共使用了M个样本，$l$表示单一样本的损失函数。当模型迭代完毕之后，最后一棵树上的目标函数就是整个XGBoost算法的目标函数。\n",
        "\n",
        "- **经验风险**：模型对数据学习越深入，损失越小（经验风险越小），模型对数据学习得越浅显，损失越大（经验风险越大）。\n",
        "\n",
        "- **结构风险**：树结构越复杂、模型复杂度越高，过拟合风险越大（结构风险越大）。树模型结构越简单、模型复杂度越低、过拟合风险越小（结构风险越小）。\n",
        "\n",
        "通常来说，模型需要达到一定的复杂度，才能保证较小的损失，但如果只追求最小的经验风险，反而容易导致过拟合。相对的，如果只追求模型复杂度低、结构风险低，那模型又容易陷入欠拟合的困局、损失函数过高，因此平衡结构风险与经验风险十分关键。XGBoost向着目标函数最小化的方向运行，可以保证在迭代过程中，经验风险和结构风险都不会变得太大，因此模型的损失不会太大、同时又不会太容易过拟合。这一目标函数的设计可谓相当聪明。"
      ]
    },
    {
      "cell_type": "code",
      "execution_count": null,
      "id": "014ec6d8-ba8f-4701-ab18-cba2209eb647",
      "metadata": {
        "id": "014ec6d8-ba8f-4701-ab18-cba2209eb647",
        "outputId": "cb2278ea-e712-466b-e40d-7baaf08383bc"
      },
      "outputs": [
        {
          "data": {
            "text/plain": [
              "count      1460.000000\n",
              "mean     180921.195890\n",
              "std       79442.502883\n",
              "min       34900.000000\n",
              "25%      129975.000000\n",
              "50%      163000.000000\n",
              "75%      214000.000000\n",
              "max      755000.000000\n",
              "Name: SalePrice, dtype: float64"
            ]
          },
          "execution_count": 88,
          "metadata": {},
          "output_type": "execute_result"
        }
      ],
      "source": [
        "y.describe()"
      ]
    },
    {
      "cell_type": "markdown",
      "id": "dbbdeb6a-5013-4930-9375-822d04771847",
      "metadata": {
        "id": "dbbdeb6a-5013-4930-9375-822d04771847"
      },
      "source": [
        "在具体的公式当中，结构风险$\\Omega(f_k)$又由两部分组成，一部分是控制树结构的$\\gamma T$，另一部分则是正则项：\n",
        "\n",
        "<center>$\\Omega(f_k) = \\boldsymbol{\\color{red}\\gamma} T + \\frac{1}{2}\\boldsymbol{\\color{red}\\lambda}\\sum_{j=1}^Tw_j^2 + \\boldsymbol{\\color{red}\\alpha}\\sum_{j=1}^Tw_j$</center><br>\n",
        "\n",
        "其中$\\gamma$，$\\lambda$与$\\alpha$都是可以自由设置的系数，而$T$表示当前第$k$棵树上的叶子总量，$w_j$则代表当前树上第$j$片叶子的叶子权重（leaf weights）。**叶子权重是XGBoost数学体系中非常关键的一个因子，它实际上就是当前叶子$j$的预测值**，这一指标与数据的标签量纲有较大的关系，因此当标签的绝对值较大、$w_j$值也会倾向于越大。因此正则项有两个：使用平方的L2正则项与使用绝对值的L1正则项，因此完整的目标函数表达式为：\n",
        "\n",
        "$$Obj_k = \\sum_{i=1}^Ml(y_i,\\hat{y_i}) + \\boldsymbol{\\color{red}\\gamma} T + \\frac{1}{2}\\boldsymbol{\\color{red}\\lambda}\\sum_{j=1}^Tw_j^2 + \\boldsymbol{\\color{red}\\alpha}\\sum_{j=1}^Tw_j$$\n",
        "\n",
        "不难发现，所有可以自由设置的系数都与结构风险有关，这三个系数也正对应着xgboost中的三个参数：`gamma`，`alpha`与`lambda`。\n",
        "\n",
        "- 参数`gamma`：乘在一棵树的叶子总量$T$之前，依照叶子总量对目标函数施加惩罚的系数，默认值为0，可填写任何[0, ∞]之间的数字。当叶子总量固定时，`gamma`越大，结构风险项越大；同时，当`gamma`不变时，叶子总量越多、模型复杂度越大，结构风险项也会越大。在以上两种情况下，目标函数受到的惩罚都会越大，因此**调大`gamma`可以控制过拟合**。<br><br>\n",
        "- 参数`alpha`与`lambda`：乘在正则项之前，依照叶子权重的大小对目标函数施加惩罚的系数，也就是正则项系数。`lambda`的默认值为1，`alpha`的默认值为0，因此xgboost默认使用L2正则化。通常来说，我们不会同时使用两个正则化，但我们也可以尝试这么做。$\\sum_{j=1}^Tw_j$是当前树上所有叶子的输出值之和，因此当树上的叶子越多、模型复杂度越大时，$\\sum_{j=1}^Tw_j$自然的数值自然会更大，因此当正则项系数固定时，模型复杂度越高，对整体目标函数的惩罚就越重。当$w$固定时，正则项系数越大，整体目标函数越大，因此**调大`alpha`或`lambda`可以控制过拟合**。"
      ]
    },
    {
      "cell_type": "markdown",
      "id": "f858f4ed-1c84-4a19-b022-f7ca92a11b27",
      "metadata": {
        "id": "f858f4ed-1c84-4a19-b022-f7ca92a11b27"
      },
      "source": [
        "|参数含义|原生代码|sklearn API|\n",
        "|:-:|:-:|:-:|\n",
        "|乘在叶子节点数量前的系数|**gamma**<br>(params)|**gamma**|\n",
        "|L2正则项系数|**lambda**<br>(params)|**reg_lambda**|\n",
        "|L1正则项系数|**alpha**<br>(params)|**reg_alpha**|"
      ]
    },
    {
      "cell_type": "markdown",
      "id": "0ac25ae0-adb7-4c4b-8abc-228fa8592b93",
      "metadata": {
        "id": "0ac25ae0-adb7-4c4b-8abc-228fa8592b93"
      },
      "source": [
        "然而，在实际控制过拟合的过程中，大家可能经常会发现这几个参数“无效”。比如我们可以看到："
      ]
    },
    {
      "cell_type": "code",
      "execution_count": null,
      "id": "14c3ec3e-5a3e-4915-b42d-a9fda0562837",
      "metadata": {
        "id": "14c3ec3e-5a3e-4915-b42d-a9fda0562837",
        "outputId": "c2f62eaf-ad2d-42e3-a61f-b3a457e67848"
      },
      "outputs": [
        {
          "data": {
            "text/plain": [
              "train-rmse-mean     2362.659668\n",
              "train-rmse-std       218.221383\n",
              "test-rmse-mean     28623.220313\n",
              "test-rmse-std       7526.333222\n",
              "Name: 99, dtype: float64"
            ]
          },
          "execution_count": 19,
          "metadata": {},
          "output_type": "execute_result"
        }
      ],
      "source": [
        "import xgboost as xgb\n",
        "\n",
        "data_xgb = xgb.DMatrix(X,y)\n",
        "params_default = {\"max_depth\":5,\"seed\":1412}\n",
        "result_default = xgb.cv(params_default,data_xgb,num_boost_round=100\n",
        "                ,nfold=5 #补充交叉验证中所需的参数，nfold=5表示5折交叉验证\n",
        "                ,seed=1412 #交叉验证的随机数种子，params中的是管理boosting过程的随机数种子\n",
        "               )\n",
        "result_default.iloc[-1,:]"
      ]
    },
    {
      "cell_type": "code",
      "execution_count": null,
      "id": "bdc858f6-5b73-40ad-a8ab-538bdc545758",
      "metadata": {
        "id": "bdc858f6-5b73-40ad-a8ab-538bdc545758"
      },
      "outputs": [],
      "source": [
        "#定义一个函数，用来检测模型迭代完毕后的过拟合情况\n",
        "def overfitcheck(result):\n",
        "    return (result.iloc[-1,2] - result.iloc[-1,0]).min()"
      ]
    },
    {
      "cell_type": "code",
      "execution_count": null,
      "id": "1f84fe6c-811f-4b9a-8565-a12df1821763",
      "metadata": {
        "id": "1f84fe6c-811f-4b9a-8565-a12df1821763",
        "outputId": "3fe8554b-88fa-4e7a-e71d-4e0f19585bf2"
      },
      "outputs": [
        {
          "data": {
            "text/plain": [
              "26260.560644800004"
            ]
          },
          "execution_count": 26,
          "metadata": {},
          "output_type": "execute_result"
        }
      ],
      "source": [
        "overfitcheck(result_default)"
      ]
    },
    {
      "cell_type": "code",
      "execution_count": null,
      "id": "795d9855-9ab1-4f6a-80a6-a2d15e622221",
      "metadata": {
        "id": "795d9855-9ab1-4f6a-80a6-a2d15e622221",
        "outputId": "bd81b513-7632-48ca-d9fc-dbd08a5942f9"
      },
      "outputs": [
        {
          "data": {
            "image/png": "[encoded data removed]",
            "text/plain": [
              "<Figure size 432x288 with 1 Axes>"
            ]
          },
          "metadata": {
            "needs_background": "light"
          },
          "output_type": "display_data"
        }
      ],
      "source": [
        "train = []\n",
        "test = []\n",
        "gamma = np.arange(0,10,1)\n",
        "overfit = []\n",
        "for i in gamma:\n",
        "    params = {\"max_depth\":5,\"seed\":1412,\"eta\":0.1\n",
        "              ,\"gamma\":float(i)\n",
        "             }\n",
        "    result = xgb.cv(params,data_xgb,num_boost_round=100\n",
        "                ,nfold=5 #补充交叉验证中所需的参数，nfold=5表示5折交叉验证\n",
        "                ,seed=1412 #交叉验证的随机数种子，params中的是管理boosting过程的随机数种子\n",
        "               )\n",
        "    overfit.append(overfitcheck(result))\n",
        "    train.append(result.iloc[-1,0])\n",
        "    test.append(result.iloc[-1,2])\n",
        "plt.plot(gamma,overfit);"
      ]
    },
    {
      "cell_type": "markdown",
      "id": "40677339-689e-4519-af9a-c76e43cddb1c",
      "metadata": {
        "id": "40677339-689e-4519-af9a-c76e43cddb1c"
      },
      "source": [
        "绘制gamma与train的图像再观察："
      ]
    },
    {
      "cell_type": "code",
      "execution_count": null,
      "id": "b39c8d77-0562-4b0a-8fdf-e1f8d790e77e",
      "metadata": {
        "id": "b39c8d77-0562-4b0a-8fdf-e1f8d790e77e",
        "outputId": "bd9f9c66-e076-4e57-9c4f-821067b4abf6"
      },
      "outputs": [
        {
          "data": {
            "image/png": "[encoded data removed]",
            "text/plain": [
              "<Figure size 432x288 with 1 Axes>"
            ]
          },
          "metadata": {
            "needs_background": "light"
          },
          "output_type": "display_data"
        }
      ],
      "source": [
        "plt.plot(gamma,train);"
      ]
    },
    {
      "cell_type": "markdown",
      "id": "5472c3c0-cc4b-425a-9a85-28ebb77bd528",
      "metadata": {
        "id": "5472c3c0-cc4b-425a-9a85-28ebb77bd528"
      },
      "source": [
        "如上所示，训练集结果纹丝不动，过拟合程度也纹丝不动。这是不是`gamma`失效了呢？实际上，**对于没有上限或下限的参数，我们要关注参数的敏感度。**如果参数值稍稍移动，模型就变化很大，那参数敏感，如果参数值移动很多，模型才能有变化，那参数不敏感。当树的结构相对复杂时，`gamma`会比敏感，否则`gamma`可能非常迟钝。当原始标签数值很大、且叶子数量不多时，`lambda`和`alpha`就会敏感，如果原始标签数值很小，这两个参数就不敏感。因此在使用这些参数之前，最好先对参数的敏感程度有一个探索，这里很容易看到：\n",
        "\n",
        "- 当前树结构不复杂，`gamma`不敏感"
      ]
    },
    {
      "cell_type": "code",
      "execution_count": null,
      "id": "d2cf8c9f-b938-4251-98c4-cc57320ea25f",
      "metadata": {
        "id": "d2cf8c9f-b938-4251-98c4-cc57320ea25f"
      },
      "outputs": [],
      "source": [
        "train = []\n",
        "test = []\n",
        "gamma = np.arange(0,10000000,1000000)\n",
        "overfit = []\n",
        "for i in gamma:\n",
        "    params = {\"max_depth\":5,\"seed\":1412,\"eta\":0.1\n",
        "              ,\"gamma\":float(i)\n",
        "              #,\"lambda\":400\n",
        "             }\n",
        "    result = xgb.cv(params,data_xgb,num_boost_round=100\n",
        "                ,nfold=5 #补充交叉验证中所需的参数，nfold=5表示5折交叉验证\n",
        "                ,seed=1412 #交叉验证的随机数种子，params中的是管理boosting过程的随机数种子\n",
        "               )\n",
        "    overfit.append(overfitcheck(result))\n",
        "    train.append(result.iloc[-1,0])\n",
        "    test.append(result.iloc[-1,2])"
      ]
    },
    {
      "cell_type": "code",
      "execution_count": null,
      "id": "1d580639-4ad9-4f44-ad7e-b05e5261dd95",
      "metadata": {
        "id": "1d580639-4ad9-4f44-ad7e-b05e5261dd95",
        "outputId": "10969653-fc07-40ea-8ee2-a5d3aca6cef2"
      },
      "outputs": [
        {
          "data": {
            "image/png": "[encoded data removed]",
            "text/plain": [
              "<Figure size 432x288 with 1 Axes>"
            ]
          },
          "metadata": {
            "needs_background": "light"
          },
          "output_type": "display_data"
        }
      ],
      "source": [
        "plt.plot(gamma,train);"
      ]
    },
    {
      "cell_type": "code",
      "execution_count": null,
      "id": "8f92ac28-09ca-4ed4-8dc4-3e9bece12e21",
      "metadata": {
        "id": "8f92ac28-09ca-4ed4-8dc4-3e9bece12e21",
        "outputId": "01fef472-1d74-412a-ae68-9934467462c1"
      },
      "outputs": [
        {
          "data": {
            "image/png": "[encoded data removed]",
            "text/plain": [
              "<Figure size 432x288 with 1 Axes>"
            ]
          },
          "metadata": {
            "needs_background": "light"
          },
          "output_type": "display_data"
        }
      ],
      "source": [
        "plt.plot(gamma,test,color=\"red\");"
      ]
    },
    {
      "cell_type": "code",
      "execution_count": null,
      "id": "0175a1ed-ab29-4b7e-8451-88fcf6c4cc74",
      "metadata": {
        "id": "0175a1ed-ab29-4b7e-8451-88fcf6c4cc74",
        "outputId": "6525d21d-718c-4e82-c569-f6e71a83640e"
      },
      "outputs": [
        {
          "data": {
            "image/png": "[encoded data removed]",
            "text/plain": [
              "<Figure size 432x288 with 1 Axes>"
            ]
          },
          "metadata": {
            "needs_background": "light"
          },
          "output_type": "display_data"
        }
      ],
      "source": [
        "plt.plot(gamma,overfit,color=\"orange\");"
      ]
    },
    {
      "cell_type": "markdown",
      "id": "3caa7429-8c38-4a00-a106-2de20a50f5bd",
      "metadata": {
        "id": "3caa7429-8c38-4a00-a106-2de20a50f5bd"
      },
      "source": [
        "`gamma`控制过拟合的最好成绩："
      ]
    },
    {
      "cell_type": "code",
      "execution_count": null,
      "id": "a400d667-6afb-4285-bec9-d31faaf91049",
      "metadata": {
        "id": "a400d667-6afb-4285-bec9-d31faaf91049",
        "outputId": "40fa16ee-beba-432a-a7c7-4ea279181545"
      },
      "outputs": [
        {
          "data": {
            "text/plain": [
              "20554.4015628"
            ]
          },
          "execution_count": 35,
          "metadata": {},
          "output_type": "execute_result"
        }
      ],
      "source": [
        "min(overfit)"
      ]
    },
    {
      "cell_type": "markdown",
      "id": "1555dba5-4a7f-497b-857d-32c779f11321",
      "metadata": {
        "id": "1555dba5-4a7f-497b-857d-32c779f11321"
      },
      "source": [
        "- 当前标签值较大，因此预测标签的值也较大，`lambda`会更敏感"
      ]
    },
    {
      "cell_type": "code",
      "execution_count": null,
      "id": "fed77c1a-6d9b-493f-91a6-d91c9c321906",
      "metadata": {
        "id": "fed77c1a-6d9b-493f-91a6-d91c9c321906",
        "outputId": "63340ea6-9ac2-4b81-dee9-6c97ec863c06"
      },
      "outputs": [
        {
          "data": {
            "text/plain": [
              "count      1460.000000\n",
              "mean     180921.195890\n",
              "std       79442.502883\n",
              "min       34900.000000\n",
              "25%      129975.000000\n",
              "50%      163000.000000\n",
              "75%      214000.000000\n",
              "max      755000.000000\n",
              "Name: SalePrice, dtype: float64"
            ]
          },
          "execution_count": 303,
          "metadata": {},
          "output_type": "execute_result"
        }
      ],
      "source": [
        "y.describe()"
      ]
    },
    {
      "cell_type": "code",
      "execution_count": null,
      "id": "ccca4e35-02fc-4913-88cf-9f59e5f62b25",
      "metadata": {
        "id": "ccca4e35-02fc-4913-88cf-9f59e5f62b25"
      },
      "outputs": [],
      "source": [
        "train = []\n",
        "test = []\n",
        "lambda_ = np.arange(1,2,0.1)\n",
        "overfit = []\n",
        "for i in lambda_:\n",
        "    params = {\"max_depth\":5,\"seed\":1412,\"eta\":0.1\n",
        "              ,\"lambda\":float(i)\n",
        "             }\n",
        "    result = xgb.cv(params,data_xgb,num_boost_round=100\n",
        "                ,nfold=5 #补充交叉验证中所需的参数，nfold=5表示5折交叉验证\n",
        "                ,seed=1412 #交叉验证的随机数种子，params中的是管理boosting过程的随机数种子\n",
        "               )\n",
        "    overfit.append(overfitcheck(result))\n",
        "    train.append(result.iloc[-1,0])\n",
        "    test.append(result.iloc[-1,2])"
      ]
    },
    {
      "cell_type": "code",
      "execution_count": null,
      "id": "75815cfa-1f11-4409-9900-42a15d4408db",
      "metadata": {
        "id": "75815cfa-1f11-4409-9900-42a15d4408db",
        "outputId": "62b54171-ddcb-4f0a-da04-0c22d82c99a0"
      },
      "outputs": [
        {
          "data": {
            "image/png": "[encoded data removed]",
            "text/plain": [
              "<Figure size 432x288 with 1 Axes>"
            ]
          },
          "metadata": {
            "needs_background": "light"
          },
          "output_type": "display_data"
        }
      ],
      "source": [
        "plt.plot(lambda_,train);"
      ]
    },
    {
      "cell_type": "code",
      "execution_count": null,
      "id": "a0bb3ed7-a219-49e4-9956-ce76aa522f7a",
      "metadata": {
        "id": "a0bb3ed7-a219-49e4-9956-ce76aa522f7a",
        "outputId": "075fbb93-7ef4-493a-846c-9fcb954ffb76"
      },
      "outputs": [
        {
          "data": {
            "image/png": "[encoded data removed]",
            "text/plain": [
              "<Figure size 432x288 with 1 Axes>"
            ]
          },
          "metadata": {
            "needs_background": "light"
          },
          "output_type": "display_data"
        }
      ],
      "source": [
        "plt.plot(lambda_,test,color=\"red\");"
      ]
    },
    {
      "cell_type": "code",
      "execution_count": null,
      "id": "812852f7-7176-48a3-aeef-ced558bf6b47",
      "metadata": {
        "id": "812852f7-7176-48a3-aeef-ced558bf6b47",
        "outputId": "fadf4596-9aa9-47bb-f9c3-8257c201dff4"
      },
      "outputs": [
        {
          "data": {
            "image/png": "[encoded data removed]",
            "text/plain": [
              "<Figure size 432x288 with 1 Axes>"
            ]
          },
          "metadata": {
            "needs_background": "light"
          },
          "output_type": "display_data"
        }
      ],
      "source": [
        "plt.plot(lambda_,overfit,color=\"orange\");"
      ]
    },
    {
      "cell_type": "markdown",
      "id": "e3eb74b5-e5a4-403d-bdca-8700d9506ea9",
      "metadata": {
        "id": "e3eb74b5-e5a4-403d-bdca-8700d9506ea9"
      },
      "source": [
        "`lambda`控制过拟合的最好成绩："
      ]
    },
    {
      "cell_type": "code",
      "execution_count": null,
      "id": "eb69c309-2daa-462d-bd86-c563b22e91ae",
      "metadata": {
        "id": "eb69c309-2daa-462d-bd86-c563b22e91ae",
        "outputId": "2ad33f50-fcea-42c9-9017-e9992aa9043b"
      },
      "outputs": [
        {
          "data": {
            "text/plain": [
              "19564.888281400003"
            ]
          },
          "execution_count": 43,
          "metadata": {},
          "output_type": "execute_result"
        }
      ],
      "source": [
        "min(overfit)"
      ]
    },
    {
      "cell_type": "markdown",
      "id": "17268712-87ae-42ca-a239-d9d0a30776e6",
      "metadata": {
        "id": "17268712-87ae-42ca-a239-d9d0a30776e6"
      },
      "source": [
        "可见，现在`lambda`比`gamma`有效。当然，在实际使用时，并不是在所有数据情况下都如此，需要根据具体情况具体分析。因此在使用和调节这些参数时，要先考虑适合的参数范围，否则再多的搜索也是无用。总结一下，在整个迭代过程中，我们涉及到了如下参数：\n",
        "\n",
        "|类型|参数|\n",
        "|---|---|\n",
        "|**迭代过程/损失函数**|num_boost_round：集成算法中弱分类器数量，对Boosting算法而言为实际迭代次数<br><br>eta：Boosting算法中的学习率，影响弱分类器结果的加权求和过程<br><br><font color=\"green\">**objective**</font>：选择需要优化的损失函数<br><br><font color=\"green\">**base_score**</font>：初始化预测结果$H_0$的设置<br><br><font color=\"green\">**max_delta_step**</font>：一次迭代中所允许的最大迭代值<br><br><font color=\"green\">**gamma**</font>：乘在叶子数量前的系数，放大可控制过拟合<br><br><font color=\"green\">**lambda**</font>：L2正则项系数，放大可控制过拟合<br><br><font color=\"green\">**alpha**</font>：L1正则项系数，放大可控制过拟合|"
      ]
    },
    {
      "cell_type": "markdown",
      "id": "88566ae3-39b9-42a8-89c6-092db5bf9a5f",
      "metadata": {
        "tags": [],
        "id": "88566ae3-39b9-42a8-89c6-092db5bf9a5f"
      },
      "source": [
        "## 2 XGBoost的弱评估器\n",
        "\n",
        "### 2.1 三大评估器与DART树"
      ]
    },
    {
      "cell_type": "markdown",
      "id": "80308e5a-dc16-4c5d-a7a8-7c73967043da",
      "metadata": {
        "id": "80308e5a-dc16-4c5d-a7a8-7c73967043da"
      },
      "source": [
        "梯度提升算法当中不只有梯度提升树，也可集成其他模型作为弱评估器，而作为梯度提升树进化版的XGBoost算法，自然也不是只有CART树一种弱评估器。在XGBoost当中，我们还可以选型线性模型，比如线性回归或逻辑回归来集成，同时还可以选择与CART树有区别的另一种树：DART树。在XGBoost当中，我们使用参数`booster`来控制我们所使用的具体弱评估器。\n",
        "\n",
        "- 参数`booster`：使用哪种弱评估器。\n",
        "> 可以输入\"gbtree\"、\"gblinear\"或者\"dart\"。<br><br>\n",
        "> 输入\"gbtree\"表示使用遵循XGBoost规则的CART树，我们之前提到的XGBoost在GBDT上做出的改善基本都是针对这一类型的树。这一类型的树又被称为“XGBoost独有树”，XGBoost Unique Tree。<br><br>\n",
        "> 输入\"dart\"表示使用抛弃提升树，DART是Dropout Multiple Additive Regression Tree的简称。这种建树方式受深度学习中的Dropout技巧启发，在建树过程中会随机抛弃一些树的结果，可以更好地防止过拟合。在数据量巨大、过拟合容易产生时，DART树经常被使用，但由于会随机地抛弃到部分树，可能会伤害模型的学习能力，同时可能会需要更长的迭代时间。<br><br>\n",
        "> 输入\"gblinear\"则表示使用线性模型，当弱评估器类型是\"gblinear\"而损失函数是MSE时，表示使用xgboost方法来集成线性回归。当弱评估器类型是\"gblinear\"而损失函数是交叉熵损失时，则代表使用xgboost来集成逻辑回归。<br><br>\n",
        "> 每一种弱评估器都有自己的params列表，例如只有树模型才会有学习率等参数，只有DART树才会有抛弃率等参数。评估器必须与params中的参数相匹配，否则一定会报错。其中，由于DART树是从gbtree的基础上衍生而来，因此gbtree的所有参数DART树都可以使用。\n",
        "\n",
        "|参数含义|原生代码|sklearn API|\n",
        "|:-:|:-:|:-:|\n",
        "|选择使用不同的弱评估器|**booster**<br>(params)|**booster**|"
      ]
    },
    {
      "cell_type": "markdown",
      "id": "d9c36c03-3b12-43a6-b9b9-4800558d2ff2",
      "metadata": {
        "id": "d9c36c03-3b12-43a6-b9b9-4800558d2ff2"
      },
      "source": [
        "在上述三种树当中，DART树的参数需要单独进行说明。DART树的建树过程与普通提升树gbtree完全一致，但在集成树结果的过程中与传统gbtree有所区别。具体地来说，提升树的模型输出结果往往等于所有树结果的加权求和：\n",
        "\n",
        "$$H(x_i) =  \\sum_{k=1}^\\boldsymbol{\\color{red}K}f_k(x_i)$$\n",
        "\n",
        "在第$k$次迭代中建立新的树时，迭代后的结果等于之前所有${k-1}$棵树的结果加新建立的树的结果:\n",
        "\n",
        "$$H_k(x_i) = H_{k-1}(x_i) + \\boldsymbol{\\color{red}\\eta} f_k(x_i)$$\n",
        "\n",
        "DART树在**每一次迭代**前都会随机地抛弃部份树，即不让这些树参与$H_{k-1}(x_i)$的计算，这种随机放弃的方式被叫做“Dropout”（抛弃）。举例说明，假设现在一共有5棵树，结果分别如下：\n",
        "\n",
        "||k=1|k=2|k=3|k=4|k=5|\n",
        "|:-:|:-:|:-:|:-:|:-:|:-:|\n",
        "|$\\eta f_k(x_i)$|1|0.8|0.6|0.5|0.3|\n",
        "\n",
        "当建立第6棵树时，普通提升树的$H_{k-1}(x_i)$ = 1+0.8+0.6+0.5+0.3 = 3.2。对于DART树来说，我们可以认为设置抛弃率`rate_drop`，假设抛弃率为0.2，则DART树会随机从5棵树中抽样一棵树进行抛弃。假设抛弃了第二棵树，则DART树的$H_{k-1}(x_i)$ = 1+0.6+0.5+0.3 = 2.4。通过影响$H_{k-1}(x_i)$，DART树影响损失函数、影响整个算法的输出结果$H(x)$，以此就可以在每一次迭代中极大程度地影响整个xgboost的方向。\n",
        "\n",
        "在一般的抗过拟合方法当中，我们只能从单棵树的学习能力角度入手花式对树进行剪枝，但DART树的方法是对整体迭代过程进行控制。在任意以“迭代”为核心的算法当中，我们都面临同样的问题，即**最开始的迭代极大程度地影响整个算法的走向，而后续的迭代只能在前面的基础上小修小补**。这一点从直觉上来说很好理解，毕竟当我们在绘制损失函数的曲线时，会发现在刚开始迭代时，损失函数急剧下降，但随后就逐渐趋于平缓。在这个过程中，没有任何过拟合手段可以从流程上影响到那些先建立的、具有巨大影响力的树，但DART树就可以削弱这些前端树的影响力，大幅提升抗过拟合的能力。"
      ]
    },
    {
      "cell_type": "markdown",
      "id": "de61ed4e-db81-46d3-91eb-7a847f9583df",
      "metadata": {
        "id": "de61ed4e-db81-46d3-91eb-7a847f9583df"
      },
      "source": [
        "在这个过程中，我们涉及到以下的几个参数：\n",
        "\n",
        "- 参数`rate_drop`：每一轮迭代时抛弃树的比例\n",
        "> 设置为0.3，则表示有30%的树会被抛弃。只有当参数`booster`=\"dart\"时能够使用，只能填写[0.0,1.0]之间的浮点数，默认值为0。\n",
        "- 参数`one_drop`：每一轮迭代时至少有`one_drop`棵树会被抛弃\n",
        "> 可以设置为任意正整数，例如`one_drop` = 10，则意味着每轮迭代中至少有10棵树会被抛弃。<br><br>\n",
        "> 当参数`one_drop`的值高于`rate_drop`中计算的结果时，则按照`one_drop`中的设置执行Dropout。例如，总共有30棵树，`rate_drop`设置为0.3，则需要抛弃9棵树。但`one_drop`中设置为10，则一定会抛弃10棵树。当`one_drop`的值低于`rate_drop`的计算结果时，则按`rate_drop`的计算结果执行Dropout。\n",
        "- 参数`skip_drop`：每一轮迭代时可以不执行dropout的概率\n",
        "> 即便参数`booster`='dart'，每轮迭代也有`skip_drop`的概率可以不执行Dropout，是所有设置的概率值中拥有最高权限的参数。该参数只能填写[0.0,1.0]之间的浮点数，默认值为0。当该参数为0时，则表示每一轮迭代都一定会抛弃树。如果该参数不为0，则有可能不执行Dropout，直接按照普通提升树的规则建立新的提升树。<br><br>\n",
        "> 需要注意的是，`skip_drop`的权限高于`one_drop`。即便`one_drop`中有所设置，例如每次迭代必须抛弃至少10棵树，但只要`skip_drop`不为0，每轮迭代则必须经过`skip_drop`的概率筛选。如果`skip_drop`说本次迭代不执行Dropout，则忽略`one_drop`中的设置。\n",
        "- 参数`sample_type`：抛弃时所使用的抽样方法\n",
        "> 填写字符串\"uniform\"：表示均匀不放回抽样。<br><br>\n",
        "> 填写字符串\"weighted\"：表示按照每棵树的权重进行有权重的不放回抽样。<br><br>\n",
        "> 注意，该不放回是指在一次迭代中不放回。**每一次迭代中的抛弃是相互独立的，因此每一次抛弃都是从所有树中进行抛弃**。上一轮迭代中被抛弃的树在下一轮迭代中可能被包括。\n",
        "- 参数`normalize_type`：增加新树时，赋予新树的权重\n",
        "> 当随机抛弃已经建好的树时，可能会让模型结果大幅度偏移，因此往往需要给与后续的树更大的权重，让新增的、后续的树在整体算法中变得更加重要。所以DART树在建立新树时，会有意地给与后续的树更大的权重。我们有两种选择：<br><br>\n",
        "> 填写字符串\"tree\"，表示新生成的树的权重等于所有被抛弃的树的权重的均值。<br><br>\n",
        "> 填写字符串\"forest\"，表示新生成的树的权重等于所有被抛弃的树的权重之和。\n",
        "> 算法默认为\"tree\"，当我们的dropout比例较大，且我们相信希望给与后续树更大的权重时，会选择\"forest\"模式。\n",
        "\n",
        "你是否注意到，我们的两个参数`sample_type`与`normalize_type`都使用了概念“树的权重”，但我们在之前讲解XGBoost的基本流程时提到过，XGBoost并不会针对每一棵树计算特定的权重。这个**树的权重其实指的是整棵树上所有叶子权重之和**。那究竟是怎样让新增加的树的权重刚好就等于原本被抛弃的树的权重的均值或和呢？这就需要一个相对复杂的数学过程来进行解答了，如果你感兴趣，可以查看这一篇说明：https://xgboost.readthedocs.io/en/stable/tutorials/dart.html\n",
        "\n",
        "当我们在应用的时候，这个点并不会对我们造成影响，只要知道参数如何使用即可。**同时，所有dart树相关的参数在原生代码与sklearn代码中都完全一致**。"
      ]
    },
    {
      "cell_type": "markdown",
      "id": "2aa9e1a4-0afd-4995-8e97-f8b3ed1b55e7",
      "metadata": {
        "id": "2aa9e1a4-0afd-4995-8e97-f8b3ed1b55e7"
      },
      "source": [
        "当模型容易过拟合时，我们可以尝试让模型使用DART树来减轻过拟合。不过DART树也会带来相应的问题，最明显的缺点就是：\n",
        "\n",
        "- 用于微调模型的一些树可能被抛弃，微调可能失效\n",
        "- 由于存在随机性，模型可能变得不稳定，因此提前停止等功能可能也会变得不稳定\n",
        "- 由于要随机抛弃一些树的结果，在工程上来说就无法使用每一轮之前计算出的$H_{k-1}$，而必须重新对选中的树结果进行加权求和，可能导致模型迭代变得略微缓慢"
      ]
    },
    {
      "cell_type": "code",
      "execution_count": null,
      "id": "299da8f5-bbc1-4474-97ed-56458b544566",
      "metadata": {
        "id": "299da8f5-bbc1-4474-97ed-56458b544566"
      },
      "outputs": [],
      "source": [
        "data_xgb = xgb.DMatrix(X,y)\n",
        "params_dart = {\"max_depth\":5 ,\"seed\":1412, \"eta\":0.1\n",
        "                  ,\"booster\":\"dart\",\"sample_type\": \"uniform\"\n",
        "                  ,\"normalize_type\":\"tree\"\n",
        "                  ,\"rate_drop\": 0.2\n",
        "                  ,\"skip_drop\": 0.5}\n",
        "result_dart = xgb.cv(params_dart,data_xgb,num_boost_round=100\n",
        "                ,nfold=5 #补充交叉验证中所需的参数，nfold=5表示5折交叉验证\n",
        "                ,seed=1412 #交叉验证的随机数种子，params中的是管理boosting过程的随机数种子\n",
        "               )"
      ]
    },
    {
      "cell_type": "code",
      "execution_count": null,
      "id": "36443d11-6f60-4d44-836e-5df081a482f1",
      "metadata": {
        "id": "36443d11-6f60-4d44-836e-5df081a482f1",
        "outputId": "51689003-0e86-46b3-b2e7-8a57e8676940"
      },
      "outputs": [
        {
          "data": {
            "text/plain": [
              "train-rmse-mean     9906.142188\n",
              "train-rmse-std       317.321406\n",
              "test-rmse-mean     28262.178906\n",
              "test-rmse-std       8082.918652\n",
              "Name: 99, dtype: float64"
            ]
          },
          "execution_count": 59,
          "metadata": {},
          "output_type": "execute_result"
        }
      ],
      "source": [
        "result_dart.iloc[-1,:]"
      ]
    },
    {
      "cell_type": "code",
      "execution_count": null,
      "id": "35639d7f-3db3-4dd6-9be7-42845c567fe8",
      "metadata": {
        "id": "35639d7f-3db3-4dd6-9be7-42845c567fe8",
        "outputId": "f1b0a59d-11d8-430f-9dbf-b989a25b9d58"
      },
      "outputs": [
        {
          "data": {
            "text/plain": [
              "18356.036718800002"
            ]
          },
          "execution_count": 60,
          "metadata": {},
          "output_type": "execute_result"
        }
      ],
      "source": [
        "overfitcheck(result_dart)"
      ]
    },
    {
      "cell_type": "markdown",
      "id": "61435229-e495-43d2-b574-f56eb8cf94b6",
      "metadata": {
        "id": "61435229-e495-43d2-b574-f56eb8cf94b6"
      },
      "source": [
        "可以看出，dart树抗过拟合效果比`gamma`、`lambda`等参数更强，不过在提升模型的测试集表现上，dart树还是略逊一筹，毕竟dart树会伤害模型的学习能力。"
      ]
    },
    {
      "cell_type": "markdown",
      "id": "08686d64-784d-436f-9ca5-819bf3f37416",
      "metadata": {
        "tags": [],
        "id": "08686d64-784d-436f-9ca5-819bf3f37416"
      },
      "source": [
        "### 2.2 弱评估器的分枝"
      ]
    },
    {
      "cell_type": "markdown",
      "id": "b61d6b29-13b8-4f54-be32-af02132ed050",
      "metadata": {
        "id": "b61d6b29-13b8-4f54-be32-af02132ed050"
      },
      "source": [
        "当参数`booster`的值被设置为gbtree时，XGBoost所使用的弱评估器是改进后的的CART树，其分枝过程与普通CART树高度一致：向着叶子质量提升/不纯度下降的方向分枝、并且每一层都是二叉树。在CART树的基础上，XGBoost创新了全新的分枝指标：**结构分数（Structure Score）与结构分数增益（Gain of Structure Score）**（也被叫做结构分数之差），更大程度地保证了CART树向减小目标函数的方向增长。需要注意的是，**XGBoost不接受其他指标作为分枝指标**，因此你会发现在众多的xgboost的参数中，并不存在`criterion`参数：\n",
        "\n",
        "|类型|参数|\n",
        "|-|-|\n",
        "|**迭代过程/目标函数**|**params**: eta, base_score, objective, <font color=\"green\">**lambda, gamma, alpha, max_delta_step**</font><br>**xgb.train()**: num_boost_round|\n",
        "|**弱评估器结构**|**params**: max_depth, <font color=\"green\">**booster, min_child_weight**</font>|\n",
        "|**dart树**|**params**: <font color=\"green\">**sample_type, normalized_type, rate_drop, one_drop, skip_drop**</font>|\n",
        "|**弱评估器的训练数据**|**params**: subsample, <font color=\"green\">**sampling_method, colsamle_bytree, colsample_bylevel, colsample_bynode**</font>|\n",
        "|**提前停止**|**xgb.train()**: <font color=\"green\">**early_stopping_rounds, evals**</font>, eval_metric|\n",
        "|**其他**|**params**: seed, <font color=\"green\">**verbosity, scale_pos_weight, nthread**</font>|"
      ]
    },
    {
      "cell_type": "markdown",
      "id": "f0406cd4-26c0-4e26-8772-7e5a76a79b10",
      "metadata": {
        "tags": [],
        "id": "f0406cd4-26c0-4e26-8772-7e5a76a79b10"
      },
      "source": [
        "<br>幸运的是，没有任何参数与结构分数的公式本身相关，因此从应用xgboost的角度来看，我们并不需要对结构分数以及相应的分枝过程理解太深，只需对公式稍作了解即可。不过，结构分数是XGBoost整个运行流程中非常核心的概念，它即精又巧，串起了整个XGBoost几乎所有的数学流程。在原始论文中，作者陈天奇使用了一整节的篇幅来推导结构分数的公式，因此这部分原理非常值得学习。如果你渴望学习相关原理，可以查看数学的最后一节。现在，我们来了解结构分数的相关公式：\n",
        "\n",
        "**假设现在目标函数使用L2正则化，控制叶子数量的参数`gamma`为0。现在存在一个叶子节点$j$，对该节点来说结构分数的公式为：**\n",
        "\n",
        "$$ Score_j = \\frac{(\\sum_{i \\in j}g_i)^2}{\\sum_{i \\in j}h_i + \\lambda}$$\n",
        "\n",
        "其中，$g_i$是样本$i$在损失函数$L$上对预测标签求的一阶导数，$h_i$是样本$i$在损失函数$L$上对预测标签求的二阶导数，$i \\in j$表示对叶子$j$上的所有样本进行计算，$\\lambda$就是L2正则化的正则化系数。所以不难发现，结构分数实际上就是：\n",
        "\n",
        "$$Score_j = \\frac{节点j上所有样本的一阶导数之和的平方}{节点j上所有样本的二阶导数之和 + \\lambda}$$\n",
        "\n",
        "需要注意结构分数是针对节点计算的，我们以前学习的不纯度衡量指标如基尼系数、信息熵等也是如此。在此基础上，我们依赖于结构分数增益进行分枝，结构分数增益表现为：\n",
        "\n",
        "$$\\begin{align}\n",
        "Gain &= Score_L + Score_R - Score_P \\\\ \\\\\n",
        "&= \\frac{(\\sum_{i \\in L}g_i)^2}{\\sum_{i \\in L}h_i + \\lambda} + \\frac{(\\sum_{i \\in R}g_i)^2}{\\sum_{i \\in R}h_i + \\lambda} - \\frac{(\\sum_{i \\in P}g_i)^2}{\\sum_{i \\in P}h_i + \\lambda}\\\\ \\\\\n",
        "&（见原论文7号公式）\n",
        "\\end{align}$$\n",
        "\n",
        "这即是说，结构分数增益实际上就是：\n",
        "\n",
        "$$Gain = 左节点的结构分数 + 右节点的结构分数 - 父节点的结构分数$$\n",
        "\n",
        "**我们选择增益$Gain$最大的点进行分枝**。\n",
        "\n",
        "你是否注意到，XGBoost中的分枝规则与经典CART树的分枝规则在细节上有所不同？CART树中所使用的信息增益是：\n",
        "\n",
        "$$CART树中的信息增益 = 父节点的不纯度 - （左节点的不纯度 + 右节点的不纯度）$$\n",
        "\n",
        "我们追求的是最大的信息增益，这意味着随着CART树的建立整体不纯度是在逐渐降低的。无论不纯度衡量指标是基尼系数还是信息熵，不纯度是越小越好。然而在XGBoost当中，增益的计算公式与CART树相反，但我们依然追求最大增益，所以这意味着**随着XGBoost树的建立，整体结构分数是逐渐上升的**。因此我们可以认为**结构分数越大越好**。"
      ]
    },
    {
      "cell_type": "markdown",
      "id": "418e1e4a-1995-408c-b0cc-25bacb82131d",
      "metadata": {
        "id": "418e1e4a-1995-408c-b0cc-25bacb82131d"
      },
      "source": [
        "那结构分数的含义是什么呢？它也像信息熵一样，可以衡量叶子节点的某种属性吗？为什么结构分数需要越大越好呢？这些问题需要大家了解数学推导过程后才能解答，但我们在这里可以举一个很简单的例子来证实结构分数增益越大、选出的分枝越好。\n",
        "\n",
        "假设现在我们有一个超简单的节点需要分割，该节点中所包含的样本如下："
      ]
    },
    {
      "cell_type": "markdown",
      "id": "efd4566f-1c49-41fa-9216-1ff21d345bc7",
      "metadata": {
        "id": "efd4566f-1c49-41fa-9216-1ff21d345bc7"
      },
      "source": [
        "|样本|y|y_hat|\n",
        "|:-:|:-:|:-:|\n",
        "|1|1|0.5|\n",
        "|2|-2|0.5|\n",
        "|3|-2|0.5|"
      ]
    },
    {
      "cell_type": "markdown",
      "id": "0fb93eda-2a62-4b93-9723-814724c2f63e",
      "metadata": {
        "id": "0fb93eda-2a62-4b93-9723-814724c2f63e"
      },
      "source": [
        "**众所周知，在决策树中一个节点只能有一个输出值，因此同一片叶子上所有样本的预测值都一致**，不同的树模型使用不同的方法来计算叶子节点上的输出值，大部分模型都直接使用样本的真实值的均值作为输出，但XGBoost有自己不同的手段。现在我们可以暂时忽略这一点，先假设当前的节点预测值为0.5。\n",
        "\n",
        "现在要对该节点进行分割，你知道从哪里分枝会最有效吗？因为一片叶子只会输出一个预测值，所以相同标签的样本最好在一片叶子上。因此很明显，因为2、3号叶子的真实值一致，我们应该将该节点从1号样本和2号样本中间分开，让1号样本单独在一片叶子上，而2、3号样本在一片叶子上（1，23）。但实际在进行分枝时，我们需要尝试所有可能的方式，并分别计算以下方式的结构分数增益：\n",
        "\n",
        "- 分割方案1:（1,23）\n",
        "\n",
        "|左子节点|y|y_hat||右子节点|y|y_hat|\n",
        "|:-:|:-:|:-:|:-:|:-:|:-:|:-:|\n",
        "|1|1|0.5||2|-2|0.5|\n",
        "|||||3|-2|0.5|\n",
        "\n",
        "- 分割方案2:（12,3）\n",
        "\n",
        "|左子节点|y|y_hat||右子节点|y|y_hat|\n",
        "|:-:|:-:|:-:|:-:|:-:|:-:|:-:|\n",
        "|1|1|0.5||3|-2|0.5|\n",
        "|2|-2|0.5|||||"
      ]
    },
    {
      "cell_type": "markdown",
      "id": "a94a6067-1921-49fe-b3a8-ccae10ba04a4",
      "metadata": {
        "id": "a94a6067-1921-49fe-b3a8-ccae10ba04a4"
      },
      "source": [
        "假设现在执行的是XGBoost回归，损失函数为0.5倍MSE，公式为$\\frac{1}{2}(y - \\hat{y})^2$，假设lambda=1。那基于MSE的一阶导数为：\n",
        "\n",
        "$$\\begin{align}\n",
        "l&= \\frac{1}{2}(y_i - \\hat{y_i})^2 \\\\ \\\\ \n",
        "l' &= \\frac{\\partial}{\\partial \\hat{y_i}} \\frac{1}{2}(y_i - \\hat{y_i})^2\\\\ \\\\\n",
        "&= - (y_i - \\hat{y_i})\\\\ \\\\\n",
        "&= \\hat{y_i} - y_i\\\\ \\\\\n",
        "\\end{align}$$\n",
        "\n",
        "基于MSE的二阶导数为：\n",
        "\n",
        "$$\\begin{align}\n",
        "l'' &= \\frac{\\partial}{\\partial \\hat{y_i}} (\\hat{y_i} - y_i)\\\\ \\\\\n",
        "&= 1\n",
        "\\end{align}$$\n",
        "\n",
        "因此无论如何划分，$g_i = \\hat{y_i} - y_i$，$h_i = 1$。现在来计算父节点和两个子节点上每个样本的$g_i$与$h_i$："
      ]
    },
    {
      "cell_type": "markdown",
      "id": "51e2f10c-6caa-43ab-a33f-a70a66d025cf",
      "metadata": {
        "id": "51e2f10c-6caa-43ab-a33f-a70a66d025cf"
      },
      "source": [
        "- 父节点：\n",
        "\n",
        "|样本|y|y_hat|gi|hi|\n",
        "|:-:|:-:|:-:|:-:|:-:|\n",
        "|1|1|0.5|-0.5|1|\n",
        "|2|-2|0.5|2.5|1|\n",
        "|3|-2|0.5|2.5|1|\n",
        "\n",
        "因此父节点的结构分数为：\n",
        "\n",
        "$$\\begin{align}\n",
        "Score_P &= \\frac{(\\sum_{i \\in P}g_i)^2}{\\sum_{i \\in P}h_i + \\lambda} \\\\ \\\\\n",
        "&= \\frac{(-0.5 + 2.5 + 2.5)^2}{3 + 1} \\\\ \\\\\n",
        "&= 5.0625\n",
        "\\end{align}$$"
      ]
    },
    {
      "cell_type": "markdown",
      "id": "675b7285-9d89-4346-9a34-12e4aa20ad5b",
      "metadata": {
        "id": "675b7285-9d89-4346-9a34-12e4aa20ad5b"
      },
      "source": [
        "- 方案1\n",
        "\n",
        "|左子节点|y|y_hat|gi|hi||右子节点|y|y_hat|gi|hi|\n",
        "|:-:|:-:|:-:|:-:|:-:|:-:|:-:|:-:|:-:|:-:|:-:|\n",
        "|1|1|0.5|-0.5|1||2|-2|0.5|2.5|1|\n",
        "|||||||3|-2|0.5|2.5|1|\n",
        "\n",
        "方案1下两个子节点的结构分数为：\n",
        "\n",
        "$$\\begin{align}\n",
        "Score_{L1} &= \\frac{(\\sum_{i \\in {L1}}g_i)^2}{\\sum_{i \\in {L1}}h_i + \\lambda} \\\\ \\\\\n",
        "&= \\frac{(-0.5)^2}{1 + 1} \\\\ \\\\\n",
        "&= 0.125\n",
        "\\end{align}$$\n",
        "\n",
        "<br>\n",
        "\n",
        "$$\\begin{align}\n",
        "Score_{R1} &= \\frac{(\\sum_{i \\in {R1}}g_i)^2}{\\sum_{i \\in {R1}}h_i + \\lambda} \\\\ \\\\\n",
        "&= \\frac{(2.5+2.5)^2}{2 + 1} \\\\ \\\\\n",
        "&= 8.333\n",
        "\\end{align}$$\n",
        "\n",
        "因此增益等于：\n",
        "\n",
        "$$\\begin{align}\n",
        "Gain &= Score_{L1} + Score_{R1} - Score_P \\\\ \\\\\n",
        "&= 0.125 + 8.333 - 5.6025 \\\\ \\\\\n",
        "&= 3.395\n",
        "\\end{align}$$"
      ]
    },
    {
      "cell_type": "markdown",
      "id": "bde6daf1-3a77-4eb2-9bd4-f00418dcc117",
      "metadata": {
        "id": "bde6daf1-3a77-4eb2-9bd4-f00418dcc117"
      },
      "source": [
        "- 方案2\n",
        "\n",
        "|左子节点|y|y_hat|gi|hi||右子节点|y|y_hat|gi|hi|\n",
        "|:-:|:-:|:-:|:-:|:-:|:-:|:-:|:-:|:-:|:-:|:-:|\n",
        "|1|1|0.5|-0.5|1||3|-2|0.5|2.5|1|\n",
        "|2|-2|0.5|2.5|1|||||||\n",
        "\n",
        "方案1下两个子节点的结构分数为：\n",
        "\n",
        "$$\\begin{align}\n",
        "Score_{L1} &= \\frac{(\\sum_{i \\in {L1}}g_i)^2}{\\sum_{i \\in {L1}}h_i + \\lambda} \\\\ \\\\\n",
        "&= \\frac{(-0.5 + 2.5)^2}{2 + 1} \\\\ \\\\\n",
        "&= 1.333\n",
        "\\end{align}$$\n",
        "\n",
        "<br>\n",
        "\n",
        "$$\\begin{align}\n",
        "Score_{R1} &= \\frac{(\\sum_{i \\in {R1}}g_i)^2}{\\sum_{i \\in {R1}}h_i + \\lambda} \\\\ \\\\\n",
        "&= \\frac{(2.5)^2}{1 + 1} \\\\ \\\\\n",
        "&= 3.125\n",
        "\\end{align}$$\n",
        "\n",
        "因此增益等于：\n",
        "\n",
        "$$\\begin{align}\n",
        "Gain &= Score_{L1} + Score_{R1} - Score_P \\\\ \\\\\n",
        "&= 1.333 + 3.125 - 5.0625 \\\\ \\\\ \n",
        "&= -0.604\n",
        "\\end{align}$$"
      ]
    },
    {
      "cell_type": "markdown",
      "id": "0438beb7-cb12-49fe-90a2-29655d2fc9ab",
      "metadata": {
        "id": "0438beb7-cb12-49fe-90a2-29655d2fc9ab"
      },
      "source": [
        "|方案|左侧结构分数|右侧结构分数|父节点结构分数|增益|\n",
        "|:-:|:-:|:-:|:-:|:-:|\n",
        "|**(1,23)**|0.125|8.333|5.0625|<font color=\"green\">**3.3958**</font>|\n",
        "|**(12,3)**|1.333|3.125|5.0625|-0.6041|"
      ]
    },
    {
      "cell_type": "markdown",
      "id": "fbaaa42c-857e-4d21-8d92-834d8a60f029",
      "metadata": {
        "id": "fbaaa42c-857e-4d21-8d92-834d8a60f029"
      },
      "source": [
        "很明显，方案1（1,23）的增益为3.395，远远大于方案2（12，3）的增益-0.604，因此根据结构分数增益的指示，我们应该使用第一种分割方式，这与我们经验判断的一致。在XGBoost建树过程中，我们需要对每一个节点进行如上计算，不断来选出令增益更大的分枝。\n",
        "\n",
        "- 结构分数与信息熵的关键区别\n",
        "\n",
        "不知道你是否注意到一个问题。在之前我们提到过，结构分数是越大越好。在方案1当中，左侧叶子节点上的结构分数为0.125，右侧叶子节点上的结构分数为8.333，这是否意味着左侧叶子比右侧叶子更好呢？**答案是否定的。与信息熵、基尼系数等可以评价单一节点的指标不同，结构分数只能够评估结构本身的优劣，不能评估节点的优劣**。\n",
        "\n",
        "比如说，方案1中的树结构有更高的分数之和，方案2中的树结构的分数之和较低，所以方案1更好。但我们不能说，方案1中的左节点分数低，右节点分数高，所以右节点比左节点更好。因此，在XGBoost原始论文当中，**我们利用一棵树上所有叶子的结构分数之和来评估整棵树的结构的优劣**，分数越高则说明树结构质量越高，因此在原论文中，结构分数也被称为质量分数（quality score）。"
      ]
    },
    {
      "cell_type": "markdown",
      "id": "cd84cb7d-a2a3-47c6-826c-6b0a814ec6e9",
      "metadata": {
        "id": "cd84cb7d-a2a3-47c6-826c-6b0a814ec6e9"
      },
      "source": [
        "### 2.3 控制复杂度（一）：弱评估器的剪枝"
      ]
    },
    {
      "cell_type": "markdown",
      "id": "71feea57-3fef-40bf-9cea-f17604c660bc",
      "metadata": {
        "id": "71feea57-3fef-40bf-9cea-f17604c660bc"
      },
      "source": [
        "对于树模型，除了了解树是如何建立的，也需要了解如何控制树的整体结构复杂度。一般来说，控制树模型复杂度的方式有两种：一种是对树进行剪枝，一种是从训练数据上下功夫。本节我们先来看弱评估器的剪枝。\n",
        "\n",
        "与其他树模型中五花八门的剪枝参数不同，XGBoost只有三个剪枝参数和一个侧面影响树生长的参数，其中最为我们熟知的剪枝参数是`max_depth`，它的用法与其他树模型中一致，在XGBoost中默认值为6，因此在对抗过拟合方面影响力不是很大。需要重点来说明的是以下三个参数：\n",
        "\n",
        "- 参数`min_child_weight`：可以被广义理解为任意节点上所允许的样本量（样本权重）。\n",
        "> 更严谨的说法是，`min_child_weight`是在任意节点$j$上所允许的最小的$\\sum_{i \\in j}h_i$值。如果一个节点上的$\\sum_{i \\in j}h_i$小于该参数中设置的值，该节点被剪枝。<br><br>\n",
        "> 如果你仔细学习了上一节内容，你会很容易理解$\\sum_{i \\in j}h_i$其实就是结构分数的分母：<br><br>\n",
        "> $$ Score_j = \\frac{(\\sum_{i \\in j}g_i)^2}{\\sum_{i \\in j}h_i + \\lambda}$$<br>\n",
        "> 其中，$h_i$是样本$i$的损失函数$l$在预测值$f(x_i)$上的二阶导数，$\\sum_{i \\in j}h_i$就是该节点上所有样本的$h_i$之和。<br><br>\n",
        "> 在上一节中，假设损失函数为$\\frac{1}{2}MSE$，我们推导出任意样本的$h_i = 1$，因此$\\sum_{i \\in j}h_i$应该等于该叶子节点上的总样本量。因为这个原因，$h_i$在XGBoost原始论文和官方说明中有时被称为“样本权重”（instance weight）。因此，当MSE为损失函数时，参数`min_child_weight`很类似于sklearn中的`min_sample_leaf`，即一个节点上所允许的最小样本量。<br><br>\n",
        "> 然而，如果我们使用的损失函数不是MSE，那$h_i$也就不会等于1了。不过官方依然将$h_i$称之为样本权重，当损失函数更换时，样本的权重也随之变化。当损失函数不为MSE时，参数`min_child_weight`时一个节点上所允许的最小样本权重量。<br><br>\n",
        "> 很显然，参数`min_child_weight`越大，模型越不容易过拟合，同时学习能力也越弱。"
      ]
    },
    {
      "cell_type": "markdown",
      "id": "020c68a8-a314-46ca-81a1-518e7e49de60",
      "metadata": {
        "id": "020c68a8-a314-46ca-81a1-518e7e49de60"
      },
      "source": [
        "- 参数`gamma`：目标函数中叶子数量$T$前的系数，同时也是允许分枝的最低结构分数增益。当分枝时结构增益不足`gamma`中设置的值，该节点被剪枝。\n",
        "> 在目标函数当中，`gamma`是叶子数量$T$前的系数，放大gamma可以将目标函数的重点转移至结构风险，从而控制过拟合：<br><br>\n",
        "> $$Obj_k = \\sum_{i=1}^Ml(y_i,\\hat{y_i}) + \\boldsymbol{\\color{red}\\gamma} T + \\frac{1}{2}\\boldsymbol{\\color{red}\\lambda}\\sum_{j=1}^Tw_j^2 + \\boldsymbol{\\color{red}\\alpha}\\sum_{j=1}^Tw_j$$ <br>\n",
        "> 在上一节中介绍结构分数时，我们曾做出假设`gamma`为0，当`gamma`不为0时，结构分数增益的公式如下：<br><br>\n",
        "> $$\\begin{align}\n",
        "Gain &= \\frac{1}{2} ( Score_L + Score_R - Score_P ) - \\gamma \\\\ \\\\\n",
        "&= \\frac{1}{2} \\left( \\frac{(\\sum_{i \\in L}g_i)^2}{\\sum_{i \\in L}h_i + \\lambda} + \\frac{(\\sum_{i \\in R}g_i)^2}{\\sum_{i \\in R}h_i + \\lambda} - \\frac{(\\sum_{i \\in P}g_i)^2}{\\sum_{i \\in P}h_i + \\lambda} \\right) - \\gamma\n",
        "\\end{align}$$ <br>\n",
        "> 在XGBoost中，我们追求一棵树整体的结构分数最大，因此XGBoost规定**任意结构的分数增益不能为负，任意增益为负的节点都会被剪枝**，因此可以默认有：<br><br>\n",
        "> $$\\frac{1}{2} \\left( \\frac{(\\sum_{i \\in L}g_i)^2}{\\sum_{i \\in L}h_i + \\lambda} + \\frac{(\\sum_{i \\in R}g_i)^2}{\\sum_{i \\in R}h_i + \\lambda} - \\frac{(\\sum_{i \\in P}g_i)^2}{\\sum_{i \\in P}h_i + \\lambda} \\right) - \\gamma > 0$$<br>\n",
        "> 因此：$$\\frac{1}{2} \\left( \\frac{(\\sum_{i \\in L}g_i)^2}{\\sum_{i \\in L}h_i + \\lambda} + \\frac{(\\sum_{i \\in R}g_i)^2}{\\sum_{i \\in R}h_i + \\lambda} - \\frac{(\\sum_{i \\in P}g_i)^2}{\\sum_{i \\in P}h_i + \\lambda} \\right) > \\gamma\n",
        "$$<br>\n",
        "> 这是说，当参数`gamma`为0时，任意增益为负的节点都会被剪枝。当`gamma`为任意正数时，任意增益小于`gamma`设定值的节点都会被剪枝。不难发现，`gamma`在剪枝中的作用就相当于sklearn中的`min_impurity_decrease`。<br><br>\n",
        "> 很显然，`gamma`值越大，算法越不容易过拟合，同时学习能力也越弱。"
      ]
    },
    {
      "cell_type": "markdown",
      "id": "0b4e97b4-eb2c-43c3-82b2-ed70022e66e6",
      "metadata": {
        "id": "0b4e97b4-eb2c-43c3-82b2-ed70022e66e6"
      },
      "source": [
        "- 参数`lambda`和`alpha`：正则化系数，同时也位于结构分数中间接影响树的生长和分枝。\n",
        "> 当使用L2正则化时，结构分数为：<br><br>\n",
        "> $$ Score_j = \\frac{(\\sum_{i \\in j}g_i)^2}{\\sum_{i \\in j}h_i + \\lambda}$$<br>\n",
        "> 然而，当使用L1正则化时，结构分数为：<br><br>\n",
        "> $$ Score_j = \\frac{(\\sum_{i \\in j}g_i)^2 + \\alpha}{\\sum_{i \\in j}h_i}$$<br>\n",
        "> 因此，当`lambda`越大，结构分数会越小，参数`gamma`的力量会被放大，模型整体的剪枝会变得更加严格，同时，由于`lambda`还可以通过目标函数将模型学习的重点拉向结构风险，因此`lambda`具有双重扛过拟合能力。<br><br>\n",
        "> 然而，当`alpha`越大时，结构分数会越大，参数`gamma`的力量会被缩小，模型整体的剪枝会变得更宽松。然而，`alpha`还可以通过目标函数将模型学习的重点拉向结构风险，因此`alpha`会通过放大结构分数抵消一部分扛过拟合的能力。整体来看，`alpha`是比`lambda`更宽松的剪枝方式。<br><br>\n",
        "> 在XGBoost当中，我们可以同时使用两种正则化，则结构分数为：<br><br>\n",
        "> $$ Score_j = \\frac{(\\sum_{i \\in j}g_i)^2 + \\alpha}{\\sum_{i \\in j}h_i + \\lambda}$$<br>\n",
        "> 此时，影响模型变化的因子会变得过多，我们难以再从中找到规律，调参会因此变得略有困难。但是当你感觉到L2正则化本身不足以抵抗过拟合的时候，可以使用L1+L2正则化的方式尝试调参。"
      ]
    },
    {
      "cell_type": "markdown",
      "id": "94cf862c-be30-4c90-9ace-222471a59ee6",
      "metadata": {
        "id": "94cf862c-be30-4c90-9ace-222471a59ee6"
      },
      "source": [
        "不难发现，由于在目标函数中加入了正则项和控制叶子数量的结构风险项，XGBoost控制过拟合的方式与其他树模型差异很大。在之后调参的章节当中，我们将尝试将上述4个参数共同调参。"
      ]
    },
    {
      "cell_type": "markdown",
      "id": "ee02b62b-0a65-4145-8d91-592b0ff96a78",
      "metadata": {
        "id": "ee02b62b-0a65-4145-8d91-592b0ff96a78"
      },
      "source": [
        "### 2.4 控制复杂度（二）：弱评估器的训练数据"
      ]
    },
    {
      "cell_type": "markdown",
      "id": "32b655ce-e83c-4f59-adaf-094c294f3045",
      "metadata": {
        "id": "32b655ce-e83c-4f59-adaf-094c294f3045"
      },
      "source": [
        "除了通过剪枝来控制模型复杂度之外，XGBoost也继承了GBDT和随机森林的优良传统：可以通过对样本和特征进行抽样来增加弱评估器多样性、从而控制过拟合。在这一部分所使用的参数都是我们曾经见过的，只不过在XGBoost当中，我们可以进行更丰富的数据抽样。具体来看：\n",
        "\n",
        "**样本的抽样**\n",
        "\n",
        "- 参数`subsample`：对样本进行抽样的比例，默认为1，可输入(0,1]之间的任何浮点数。例如，输入0.5，则表示随机抽样50%的样本进行建树。\n",
        "> 当该参数设置为1时，表示使用原始数据进行建模，不进行抽样。同时，**XGBoost中的样本抽样是不放回抽样**，因此不像GBDT或者随机森林那样存在袋外数据的问题，同时也无法抽样比原始数据更多的样本量。因此，抽样之后样本量只能维持不变或变少，如果样本量较少，建议保持`subsample`=1。\n",
        "- 参数`sampling_method`：对样本进行抽样时所使用的抽样方法，默认均匀抽样。\n",
        "> 输入\"uniform\"：表示使用均匀抽样，每个样本被抽到的概率一致。如果使用均匀抽样，建议`subsample`的比例最好在0.5或以上。<br><br>\n",
        "> 需要注意的是，该参数还包含另一种可能的输入\"gradient_based\"：表示使用有权重的抽样，并且每个样本的权重等于该样本的$\\sqrt{g_i^2 +\\lambda h_i^2}$。但该输入目前还不支持XGBoost当中主流的gbtree等建树方法，因此一般我们不会用到。"
      ]
    },
    {
      "cell_type": "markdown",
      "id": "526bbece-f95b-4866-bf7f-60a6de71a510",
      "metadata": {
        "id": "526bbece-f95b-4866-bf7f-60a6de71a510"
      },
      "source": [
        "**特征的抽样**\n",
        "\n",
        "- 参数`colsample_bytree`，`colsample_bylevel`，`colsample_bynode`，这几个参数工沟通控制对特征所进行的抽样。\n",
        "> 所有形似`colsample_by*`的参数都是抽样比例，可输入(0,1]之间的任何浮点数，默认值都为1。<br><br>\n",
        "> 对于GBDT、随机森林来说，特征抽样是发生在每一次建树之前。但对XGBoost来说，特征的抽样可以发生在建树之前（由`colsample_bytree`控制）、生长出新的一层树之前（由`colsample_bylevel`控制）、或者每个节点分枝之前（由`colsample_bynode`控制）。<br><br>\n",
        "> 三个参数之间会互相影响，**全特征集 >= 建树所用的特征子集 >= 建立每一层所用的特征子集 >= 每个节点分枝时所使用的特征子集**。<br><br>\n",
        "> 举例说明：假设原本有64个特征，参数`colsample_bytree`等于0.5，则用于建树的特征就只有32个。此时，如果`colsample_bylevel`不为1，也为0.5，那新建层所用的特征只能由16个，并且**这16个特征只能从当前树已经抽样出的32特征中选择**。同样的，如果`colsample_bynode`也不为1，为0.5，那每次分枝之前所用的特征就只有8个，并且这8个特征只能从当前层已经抽样出的16个特征中选择。<br><br>\n",
        "> 在实际使用时，我们可以让任意抽样参数的比例为1，可以在某一环节不进行抽样。一般如果特征量太少（例如，10个以下），不建议同时使用三个参数。"
      ]
    },
    {
      "cell_type": "markdown",
      "id": "db2dbebd-1360-465b-b1ad-7cc9ce5ac496",
      "metadata": {
        "id": "db2dbebd-1360-465b-b1ad-7cc9ce5ac496"
      },
      "source": [
        "现在我们已经详细介绍了XGBoost当中最简单的弱评估器，按照CART树规则或DART树规则、使用结构分数增益进行分枝的树在XGBoost的系统中被称为“贪婪树”（Greedy Tree）。大部分时候我们都会使用贪婪树来运行XGBoost算法，但在XGBoost当中还有其他几种不同的建树模式，包括基于直方图的估计贪婪树（approx greedy tree）、快速直方图贪婪树（Fast Histogram Approximate Greedy Tree）、以及基于GPU运行的快速直方图贪婪树等内容。这些算法在XGBoost原始论文中占了较大篇幅，并且在后续的LightGBM算法中被发扬光大，我们将在LGBM算法中详细讲解直方图方法。在使用XGBoost时，我们将专注于贪婪树本身。\n",
        "\n",
        "到这里，关于XGBoost弱评估器的内容就全部讲解完毕了，总结一下，我们学习了如下参数：\n",
        "\n",
        "|类型|参数|\n",
        "|---|---|\n",
        "|**弱评估器**|<font color=\"green\">**booster**</font>：选择迭代过程中的弱评估器类型，包括gbtree，DART和线性模型<br><br><font color=\"green\">**sample_type**</font>：DART树中随机抽样树的具体方法<br><br><font color=\"green\">**rate_drop**</font>：DART树中所使用的抛弃率<br><br><font color=\"green\">**one_drop**</font>：每轮迭代时至少需要抛弃的树的数量<br><br><font color=\"green\">**skip_drop**</font>：在迭代中不进行抛弃的概率<br><br><font color=\"green\">**normalized_type**</font>：根据被抛弃的树的权重控制新增树权重<br><br>max_depth：允许的弱评估器的最大深度<br><br><font color=\"green\">**min_child_weight**：</font>（广义上）叶子节点上的最小样本权重/最小样本量<br><br><font color=\"green\">**gamma**</font>：目标函数中叶子数量$T$的系数，同时也是分枝时所需的最小结构分数增益值<br><br><font color=\"green\">**lambda**与**alpha**</font>：正则项系数，同时也位于结构分数的公式中，间接影响模型的剪枝<br><br><font color=\"green\">**sample_type**</font>：对样本进行抽样具体方式<br><br><font color=\"green\">**subsample**</font>：对样本进行抽样的具体比例<br><br><font color=\"green\">**colsample_bytree, colsample_bylevel, colsample_bynode**</font>：在建树过程中对特征进行抽样的比例|\n",
        "\n",
        "需要注意的是，以上全部参数都需要被写在parmas中，没有任何需要写在`xgb.train`或`xgb.cv`中的参数，故而没有给大家呈现具体的代码。在后续调参章节中，我们将展示使用这些参数的代码。"
      ]
    },
    {
      "cell_type": "markdown",
      "id": "e2530baa-f7d3-4ce2-932b-c75e52aee598",
      "metadata": {
        "id": "e2530baa-f7d3-4ce2-932b-c75e52aee598"
      },
      "source": [
        "## 3 XGBoost的其他参数与方法"
      ]
    },
    {
      "cell_type": "markdown",
      "id": "0e520fbf-de91-48f7-8a3e-b4c175589ab9",
      "metadata": {
        "id": "0e520fbf-de91-48f7-8a3e-b4c175589ab9"
      },
      "source": [
        "目前为止，我们已经将与XGBoost的训练、建树相关的参数全部讲解完毕了，剩余的参数是一些功能性的参数，如果你已经熟悉课程中其他算法，那这些参数对你来说应该非常容易，包括：\n",
        "\n",
        "- **提前停止**\n",
        "> 参数`early_stopping_rounds`：位于`xgb.train`方法当中。如果规定的评估指标不能连续`early_stopping_rounds`次迭代提升，那就触发提前停止。"
      ]
    },
    {
      "cell_type": "markdown",
      "id": "a77d3342-0c49-4469-9e69-b47343dfac3c",
      "metadata": {
        "id": "a77d3342-0c49-4469-9e69-b47343dfac3c"
      },
      "source": [
        "- **模型监控与评估**\n",
        "> 参数`evals`：位于`xgb.train`方法当中，用于规定训练当中所使用的评估指标，一般都与损失函数保持一致，也可选择与损失函数不同的指标。该指标也用于提前停止。<br><br>\n",
        "> 参数`verbosity`：用于打印训练流程和训练结果的参数。在最早的版本中该参数为silent，后来经过更新变成了今天的verbosity。然而，经过改进之后的verbosity更倾向于帮助我们打印建树相关的信息，而不像原来的silent一样帮助我们展示训练过程中的模型评估信息，因此verbosity现在不那么实用了。\n",
        ">> 我们可以在verbosity中设置数字[0,1,2,3]，参数默认值为1。<br>\n",
        ">> - 0：不打印任何内容<br>\n",
        ">> - 1：表示如果有警告，请打印警告<br>\n",
        ">> - 2：请打印建树的全部信息<br>\n",
        ">> - 3：我正在debug，请帮我打印更多的信息。"
      ]
    },
    {
      "cell_type": "code",
      "execution_count": null,
      "id": "503834c4-05f7-4433-b926-8896e7c3c6e3",
      "metadata": {
        "id": "503834c4-05f7-4433-b926-8896e7c3c6e3"
      },
      "outputs": [],
      "source": [
        "data = xgb.DMatrix(X,y)\n",
        "params = {\"objective\":\"reg:squarederror\"\n",
        "         ,\"eta\":0.3\n",
        "         ,\"verbosity\":1 #如果有警告就打印警告，没有警惕则不打印任何内容\n",
        "         ,\"seed\":1412} #随机数种子\n",
        "reg = xgb.train(params,data,num_boost_round=10)"
      ]
    },
    {
      "cell_type": "code",
      "execution_count": null,
      "id": "b0116511-fbc1-4c28-b0a4-67a8aae41e42",
      "metadata": {
        "id": "b0116511-fbc1-4c28-b0a4-67a8aae41e42",
        "outputId": "7d9612d7-19ed-406f-ddfa-eaa0b440ace0"
      },
      "outputs": [
        {
          "name": "stdout",
          "output_type": "stream",
          "text": [
            "[18:12:45] INFO: C:/Users/Administrator/workspace/xgboost-win64_release_1.5.1/src/tree/updater_prune.cc:101: tree pruning end, 46 extra nodes, 0 pruned nodes, max_depth=6\n",
            "[18:12:45] INFO: C:/Users/Administrator/workspace/xgboost-win64_release_1.5.1/src/tree/updater_prune.cc:101: tree pruning end, 64 extra nodes, 0 pruned nodes, max_depth=6\n",
            "[18:12:45] INFO: C:/Users/Administrator/workspace/xgboost-win64_release_1.5.1/src/tree/updater_prune.cc:101: tree pruning end, 80 extra nodes, 0 pruned nodes, max_depth=6\n",
            "[18:12:45] INFO: C:/Users/Administrator/workspace/xgboost-win64_release_1.5.1/src/tree/updater_prune.cc:101: tree pruning end, 76 extra nodes, 0 pruned nodes, max_depth=6\n",
            "[18:12:45] INFO: C:/Users/Administrator/workspace/xgboost-win64_release_1.5.1/src/tree/updater_prune.cc:101: tree pruning end, 86 extra nodes, 0 pruned nodes, max_depth=6\n",
            "[18:12:45] INFO: C:/Users/Administrator/workspace/xgboost-win64_release_1.5.1/src/tree/updater_prune.cc:101: tree pruning end, 88 extra nodes, 0 pruned nodes, max_depth=6\n",
            "[18:12:45] INFO: C:/Users/Administrator/workspace/xgboost-win64_release_1.5.1/src/tree/updater_prune.cc:101: tree pruning end, 106 extra nodes, 0 pruned nodes, max_depth=6\n",
            "[18:12:45] INFO: C:/Users/Administrator/workspace/xgboost-win64_release_1.5.1/src/tree/updater_prune.cc:101: tree pruning end, 84 extra nodes, 0 pruned nodes, max_depth=6\n",
            "[18:12:45] INFO: C:/Users/Administrator/workspace/xgboost-win64_release_1.5.1/src/tree/updater_prune.cc:101: tree pruning end, 84 extra nodes, 0 pruned nodes, max_depth=6\n",
            "[18:12:45] INFO: C:/Users/Administrator/workspace/xgboost-win64_release_1.5.1/src/tree/updater_prune.cc:101: tree pruning end, 74 extra nodes, 0 pruned nodes, max_depth=6\n"
          ]
        }
      ],
      "source": [
        "params = {\"objective\":\"reg:squarederror\"\n",
        "         ,\"eta\":0.3\n",
        "         ,\"verbosity\":2 #打印进度 - 没有相应的数字来告诉我现在的进度\n",
        "         ,\"seed\":1412} #随机数种子\n",
        "reg = xgb.train(params,data,num_boost_round=10)"
      ]
    },
    {
      "cell_type": "code",
      "execution_count": null,
      "id": "ddba03cb-e485-4364-b1b5-ffbac315ba8c",
      "metadata": {
        "id": "ddba03cb-e485-4364-b1b5-ffbac315ba8c",
        "outputId": "79531d4f-01a9-4c5f-8ac6-53c8b1ff7462"
      },
      "outputs": [
        {
          "name": "stdout",
          "output_type": "stream",
          "text": [
            "[18:12:53] DEBUG: C:/Users/Administrator/workspace/xgboost-win64_release_1.5.1/src/gbm/gbtree.cc:155: Using tree method: 2\n",
            "[18:12:53] INFO: C:/Users/Administrator/workspace/xgboost-win64_release_1.5.1/src/tree/updater_prune.cc:101: tree pruning end, 46 extra nodes, 0 pruned nodes, max_depth=6\n",
            "[18:12:53] INFO: C:/Users/Administrator/workspace/xgboost-win64_release_1.5.1/src/tree/updater_prune.cc:101: tree pruning end, 64 extra nodes, 0 pruned nodes, max_depth=6\n",
            "[18:12:54] INFO: C:/Users/Administrator/workspace/xgboost-win64_release_1.5.1/src/tree/updater_prune.cc:101: tree pruning end, 80 extra nodes, 0 pruned nodes, max_depth=6\n",
            "[18:12:54] INFO: C:/Users/Administrator/workspace/xgboost-win64_release_1.5.1/src/tree/updater_prune.cc:101: tree pruning end, 76 extra nodes, 0 pruned nodes, max_depth=6\n",
            "[18:12:54] INFO: C:/Users/Administrator/workspace/xgboost-win64_release_1.5.1/src/tree/updater_prune.cc:101: tree pruning end, 86 extra nodes, 0 pruned nodes, max_depth=6\n",
            "[18:12:54] INFO: C:/Users/Administrator/workspace/xgboost-win64_release_1.5.1/src/tree/updater_prune.cc:101: tree pruning end, 88 extra nodes, 0 pruned nodes, max_depth=6\n",
            "[18:12:54] INFO: C:/Users/Administrator/workspace/xgboost-win64_release_1.5.1/src/tree/updater_prune.cc:101: tree pruning end, 106 extra nodes, 0 pruned nodes, max_depth=6\n",
            "[18:12:54] INFO: C:/Users/Administrator/workspace/xgboost-win64_release_1.5.1/src/tree/updater_prune.cc:101: tree pruning end, 84 extra nodes, 0 pruned nodes, max_depth=6\n",
            "[18:12:54] INFO: C:/Users/Administrator/workspace/xgboost-win64_release_1.5.1/src/tree/updater_prune.cc:101: tree pruning end, 84 extra nodes, 0 pruned nodes, max_depth=6\n",
            "[18:12:54] INFO: C:/Users/Administrator/workspace/xgboost-win64_release_1.5.1/src/tree/updater_prune.cc:101: tree pruning end, 74 extra nodes, 0 pruned nodes, max_depth=6\n",
            "[18:12:54] ======== Monitor (0): Learner ========\n",
            "[18:12:54] Configure: 0s, 1 calls @ 0us\n",
            "\n",
            "[18:12:54] EvalOneIter: 3e-05s, 10 calls @ 30us\n",
            "\n",
            "[18:12:54] GetGradient: 8.7e-05s, 10 calls @ 87us\n",
            "\n",
            "[18:12:54] PredictRaw: 0.002314s, 10 calls @ 2314us\n",
            "\n",
            "[18:12:54] UpdateOneIter: 0.010964s, 10 calls @ 10964us\n",
            "\n",
            "[18:12:54] ======== Monitor (0): GBTree ========\n",
            "[18:12:54] BoostNewTrees: 0.009449s, 10 calls @ 9449us\n",
            "\n",
            "[18:12:54] CommitModel: 5e-06s, 10 calls @ 5us\n",
            "\n",
            "[18:12:54] ======== Monitor (0): TreePruner ========\n",
            "[18:12:54] PrunerUpdate: 0.000581s, 10 calls @ 581us\n",
            "\n",
            "[18:12:54] ======== Monitor (0): Learner ========\n",
            "[18:12:54] ======== Monitor (0):  ========\n",
            "[18:12:54] ======== Monitor (0): TreePruner ========\n"
          ]
        }
      ],
      "source": [
        "params = {\"objective\":\"reg:squarederror\"\n",
        "         ,\"eta\":0.3\n",
        "         ,\"verbosity\":3\n",
        "         ,\"seed\":1412} #随机数种子\n",
        "reg = xgb.train(params,data,num_boost_round=10)"
      ]
    },
    {
      "cell_type": "markdown",
      "id": "5d60fea9-4589-4265-b795-c75a02dcafc7",
      "metadata": {
        "id": "5d60fea9-4589-4265-b795-c75a02dcafc7"
      },
      "source": [
        "- **样本不均衡**\n",
        "> 参数`scale_pos_weight`：调节样本不均衡问题，类似于sklearn中的class_weight，仅在算法执行分类任务时有效。参数`scale_pos_weight`的值时负样本比正样本的比例，默认为1，因此XGBoost时默认调节样本不均衡的。同时，如果你需要手动设置这个参数，可以输入（负样本总量）/（正样本总量）这样的值。"
      ]
    },
    {
      "cell_type": "markdown",
      "id": "00efe7c8-971c-44c8-b63d-ec007afb5696",
      "metadata": {
        "id": "00efe7c8-971c-44c8-b63d-ec007afb5696"
      },
      "source": [
        "- **并行的线程**\n",
        "> 参数`nthread`：允许并行的最大线程数，类似于sklearn中的n_jobs，默认为最大，因此xgboost在默认运行时就会占用大量资源。如果数据量较大、模型体量较大，可以设置比最大线程略小的线程，为其他程序运行留出空间。"
      ]
    },
    {
      "cell_type": "markdown",
      "id": "28599940-186f-4413-aabb-8c6061a763b1",
      "metadata": {
        "id": "28599940-186f-4413-aabb-8c6061a763b1"
      },
      "source": [
        "|类型|参数|\n",
        "|-|-|\n",
        "|**迭代过程/目标函数**|**params**: eta, base_score, objective, <font color=\"green\">**lambda, gamma, alpha, max_delta_step**</font><br>**xgb.train()**: num_boost_round|\n",
        "|**弱评估器结构**|**params**: max_depth, <font color=\"green\">**booster, min_child_weight**</font>|\n",
        "|**dart树**|**params**: <font color=\"green\">**sample_type, normalized_type, rate_drop, one_drop, skip_drop**</font>|\n",
        "|**弱评估器的训练数据**|**params**: subsample, <font color=\"green\">**sampling_method, colsamle_bytree, colsample_bylevel, colsample_bynode**</font>|\n",
        "|**提前停止**|**xgb.train()**: <font color=\"green\">**early_stopping_rounds, evals**</font>, eval_metric|\n",
        "|**其他**|**params**: seed, <font color=\"green\">**verbosity, scale_pos_weight, nthread**</font>|"
      ]
    },
    {
      "cell_type": "markdown",
      "id": "f6a9c053-8345-4c9d-9d61-ac312774e6fb",
      "metadata": {
        "id": "f6a9c053-8345-4c9d-9d61-ac312774e6fb"
      },
      "source": [
        "到这里，我们就讲解完毕了所有的超参数。由于XGBoost是一个极其复杂的系统，因此这些参数并不是XGBoost全部的参数，但上面表格中的参数已经覆盖了95%你需要用到的参数，在理解这些参数的基础上，再使用XGBoost的其他参数也会相对容易。从下一节开始，我们将讲解XGBoost使用贝叶斯优化的调参流程。"
      ]
    },
    {
      "cell_type": "markdown",
      "id": "f37b453d-2c45-49e3-b50f-7265ec5457c1",
      "metadata": {
        "tags": [],
        "id": "f37b453d-2c45-49e3-b50f-7265ec5457c1"
      },
      "source": [
        "# 三 XGBoost的参数空间与超参数优化\n",
        "## 1 确定XGBoost优化的参数空间"
      ]
    },
    {
      "cell_type": "markdown",
      "id": "d15f3017-daeb-4af3-a42b-918a43bc28c5",
      "metadata": {
        "tags": [],
        "id": "d15f3017-daeb-4af3-a42b-918a43bc28c5"
      },
      "source": [
        "丰富的超参数为集成算法提供了无限的可能，以降低偏差为目的的Boosting算法们在调参之后的表现更是所向披靡，因此XGBoost的超参数自动优化也是一个重要的课题。在过去的课程当中我们已经讲解过大量关于树模型参数影响力的内容，因此**在阅读本章之前，强烈建议学习GBDT课程当中超参数空间相关的内容**。属于GBDT的参数空间会极大程度地帮助你理解XGBoost的参数空间。\n",
        "\n",
        "对任意集成算法进行超参数优化之前，我们需要明确两个基本事实：\n",
        "\n",
        "1、不同参数对算法结果的影响力大小<br>\n",
        "2、确定用于搜索的参数空间<br>\n",
        "\n",
        "对XGBoost来说，我们可以大致如下排列各个参数对算法的影响："
      ]
    },
    {
      "cell_type": "markdown",
      "id": "3e051fe2-2e29-41d7-a0fb-b2ae5795dd7b",
      "metadata": {
        "id": "3e051fe2-2e29-41d7-a0fb-b2ae5795dd7b"
      },
      "source": [
        "|影响力|参数|\n",
        "|:-:|:-:|\n",
        "|⭐⭐⭐⭐⭐<br>几乎总是具有巨大影响力|num_boost_round（整体学习能力）<br>eta（整体学习速率）<br>|\n",
        "|⭐⭐⭐⭐<br>大部分时候具有影响力|booster（整体学习能力）<br>colsample_by*（随机性）<br>gamma（结构风险 + 精剪枝）<br>lambda（结构风险 + 间接剪枝）<br> min_child_weight（精剪枝）|\n",
        "|⭐⭐<br>可能有大影响力<br>大部分时候影响力不明显|max_depth（粗剪枝）<br>alpha（结构风险 + 精剪枝）<br>subsamples（随机性）<br>objective（整体学习能力）<br>scale_pos_weight（样本不均衡）|\n",
        "|⭐<br>当数据量足够大时，几乎无影响|seed<br>base_score（初始化）<br>|"
      ]
    },
    {
      "cell_type": "markdown",
      "id": "7f8c1c3e-3314-4883-b0bd-38eec516cff6",
      "metadata": {
        "id": "7f8c1c3e-3314-4883-b0bd-38eec516cff6"
      },
      "source": [
        "比起其他树的集成算法，XGBoost有大量通过影响建树过程而影响整体模型的参数（比如`gamma`，`lambda`等）。这些参数以较为复杂的方式共同作用、影响模型的最终结果，因此他们的影响力不是线性的，也不总是能在调参过程中明显地展露出来，但调节这些参数大多数时候都能对模型有影响，因此大部分与结构风险相关的参数都被评为4星参数了。相对的，对XGBoost来说总是具有巨大影响力的参数就只有迭代次数与学习率了。\n",
        "\n",
        "在上述影响力排名当中，需要特别说明以下几点：\n",
        "\n",
        "1. 在随机森林中影响力巨大的`max_depth`在XGBoost中默认值为6，比GBDT中的调参空间略大，但还是没有太多的空间，因此影响力不足。\n",
        "\n",
        "2. 在GBDT中影响力巨大的`max_features`对标XGBoost中的`colsample_by*`系列参数，原则上来说影响力应该非常大，但由于三个参数共同作用，调参难度较高，在只有1个参数作用时效果略逊于`max_features`。\n",
        "\n",
        "3. 精剪枝参数往往不会对模型有太大的影响，但在XGBoost当中，`min_child_weight`与结构分数的计算略微相关，因此有时候会展现出较大的影响力。故而将这个精剪枝参数设置为4星参数。\n",
        "\n",
        "4. 类似于`objective`这样影响整体学习能力的参数一般都有较大的影响力，但XGBoost当中每种任务可选的损失函数不多，因此一般损失函数不在调参范围之内，故认为该参数的影响力不明显。\n",
        "\n",
        "5. XGBoost的初始化分数只能是数字，因此当迭代次数足够多、数据量足够大时，起点的影响会越来越小。因此我们一般不会对base_score进行调参。\n",
        "\n",
        "那在调参的时候，我们应该选择哪些参数呢？与其他树模型一样，我们首先会考虑所有影响力巨大的参数（5星参数），当算力足够/优化算法运行较快的时候，我们可以考虑将大部分时候具有影响力的参数（4星）也都加入参数空间。一般来说，只要样本量足够，我们还是愿意尝试`subsample`以及`max_depth`，如果算力充足，我们还可以加入`obejctive`这样或许会有效的参数。\n",
        "\n",
        "需要说明的是，一般不会同时使用三个`colsample_by*`参数、更不会同时调试三个`colsample_by*`参数。首先，参数`colsample_bylevel`较为不稳定，不容易把握，因此当训练资源充足时，会同时调整`colsample_bytree`和`colsample_bynode`。如果计算资源不足，或者优先考虑节约计算时间，则会先选择其中一个参数、尝试将特征量控制在一定范围内来建树，并观察模型的结果。在这三个参数中，使用`bynode`在分枝前随机，比使用`bytree`建树前随机更能带来多样性、更能对抗过拟合，但同时也可能严重地伤害模型的学习能力。在这里，我将尝试同时使用两个参数进行调参。\n",
        "\n",
        "在这样的基本思想下，再结合硬件与运行时间因素，我将选择如下参数进行调整，并使用基于TPE贝叶斯优化（HyperOpt）对XGBoost进行优化——"
      ]
    },
    {
      "cell_type": "markdown",
      "id": "4d2368ad-ec17-4def-ae3c-4e0d4d158b4c",
      "metadata": {
        "id": "4d2368ad-ec17-4def-ae3c-4e0d4d158b4c"
      },
      "source": [
        "|参数|\n",
        "|:-:|\n",
        "|`num_boost_round`|\n",
        "|`eta`|\n",
        "|`booster`|\n",
        "|`colsample_bynode`|\n",
        "|`colsample_bytree`|\n",
        "|`gamma`|\n",
        "|`lambda`|\n",
        "|`min_child_weight`|\n",
        "|`max_depth`|\n",
        "|`subsamples`|\n",
        "|`objective`|"
      ]
    },
    {
      "cell_type": "markdown",
      "id": "43e4eace-5a88-4d56-8dfb-1ca34f6972ed",
      "metadata": {
        "id": "43e4eace-5a88-4d56-8dfb-1ca34f6972ed"
      },
      "source": [
        "在此基础上，我们需要进一步确认参数空间：\n",
        "\n",
        "- 对于有界的参数（比如`colsample_bynode`，`subsamples`等），或者有固定选项的参数（比如`booster`,`objective`），无需确认参数空间。<br><br>\n",
        "- 对取值较小的参数（例如学习率`eta`，一般树模型的`min_impurity_decrease`等），或者通常会向下调整的参数（比如`max_depth`），一般是围绕默认值向两边展开构建参数空间。<br><br>\n",
        "- 对于取值可大可小，且原则上可取到无穷值的参数（`num_boost_round`，`gamma`、`lambda`、`min_child_weight`等），一般需要绘制学习曲线进行提前探索，或者**也可以设置广而稀的参数空间，来一步步缩小范围**。\n",
        "\n",
        "在之前的课程当中，我们已经对`gamma`和`lambda`的范围进行过探索，其中`lambda`范围[1,2]之间对模型有影响，而`gamma`在[1e6,1e7]之间才对模型有影响。因此我们可以先规定`lambda`的参数空间为np.arange(0,3,0.2)，并规定`gamma`的参数空间为np.arange(1e6,1e7,1e6)。现在我们对剩下2个参数绘制学习曲线进行轻度探索。如下所示："
      ]
    },
    {
      "cell_type": "code",
      "execution_count": null,
      "id": "3202f99f-a180-490c-a371-375913526ffd",
      "metadata": {
        "id": "3202f99f-a180-490c-a371-375913526ffd"
      },
      "outputs": [],
      "source": [
        "import xgboost as xgb\n",
        "data_xgb = xgb.DMatrix(X,y)\n",
        "\n",
        "#定义一个函数，用来检测模型迭代完毕后的过拟合情况\n",
        "def overfitcheck(result):\n",
        "    return (result.iloc[-1,2] - result.iloc[-1,0]).min()"
      ]
    },
    {
      "cell_type": "markdown",
      "id": "5af049e0-18f4-45be-a685-26e6a9874d86",
      "metadata": {
        "id": "5af049e0-18f4-45be-a685-26e6a9874d86"
      },
      "source": [
        "- **num_boost_round**\n",
        "\n",
        "一般迭代次数默认为100次，因此我们通常会主动在300或者500以内进行尝试："
      ]
    },
    {
      "cell_type": "code",
      "execution_count": null,
      "id": "9e0fc9d7-8548-492e-a188-483523f28397",
      "metadata": {
        "id": "9e0fc9d7-8548-492e-a188-483523f28397",
        "outputId": "e2662838-7689-4abc-e6f0-edb8f3a213a6"
      },
      "outputs": [
        {
          "data": {
            "image/png": "[encoded data removed]",
            "text/plain": [
              "<Figure size 432x288 with 1 Axes>"
            ]
          },
          "metadata": {
            "needs_background": "light"
          },
          "output_type": "display_data"
        }
      ],
      "source": [
        "train = []\n",
        "test = []\n",
        "option = np.arange(10,300,10)\n",
        "overfit = []\n",
        "for i in option:\n",
        "    params = {\"max_depth\":5,\"seed\":1412,\"eta\":0.1, \"nthread\":16\n",
        "             }\n",
        "    result = xgb.cv(params,data_xgb,num_boost_round=i\n",
        "                ,nfold=5 #补充交叉验证中所需的参数，nfold=5表示5折交叉验证\n",
        "                ,seed=1412 #交叉验证的随机数种子，params中的是管理boosting过程的随机数种子\n",
        "               )\n",
        "    overfit.append(overfitcheck(result))\n",
        "    train.append(result.iloc[-1,0])\n",
        "    test.append(result.iloc[-1,2])\n",
        "plt.plot(option,test);"
      ]
    },
    {
      "cell_type": "code",
      "execution_count": null,
      "id": "5ff0864a-95a0-47ba-a4df-396666b6f624",
      "metadata": {
        "id": "5ff0864a-95a0-47ba-a4df-396666b6f624",
        "outputId": "b9fa7ff9-5347-4511-a502-79e4580dfb5e"
      },
      "outputs": [
        {
          "data": {
            "image/png": "[encoded data removed]",
            "text/plain": [
              "<Figure size 432x288 with 1 Axes>"
            ]
          },
          "metadata": {
            "needs_background": "light"
          },
          "output_type": "display_data"
        }
      ],
      "source": [
        "plt.plot(option,train);"
      ]
    },
    {
      "cell_type": "code",
      "execution_count": null,
      "id": "b59a80bf-cd45-4262-a501-92e08e2545f9",
      "metadata": {
        "id": "b59a80bf-cd45-4262-a501-92e08e2545f9",
        "outputId": "61d6a549-626b-4008-ac3a-f831cd8962e7"
      },
      "outputs": [
        {
          "data": {
            "image/png": "[encoded data removed]",
            "text/plain": [
              "<Figure size 432x288 with 1 Axes>"
            ]
          },
          "metadata": {
            "needs_background": "light"
          },
          "output_type": "display_data"
        }
      ],
      "source": [
        "plt.plot(option,overfit);"
      ]
    },
    {
      "cell_type": "markdown",
      "id": "acfadfda-c2e7-40fb-b495-95dbd26f178e",
      "metadata": {
        "id": "acfadfda-c2e7-40fb-b495-95dbd26f178e"
      },
      "source": [
        "可以看到，`num_boost_round`大约增长到50左右就不再对模型有显著影响了，我们可以进一步来查看分数到30000以下之后的情况："
      ]
    },
    {
      "cell_type": "code",
      "execution_count": null,
      "id": "0d040944-4619-425a-b9af-ec33df5410e3",
      "metadata": {
        "id": "0d040944-4619-425a-b9af-ec33df5410e3",
        "outputId": "983053cb-56c4-477c-c86a-5f03fecc72cb"
      },
      "outputs": [
        {
          "data": {
            "image/png": "[encoded data removed]",
            "text/plain": [
              "<Figure size 432x288 with 1 Axes>"
            ]
          },
          "metadata": {
            "needs_background": "light"
          },
          "output_type": "display_data"
        }
      ],
      "source": [
        "plt.plot(option,test)\n",
        "plt.ylim(20000,30000);"
      ]
    },
    {
      "cell_type": "markdown",
      "id": "2b4aaba7-1d32-414d-817a-9bd12f77d584",
      "metadata": {
        "id": "2b4aaba7-1d32-414d-817a-9bd12f77d584"
      },
      "source": [
        "100棵树之后损失几乎没有再下降，因此`num_boost_round`的范围可以定到range(50,200,10)。"
      ]
    },
    {
      "cell_type": "markdown",
      "id": "28717a70-9b30-4ddb-8616-6696026b90f2",
      "metadata": {
        "id": "28717a70-9b30-4ddb-8616-6696026b90f2"
      },
      "source": [
        "- **min_child_weight**\n",
        "\n",
        "作为$h_i$值之和，`min_child_weight`的真实值是可以计算出来的，但精确的计算需要跟随xgboost建树的过程运行，因此比较麻烦。遗憾的是，xgboost官方并未提供调用树结构以及$h_i$值的接口，因此最佳方案其实是对每个叶子上的样本量进行估计。"
      ]
    },
    {
      "cell_type": "code",
      "execution_count": null,
      "id": "a839b1a8-d8db-4836-967c-e90b4bb52f91",
      "metadata": {
        "id": "a839b1a8-d8db-4836-967c-e90b4bb52f91",
        "outputId": "72f90f2e-e14e-40fc-d7ca-4d89560655e1"
      },
      "outputs": [
        {
          "data": {
            "text/plain": [
              "(1460, 80)"
            ]
          },
          "execution_count": 18,
          "metadata": {},
          "output_type": "execute_result"
        }
      ],
      "source": [
        "X.shape"
      ]
    },
    {
      "cell_type": "markdown",
      "id": "44869622-5ce8-4911-ab68-8b95aa9d387e",
      "metadata": {
        "id": "44869622-5ce8-4911-ab68-8b95aa9d387e"
      },
      "source": [
        "现在总共有样本1460个，在五折交叉验证中训练集共有1460\\*0.8 = 1168个样本。由于CART树是二叉树，我们规定的最大深度为5，因此最多有$2^5 = 32$个叶子节点，平均每个叶子结点上的样本量大概为1168/32 = 36.5个。粗略估计，如果`min_child_weight`是一个小于36.5的值，就可能对模型造成巨大影响。当然，不排除有大量样本集中在一片叶子上的情况，因此我们可以设置备选范围稍微放大，例如设置为[0,100]来观察模型的结果。"
      ]
    },
    {
      "cell_type": "code",
      "execution_count": null,
      "id": "979e8078-0120-4387-b5e6-38d2e138d6f3",
      "metadata": {
        "id": "979e8078-0120-4387-b5e6-38d2e138d6f3",
        "outputId": "efc9bc36-f9e4-41d2-942e-7f54e3030310"
      },
      "outputs": [
        {
          "data": {
            "image/png": "[encoded data removed]",
            "text/plain": [
              "<Figure size 432x288 with 1 Axes>"
            ]
          },
          "metadata": {
            "needs_background": "light"
          },
          "output_type": "display_data"
        }
      ],
      "source": [
        "train = []\n",
        "test = []\n",
        "option = np.arange(0,100,1)\n",
        "overfit = []\n",
        "for i in option:\n",
        "    params = {\"max_depth\":5,\"seed\":1412,\"eta\":0.1, \"nthread\":16\n",
        "              ,\"min_child_weight\":i\n",
        "             }\n",
        "    result = xgb.cv(params,data_xgb,num_boost_round=50\n",
        "                ,nfold=5 #补充交叉验证中所需的参数，nfold=5表示5折交叉验证\n",
        "                ,seed=1412 #交叉验证的随机数种子，params中的是管理boosting过程的随机数种子\n",
        "               )\n",
        "    overfit.append(overfitcheck(result))\n",
        "    train.append(result.iloc[-1,0])\n",
        "    test.append(result.iloc[-1,2])\n",
        "plt.plot(option,test);"
      ]
    },
    {
      "cell_type": "code",
      "execution_count": null,
      "id": "1c2e9d8f-e330-4199-8b46-94e2ee80317b",
      "metadata": {
        "id": "1c2e9d8f-e330-4199-8b46-94e2ee80317b",
        "outputId": "8b8f8a4f-e20f-4091-97c6-45c690cebf95"
      },
      "outputs": [
        {
          "data": {
            "image/png": "[encoded data removed]",
            "text/plain": [
              "<Figure size 432x288 with 1 Axes>"
            ]
          },
          "metadata": {
            "needs_background": "light"
          },
          "output_type": "display_data"
        }
      ],
      "source": [
        "plt.plot(option,train);"
      ]
    },
    {
      "cell_type": "code",
      "execution_count": null,
      "id": "70dcccb0-a483-4875-835f-a131b2d5d0c7",
      "metadata": {
        "id": "70dcccb0-a483-4875-835f-a131b2d5d0c7",
        "outputId": "eddbdb3e-912a-460b-c063-3bef617d8134"
      },
      "outputs": [
        {
          "data": {
            "image/png": "[encoded data removed]",
            "text/plain": [
              "<Figure size 432x288 with 1 Axes>"
            ]
          },
          "metadata": {
            "needs_background": "light"
          },
          "output_type": "display_data"
        }
      ],
      "source": [
        "plt.plot(option,overfit);"
      ]
    },
    {
      "cell_type": "markdown",
      "id": "325a1ed2-6994-47a4-99d3-5608d3e2235e",
      "metadata": {
        "id": "325a1ed2-6994-47a4-99d3-5608d3e2235e"
      },
      "source": [
        "很明显，`min_child_weight`在0~40的范围之内对测试集上的交叉验证损失有较好的抑制作用，因此我们可以将`min_child_weight`的调参空间设置为range(0,50,2)来进行调参。\n",
        "\n",
        "如此，全部参数的参数空间就确定了，如下所示："
      ]
    },
    {
      "cell_type": "markdown",
      "id": "1d2125e0-2024-428c-b073-b01c55594629",
      "metadata": {
        "id": "1d2125e0-2024-428c-b073-b01c55594629"
      },
      "source": [
        "|参数|范围|\n",
        "|:-:|:-:|\n",
        "|`num_boost_round`|学习曲线探索，最后定为<br>(50,200,10)|\n",
        "|`eta`|以0.3为中心向两边延展，最后定为<br>(0.05,2.05,0.05)|\n",
        "|`booster`|两种选项<br>[\"gbtree\",\"dart\"]|\n",
        "|`colsample_bytree`|设置为(0,1]之间的值，但由于还有参数`bynode`，因此整体不宜定得太小，因此定为<br>(0.3,1,0.1)|\n",
        "|`colsample_bynode`|设置为(0,1]之间的值，定为<br>(0.1,1,0.1)|\n",
        "|`gamma`|学习曲线探索，有较大可能需要改变，定为<br>(1e6,1e7,1e6)|\n",
        "|`lambda`|学习曲线探索，定为<br>(0,3,0.2)|\n",
        "|`min_child_weight`|学习曲线探索，定为<br>(0,50,2)|\n",
        "|`max_depth`|以6为中心向两边延展，右侧范围定得更大<br>(2,30,2)|\n",
        "|`subsample`|设置为(0,1]之间的值，定为<br>(0.1,1,0.1)|\n",
        "|`objective`|两种回归类模型的评估指标<br>[\"reg:squarederror\", \"reg:squaredlogerror\"]|\n",
        "|`rate_drop`|如果选择\"dart\"树所需要补充的参数，设置为(0,1]之间的值<br>(0.1,1,0.1)|"
      ]
    },
    {
      "cell_type": "markdown",
      "id": "f278743a-ea19-4b5e-9121-c0785bdacaac",
      "metadata": {
        "id": "f278743a-ea19-4b5e-9121-c0785bdacaac"
      },
      "source": [
        "一般在初次搜索时，我们会设置范围较大、较为稀疏的参数空间，然后在多次搜索中逐渐缩小范围、降低参数空间的维度。不过这一次设置的参数空间都较为密集，参数也较多，大家在实际进行设置的时候可以选择与我设置的不同的范围或密度。"
      ]
    },
    {
      "cell_type": "markdown",
      "id": "294a0e35-f42f-4807-a296-f19eabba5672",
      "metadata": {
        "id": "294a0e35-f42f-4807-a296-f19eabba5672"
      },
      "source": [
        "## 2 基于TEP对XGBoost进行优化"
      ]
    },
    {
      "cell_type": "code",
      "execution_count": null,
      "id": "fb193d8a-2e36-4fb8-8796-39e9e71e56ec",
      "metadata": {
        "id": "fb193d8a-2e36-4fb8-8796-39e9e71e56ec"
      },
      "outputs": [],
      "source": [
        "#日常使用库与算法\n",
        "import pandas as pd\n",
        "import numpy as np\n",
        "import sklearn\n",
        "import matplotlib as mlp\n",
        "import matplotlib.pyplot as plt\n",
        "import time\n",
        "import xgboost as xgb\n",
        "\n",
        "#导入优化算法\n",
        "import hyperopt\n",
        "from hyperopt import hp, fmin, tpe, Trials, partial\n",
        "from hyperopt.early_stop import no_progress_loss"
      ]
    },
    {
      "cell_type": "code",
      "execution_count": null,
      "id": "678c9967-1352-4b2f-9c7b-1bc017b8d366",
      "metadata": {
        "id": "678c9967-1352-4b2f-9c7b-1bc017b8d366"
      },
      "outputs": [],
      "source": [
        "data = pd.read_csv(r\"D:\\Pythonwork\\2021ML\\PART 2 Ensembles\\datasets\\House Price\\train_encode.csv\",index_col=0)"
      ]
    },
    {
      "cell_type": "code",
      "execution_count": null,
      "id": "4cddc05c-b304-4892-9c96-84c15ce64522",
      "metadata": {
        "id": "4cddc05c-b304-4892-9c96-84c15ce64522"
      },
      "outputs": [],
      "source": [
        "X = data.iloc[:,:-1]\n",
        "y = data.iloc[:,-1]"
      ]
    },
    {
      "cell_type": "code",
      "execution_count": null,
      "id": "392b67cc-3558-423d-8e80-8f78481ea057",
      "metadata": {
        "id": "392b67cc-3558-423d-8e80-8f78481ea057",
        "outputId": "3c472ddc-7d11-4681-f85e-e45da561abac"
      },
      "outputs": [
        {
          "data": {
            "text/plain": [
              "(1460, 80)"
            ]
          },
          "execution_count": 26,
          "metadata": {},
          "output_type": "execute_result"
        }
      ],
      "source": [
        "X.shape"
      ]
    },
    {
      "cell_type": "markdown",
      "id": "2e652fdb-2249-4eff-86c7-c06e9840a230",
      "metadata": {
        "id": "2e652fdb-2249-4eff-86c7-c06e9840a230"
      },
      "source": [
        "> Step 1.建立benchmark"
      ]
    },
    {
      "cell_type": "markdown",
      "id": "b3408d7b-885a-43c3-9834-7cb5004ebbe4",
      "metadata": {
        "id": "b3408d7b-885a-43c3-9834-7cb5004ebbe4"
      },
      "source": [
        "|算法|RF<br>(TPE)|AdaBoost<br>(TPE)|GBDT<br>(TPE)|\n",
        "|:-:|:-:|:-:|:-:|\n",
        "|5折验证<br>运行时间|0.22s|0.27s|<font color=\"brown\">**1.54s(↑)**</font>|\n",
        "|测试最优分数<br>(RMSE)|28346.673|35169.730|<font color=\"green\">**26415.835(↓)**</font>|"
      ]
    },
    {
      "cell_type": "markdown",
      "id": "fbc51600-f7c1-4255-ae78-ad03bb26467e",
      "metadata": {
        "id": "fbc51600-f7c1-4255-ae78-ad03bb26467e"
      },
      "source": [
        "> Step 2.定义目标函数、参数空间、优化函数、验证函数\n",
        ">> 目标函数"
      ]
    },
    {
      "cell_type": "code",
      "execution_count": null,
      "id": "e7af1955-a087-4be9-8708-a9c2e41597b5",
      "metadata": {
        "id": "e7af1955-a087-4be9-8708-a9c2e41597b5"
      },
      "outputs": [],
      "source": [
        "def hyperopt_objective(params):\n",
        "    paramsforxgb = {\"eta\":params[\"eta\"]\n",
        "                    ,\"booster\":params[\"booster\"]\n",
        "                    ,\"colsample_bytree\":params[\"colsample_bytree\"]\n",
        "                    ,\"colsample_bynode\":params[\"colsample_bynode\"]\n",
        "                    ,\"gamma\":params[\"gamma\"]\n",
        "                    ,\"lambda\":params[\"lambda\"]\n",
        "                    ,\"min_child_weight\":params[\"min_child_weight\"]\n",
        "                    ,\"max_depth\":int(params[\"max_depth\"])\n",
        "                    ,\"subsample\":params[\"subsample\"]\n",
        "                    ,\"objective\":params[\"objective\"]\n",
        "                    ,\"rate_drop\":params[\"rate_drop\"]\n",
        "                    ,\"nthread\":14\n",
        "                    ,\"verbosity\":0\n",
        "                    ,\"seed\":1412}\n",
        "    result = xgb.cv(params,data_xgb, seed=1412, metrics=(\"rmse\")\n",
        "                    ,num_boost_round=int(params[\"num_boost_round\"]))\n",
        "    return result.iloc[-1,2]"
      ]
    },
    {
      "cell_type": "markdown",
      "id": "9c33915e-104a-4204-82ac-b4305cdfdf5d",
      "metadata": {
        "id": "9c33915e-104a-4204-82ac-b4305cdfdf5d"
      },
      "source": [
        ">> 参数空间"
      ]
    },
    {
      "cell_type": "code",
      "execution_count": null,
      "id": "c45e7d20-729d-4540-a9bb-f267fde9a14c",
      "metadata": {
        "id": "c45e7d20-729d-4540-a9bb-f267fde9a14c"
      },
      "outputs": [],
      "source": [
        "param_grid_simple = {'num_boost_round': hp.quniform(\"num_boost_round\",50,200,10)\n",
        "                     ,\"eta\": hp.quniform(\"eta\",0.05,2.05,0.05)\n",
        "                     ,\"booster\":hp.choice(\"booster\",[\"gbtree\",\"dart\"])\n",
        "                     ,\"colsample_bytree\":hp.quniform(\"colsample_bytree\",0.3,1,0.1)\n",
        "                     ,\"colsample_bynode\":hp.quniform(\"colsample_bynode\",0.1,1,0.1)\n",
        "                     ,\"gamma\":hp.quniform(\"gamma\",1e6,1e7,1e6)\n",
        "                     ,\"lambda\":hp.quniform(\"lambda\",0,3,0.2)\n",
        "                     ,\"min_child_weight\":hp.quniform(\"min_child_weight\",0,50,2)\n",
        "                     ,\"max_depth\":hp.choice(\"max_depth\",[*range(2,30,2)])\n",
        "                     ,\"subsample\":hp.quniform(\"subsample\",0.1,1,0.1)\n",
        "                     ,\"objective\":hp.choice(\"objective\",[\"reg:squarederror\",\"reg:squaredlogerror\"])\n",
        "                     ,\"rate_drop\":hp.quniform(\"rate_drop\",0.1,1,0.1)\n",
        "                    }"
      ]
    },
    {
      "cell_type": "markdown",
      "id": "e2b63e03-e7e6-4114-947d-440bb0eb5af1",
      "metadata": {
        "id": "e2b63e03-e7e6-4114-947d-440bb0eb5af1"
      },
      "source": [
        ">> 优化函数"
      ]
    },
    {
      "cell_type": "code",
      "execution_count": null,
      "id": "11364349-4c7d-4f9c-9fca-56150c4b1746",
      "metadata": {
        "id": "11364349-4c7d-4f9c-9fca-56150c4b1746"
      },
      "outputs": [],
      "source": [
        "def param_hyperopt(max_evals=100):\n",
        "    \n",
        "    #保存迭代过程\n",
        "    trials = Trials()\n",
        "    \n",
        "    #设置提前停止\n",
        "    early_stop_fn = no_progress_loss(30)\n",
        "    \n",
        "    #定义代理模型\n",
        "    params_best = fmin(hyperopt_objective\n",
        "                       , space = param_grid_simple\n",
        "                       , algo = tpe.suggest\n",
        "                       , max_evals = max_evals\n",
        "                       , verbose=True\n",
        "                       , trials = trials\n",
        "                       , early_stop_fn = early_stop_fn\n",
        "                      )\n",
        "    \n",
        "    #打印最优参数，fmin会自动打印最佳分数\n",
        "    print(\"\\n\",\"\\n\",\"best params: \", params_best,\n",
        "          \"\\n\")\n",
        "    return params_best, trials"
      ]
    },
    {
      "cell_type": "markdown",
      "id": "787ed8d5-1631-4238-9d0e-b9b49bca96de",
      "metadata": {
        "id": "787ed8d5-1631-4238-9d0e-b9b49bca96de"
      },
      "source": [
        "> Step 3.训练贝叶斯优化器\n",
        "\n",
        "XGBoost中涉及到前所未有多的随机性，因此模型可能表现得极度不稳定，我们需要多尝试几次贝叶斯优化来观察模型的稳定性。因此在这里我们完成了5次贝叶斯优化，查看如下的结果："
      ]
    },
    {
      "cell_type": "code",
      "execution_count": null,
      "id": "2fe4c18f-b11e-4fce-b002-152b5a362b25",
      "metadata": {
        "id": "2fe4c18f-b11e-4fce-b002-152b5a362b25",
        "outputId": "fc1d1c9b-88cc-4b73-8ea5-f2cca55bb956"
      },
      "outputs": [
        {
          "name": "stdout",
          "output_type": "stream",
          "text": [
            " 38%|██████████████████▏                             | 38/100 [05:16<08:36,  8.33s/trial, best loss: 26753.27408833333]\n",
            "\n",
            " \n",
            " best params:  {'booster': 1, 'colsample_bynode': 0.8, 'colsample_bytree': 0.8, 'eta': 1.55, 'gamma': 2000000.0, 'lambda': 0.2, 'max_depth': 2, 'min_child_weight': 0.0, 'num_boost_round': 200.0, 'objective': 0, 'rate_drop': 0.2, 'subsample': 0.9} \n",
            "\n"
          ]
        }
      ],
      "source": [
        "params_best, trials = param_hyperopt(100) #由于参数空间巨大，给与100次迭代的空间"
      ]
    },
    {
      "cell_type": "markdown",
      "id": "3dc7d483-54d3-4735-8dbd-b8ae3429624c",
      "metadata": {
        "id": "3dc7d483-54d3-4735-8dbd-b8ae3429624c"
      },
      "source": [
        "在迭代的早期就因提前停止而停下了，修改提前停止的容忍次数为30次，继续尝试："
      ]
    },
    {
      "cell_type": "code",
      "execution_count": null,
      "id": "bc658e07-132e-42b7-87c8-8c4de749ab6f",
      "metadata": {
        "id": "bc658e07-132e-42b7-87c8-8c4de749ab6f",
        "outputId": "576aa8c8-5829-4db1-d82b-c8d77b6e3038"
      },
      "outputs": [
        {
          "name": "stdout",
          "output_type": "stream",
          "text": [
            " 57%|██████████████████████████▊                    | 57/100 [05:43<04:18,  6.02s/trial, best loss: 26775.553385333333]\n",
            "\n",
            " \n",
            " best params:  {'booster': 1, 'colsample_bynode': 0.5, 'colsample_bytree': 1.0, 'eta': 0.5, 'gamma': 10000000.0, 'lambda': 1.6, 'max_depth': 2, 'min_child_weight': 0.0, 'num_boost_round': 110.0, 'objective': 0, 'rate_drop': 0.1, 'subsample': 0.7000000000000001} \n",
            "\n"
          ]
        }
      ],
      "source": [
        "params_best, trials = param_hyperopt(100)"
      ]
    },
    {
      "cell_type": "code",
      "execution_count": null,
      "id": "17766692-f2da-486d-94b6-dcf795cef8cd",
      "metadata": {
        "id": "17766692-f2da-486d-94b6-dcf795cef8cd",
        "outputId": "d6d82a12-67d8-4a68-8b5f-5c0d9c9cc58d"
      },
      "outputs": [
        {
          "name": "stdout",
          "output_type": "stream",
          "text": [
            " 41%|███████████████████▎                           | 41/100 [02:07<03:03,  3.11s/trial, best loss: 27363.138020666665]\n",
            "\n",
            " \n",
            " best params:  {'booster': 0, 'colsample_bynode': 1.0, 'colsample_bytree': 0.5, 'eta': 0.05, 'gamma': 7000000.0, 'lambda': 2.4000000000000004, 'max_depth': 9, 'min_child_weight': 0.0, 'num_boost_round': 170.0, 'objective': 0, 'rate_drop': 0.7000000000000001, 'subsample': 0.6000000000000001} \n",
            "\n"
          ]
        }
      ],
      "source": [
        "params_best, trials = param_hyperopt(100)"
      ]
    },
    {
      "cell_type": "code",
      "execution_count": null,
      "id": "fa3bb64a-a57a-4f82-aae9-df5c453715b5",
      "metadata": {
        "id": "fa3bb64a-a57a-4f82-aae9-df5c453715b5",
        "outputId": "c0e7ae03-0fb4-4a4d-959b-abd960db2408"
      },
      "outputs": [
        {
          "name": "stdout",
          "output_type": "stream",
          "text": [
            " 52%|████████████████████████▍                      | 52/100 [05:26<05:01,  6.29s/trial, best loss: 27745.835937666667]\n",
            "\n",
            " \n",
            " best params:  {'booster': 1, 'colsample_bynode': 0.30000000000000004, 'colsample_bytree': 1.0, 'eta': 2.0, 'gamma': 7000000.0, 'lambda': 0.0, 'max_depth': 8, 'min_child_weight': 2.0, 'num_boost_round': 110.0, 'objective': 0, 'rate_drop': 0.4, 'subsample': 0.7000000000000001} \n",
            "\n"
          ]
        }
      ],
      "source": [
        "params_best, trials = param_hyperopt(100)"
      ]
    },
    {
      "cell_type": "code",
      "execution_count": null,
      "id": "5a6df65a-64f1-4269-bfc4-a80bd5368fce",
      "metadata": {
        "id": "5a6df65a-64f1-4269-bfc4-a80bd5368fce",
        "outputId": "ff10d6b2-2f04-4d59-afc0-d2f79cc9a383"
      },
      "outputs": [
        {
          "name": "stdout",
          "output_type": "stream",
          "text": [
            " 32%|███████████████                                | 32/100 [05:21<11:23, 10.05s/trial, best loss: 26803.143880333333]\n",
            "\n",
            " \n",
            " best params:  {'booster': 1, 'colsample_bynode': 0.9, 'colsample_bytree': 0.4, 'eta': 1.3, 'gamma': 9000000.0, 'lambda': 1.2000000000000002, 'max_depth': 8, 'min_child_weight': 4.0, 'num_boost_round': 180.0, 'objective': 0, 'rate_drop': 0.1, 'subsample': 1.0} \n",
            "\n"
          ]
        }
      ],
      "source": [
        "params_best, trials = param_hyperopt(100)"
      ]
    },
    {
      "cell_type": "markdown",
      "id": "c37b265e-5af1-4299-9a93-b662698f3c76",
      "metadata": {
        "id": "c37b265e-5af1-4299-9a93-b662698f3c76"
      },
      "source": [
        "这个结果差强人意，比起GBDT跑出的最佳分数还有距离，但我们可以在此基础上继续调整参数空间。以下是5次调参的结果总结：\n",
        "\n",
        "||1|2|3|4|5|\n",
        "|:-:|:-:|:-:|:-:|:-:|:-:|\n",
        "|num_boost_round|200|110|170|110|180|\n",
        "|booster|1|1|0|1|1|\n",
        "|objective|0|0|0|0|0|\n",
        "|colsample_bynode|0.8|0.5|1.0|0.3|0.9|\n",
        "|colsample_bytree|0.8|1.0|0.5|1.0|0.4|\n",
        "|eta|1.55|0.5|0.05|1.0|1.3|\n",
        "|gamma|2e6|1e7|7e6|7e6|9e6|\n",
        "|lambda|0.2|1.6|2.4|0|1.2|\n",
        "|max_depth|2|2|9|8|8|\n",
        "|min_child_weight|0|0|0|2|4|\n",
        "|rate_drop|0.2|0.7|0.7|0.4|0.1|\n",
        "|subsample|0.9|0.7|0.6|0.7|1|"
      ]
    },
    {
      "cell_type": "markdown",
      "id": "b0077dd6-06f2-49a8-80d1-9bc59b45d918",
      "metadata": {
        "id": "b0077dd6-06f2-49a8-80d1-9bc59b45d918"
      },
      "source": [
        "首先，`objective`在所有迭代中都被选为\"reg:squarederror\"，这也是xgboost的默认值，因此不再对该参数进行搜索。同样的。`booster`参数在5次运行中有4次被选为\"dart\"，因此基本可以确认对目前的数据使用DART树是更好的选择。同时在参考结果时我们就可以不太考虑第三次搜索的结果，因为第三次搜索是给予普通gbtree给出的结果。\n",
        "\n",
        "对于其他参数，我们则根据搜索结果**修改空间范围、增加空间密度**，一般让范围向选中更多的一边倾斜，并且减小步长。例如`num_boost_round`从来没有选到100以下的值，还有一次触顶，两次接近上限，因此可以将原本的范围(50,200,10)修改为(100,300,10)。`colsample_bynode`的结果均匀地分布在0.3~1之间，可以考虑不更换范围，但缩小步长。`colsample_bytree`的结果更多偏向于1.0，因此可以考虑提升下限。其他的参数也以此类推："
      ]
    },
    {
      "cell_type": "code",
      "execution_count": null,
      "id": "35a49dba-5b9f-4b1a-899b-66f6575a9558",
      "metadata": {
        "id": "35a49dba-5b9f-4b1a-899b-66f6575a9558"
      },
      "outputs": [],
      "source": [
        "param_grid_simple = {'num_boost_round': hp.quniform(\"num_boost_round\",100,300,10)\n",
        "                     ,\"eta\": hp.quniform(\"eta\",0.05,2.05,0.05)\n",
        "                     ,\"colsample_bytree\":hp.quniform(\"colsample_bytree\",0.5,1,0.05)\n",
        "                     ,\"colsample_bynode\":hp.quniform(\"colsample_bynode\",0.3,1,0.05)\n",
        "                     ,\"gamma\":hp.quniform(\"gamma\",5e6,1.5e7,5e5)\n",
        "                     ,\"lambda\":hp.quniform(\"lambda\",0,2,0.1)\n",
        "                     ,\"min_child_weight\":hp.quniform(\"min_child_weight\",0,10,0.5)\n",
        "                     ,\"max_depth\":hp.choice(\"max_depth\",[*range(2,15,1)])\n",
        "                     ,\"subsample\":hp.quniform(\"subsample\",0.5,1,0.05)\n",
        "                     ,\"rate_drop\":hp.quniform(\"rate_drop\",0.1,1,0.05)\n",
        "                    }"
      ]
    },
    {
      "cell_type": "code",
      "execution_count": null,
      "id": "9530da60-aab0-4294-955e-66219e6ee614",
      "metadata": {
        "id": "9530da60-aab0-4294-955e-66219e6ee614"
      },
      "outputs": [],
      "source": [
        "def hyperopt_objective(params):\n",
        "    paramsforxgb = {\"eta\":params[\"eta\"]\n",
        "                    ,\"colsample_bytree\":params[\"colsample_bytree\"]\n",
        "                    ,\"colsample_bynode\":params[\"colsample_bynode\"]\n",
        "                    ,\"gamma\":params[\"gamma\"]\n",
        "                    ,\"lambda\":params[\"lambda\"]\n",
        "                    ,\"min_child_weight\":params[\"min_child_weight\"]\n",
        "                    ,\"max_depth\":int(params[\"max_depth\"])\n",
        "                    ,\"subsample\":params[\"subsample\"]\n",
        "                    ,\"rate_drop\":params[\"rate_drop\"]\n",
        "                    ,\"booster\":\"dart\"\n",
        "                    ,\"nthred\":14\n",
        "                    ,\"verbosity\":0\n",
        "                    ,\"seed\":1412}\n",
        "    result = xgb.cv(params,data_xgb, seed=1412, metrics=(\"rmse\")\n",
        "                    ,num_boost_round=int(params[\"num_boost_round\"]))\n",
        "    return result.iloc[-1,2]"
      ]
    },
    {
      "cell_type": "markdown",
      "id": "696bf332-a097-4072-a668-8be0a14818f4",
      "metadata": {
        "id": "696bf332-a097-4072-a668-8be0a14818f4"
      },
      "source": [
        "> Step 4.在修改后的参数空间上，继续训练贝叶斯优化器"
      ]
    },
    {
      "cell_type": "code",
      "execution_count": null,
      "id": "ad2c2867-8595-4c62-ab91-dbf38db65fb6",
      "metadata": {
        "id": "ad2c2867-8595-4c62-ab91-dbf38db65fb6",
        "outputId": "d2d297be-69b2-4aaf-a673-6c20e1cdc6c5"
      },
      "outputs": [
        {
          "name": "stdout",
          "output_type": "stream",
          "text": [
            " 29%|█████████████▉                                  | 29/100 [00:53<02:00,  1.69s/trial, best loss: 27279.83528666667]"
          ]
        },
        {
          "name": "stderr",
          "output_type": "stream",
          "text": [
            "D:\\ProgramData\\Anaconda3\\lib\\site-packages\\numpy\\core\\_methods.py:230: RuntimeWarning: invalid value encountered in subtract\n",
            "  x = asanyarray(arr - arrmean)\n",
            "\n"
          ]
        },
        {
          "name": "stdout",
          "output_type": "stream",
          "text": [
            "100%|██████████████████████████████████████████████| 100/100 [02:33<00:00,  1.53s/trial, best loss: 25662.024739666667]\n",
            "\n",
            " \n",
            " best params:  {'colsample_bynode': 0.45, 'colsample_bytree': 1.0, 'eta': 0.05, 'gamma': 13000000.0, 'lambda': 0.5, 'max_depth': 6, 'min_child_weight': 0.5, 'num_boost_round': 150.0, 'rate_drop': 0.65, 'subsample': 0.8500000000000001} \n",
            "\n"
          ]
        }
      ],
      "source": [
        "params_best, trials = param_hyperopt(100) #提前停止的容忍次数提高为50次"
      ]
    },
    {
      "cell_type": "code",
      "execution_count": null,
      "id": "d8356ad3-41c0-4ef0-99d0-8a396c3a5b9d",
      "metadata": {
        "id": "d8356ad3-41c0-4ef0-99d0-8a396c3a5b9d",
        "outputId": "36755f95-c114-4c19-a617-e7ce8b8afe71"
      },
      "outputs": [
        {
          "name": "stdout",
          "output_type": "stream",
          "text": [
            "100%|██████████████████████████████████████████████| 100/100 [02:38<00:00,  1.59s/trial, best loss: 25711.822916666668]\n",
            "\n",
            " \n",
            " best params:  {'colsample_bynode': 0.7000000000000001, 'colsample_bytree': 0.75, 'eta': 0.1, 'gamma': 13500000.0, 'lambda': 1.8, 'max_depth': 3, 'min_child_weight': 1.5, 'num_boost_round': 210.0, 'rate_drop': 0.7000000000000001, 'subsample': 1.0} \n",
            "\n"
          ]
        }
      ],
      "source": [
        "params_best, trials = param_hyperopt(100)"
      ]
    },
    {
      "cell_type": "code",
      "execution_count": null,
      "id": "47aef2be-77d2-4214-a1ab-6e435fa8a604",
      "metadata": {
        "id": "47aef2be-77d2-4214-a1ab-6e435fa8a604",
        "outputId": "f835c738-adea-47d9-871b-f934dd10ffcd"
      },
      "outputs": [
        {
          "name": "stdout",
          "output_type": "stream",
          "text": [
            " 58%|███████████████████████████▎                   | 58/100 [01:33<01:07,  1.62s/trial, best loss: 25737.109375333337]\n",
            "\n",
            " \n",
            " best params:  {'colsample_bynode': 0.7000000000000001, 'colsample_bytree': 0.9500000000000001, 'eta': 0.05, 'gamma': 8000000.0, 'lambda': 0.8, 'max_depth': 9, 'min_child_weight': 1.0, 'num_boost_round': 160.0, 'rate_drop': 0.30000000000000004, 'subsample': 0.8} \n",
            "\n"
          ]
        }
      ],
      "source": [
        "params_best, trials = param_hyperopt(100)"
      ]
    },
    {
      "cell_type": "code",
      "execution_count": null,
      "id": "442b8bf7-fa89-4479-bcef-c3b0ecfa3ea9",
      "metadata": {
        "id": "442b8bf7-fa89-4479-bcef-c3b0ecfa3ea9",
        "outputId": "668f1d50-c704-43df-d5eb-ac36ad8d058e"
      },
      "outputs": [
        {
          "name": "stdout",
          "output_type": "stream",
          "text": [
            " 33%|███████████████▌                               | 33/100 [01:01<02:04,  1.85s/trial, best loss: 26307.809244666667]\n",
            "\n",
            " \n",
            " best params:  {'colsample_bynode': 0.7000000000000001, 'colsample_bytree': 0.7000000000000001, 'eta': 0.05, 'gamma': 8000000.0, 'lambda': 1.8, 'max_depth': 3, 'min_child_weight': 1.5, 'num_boost_round': 270.0, 'rate_drop': 0.6000000000000001, 'subsample': 0.8500000000000001} \n",
            "\n"
          ]
        }
      ],
      "source": [
        "params_best, trials = param_hyperopt(100)"
      ]
    },
    {
      "cell_type": "code",
      "execution_count": null,
      "id": "58a4f451-101b-455a-9e2f-c63e780572e1",
      "metadata": {
        "id": "58a4f451-101b-455a-9e2f-c63e780572e1",
        "outputId": "5d579c17-5aae-49cf-8aca-fecebca6fa02"
      },
      "outputs": [
        {
          "name": "stdout",
          "output_type": "stream",
          "text": [
            "100%|████████████████████████████████████████████████████| 100/100 [02:49<00:00,  1.69s/trial, best loss: 26049.842448]\n",
            "\n",
            " \n",
            " best params:  {'colsample_bynode': 0.5, 'colsample_bytree': 0.65, 'eta': 0.05, 'gamma': 12500000.0, 'lambda': 0.2, 'max_depth': 4, 'min_child_weight': 1.0, 'num_boost_round': 220.0, 'rate_drop': 0.5, 'subsample': 0.55} \n",
            "\n"
          ]
        }
      ],
      "source": [
        "params_best, trials = param_hyperopt(100)"
      ]
    },
    {
      "cell_type": "markdown",
      "id": "e154f2e4-05b9-4eb0-957e-b7ee7151cc63",
      "metadata": {
        "id": "e154f2e4-05b9-4eb0-957e-b7ee7151cc63"
      },
      "source": [
        "我们在经过调整后的参数空间上进行了5次搜索，其中得到的最糟糕的成绩是26307.809，但这已经是一个超越GBDT的分数。在5次搜索当中，我们得到的最佳分数是25662.024。现在我们可以尝试在验证函数上验证这一组参数："
      ]
    },
    {
      "cell_type": "markdown",
      "id": "2ddc8038-6047-4ec1-bdd9-e821e0fa8dec",
      "metadata": {
        "id": "2ddc8038-6047-4ec1-bdd9-e821e0fa8dec"
      },
      "source": [
        "> Step 5.验证参数\n",
        ">> 验证函数"
      ]
    },
    {
      "cell_type": "code",
      "execution_count": null,
      "id": "2ff94678-6a4b-46be-b419-38062df438c1",
      "metadata": {
        "id": "2ff94678-6a4b-46be-b419-38062df438c1"
      },
      "outputs": [],
      "source": [
        "def hyperopt_validation(params):\n",
        "    paramsforxgb = {\"eta\":params[\"eta\"]\n",
        "                    ,\"booster\":\"dart\"\n",
        "                    ,\"colsample_bytree\":params[\"colsample_bytree\"]\n",
        "                    ,\"colsample_bynode\":params[\"colsample_bynode\"]\n",
        "                    ,\"gamma\":params[\"gamma\"]\n",
        "                    ,\"lambda\":params[\"lambda\"]\n",
        "                    ,\"min_child_weight\":params[\"min_child_weight\"]\n",
        "                    ,\"max_depth\":int(params[\"max_depth\"])\n",
        "                    ,\"subsample\":params[\"subsample\"]\n",
        "                    ,\"rate_drop\":params[\"rate_drop\"]\n",
        "                    ,\"nthred\":14\n",
        "                    ,\"verbosity\":0\n",
        "                    ,\"seed\":1412}\n",
        "    result = xgb.cv(params,data_xgb, seed=1412, metrics=(\"rmse\")\n",
        "                    ,num_boost_round=int(params[\"num_boost_round\"]))\n",
        "    return result.iloc[-1,2]"
      ]
    },
    {
      "cell_type": "code",
      "execution_count": null,
      "id": "5349cce8-a11e-4298-91fd-b5f9420cfbca",
      "metadata": {
        "id": "5349cce8-a11e-4298-91fd-b5f9420cfbca"
      },
      "outputs": [],
      "source": [
        "bestparams = {'colsample_bynode': 0.45\n",
        "               , 'colsample_bytree': 1.0\n",
        "               , 'eta': 0.05\n",
        "               , 'gamma': 13000000.0\n",
        "               , 'lambda': 0.5\n",
        "               , 'max_depth': 6\n",
        "               , 'min_child_weight': 0.5\n",
        "               , 'num_boost_round': 150.0\n",
        "               , 'rate_drop': 0.65\n",
        "               , 'subsample': 0.8500000000000001} "
      ]
    },
    {
      "cell_type": "code",
      "execution_count": null,
      "id": "14289960-a733-4180-bbce-0fa0cc3e8e8a",
      "metadata": {
        "id": "14289960-a733-4180-bbce-0fa0cc3e8e8a",
        "outputId": "64514c61-16c2-45f5-825a-bde665ac904c"
      },
      "outputs": [
        {
          "data": {
            "text/plain": [
              "25368.487630333333"
            ]
          },
          "execution_count": 158,
          "metadata": {},
          "output_type": "execute_result"
        }
      ],
      "source": [
        "start = time.time()\n",
        "hyperopt_validation(bestparams)"
      ]
    },
    {
      "cell_type": "code",
      "execution_count": null,
      "id": "0fac76ff-e120-4768-a614-bb649c00637f",
      "metadata": {
        "id": "0fac76ff-e120-4768-a614-bb649c00637f",
        "outputId": "44d6fe6b-1cdb-48de-d0b1-ebaf30b9c4b9"
      },
      "outputs": [
        {
          "name": "stdout",
          "output_type": "stream",
          "text": [
            "1.1478571891784668\n"
          ]
        }
      ],
      "source": [
        "end = (time.time() - start)\n",
        "print(end)"
      ]
    },
    {
      "cell_type": "markdown",
      "id": "2e729ff0-fca7-4137-80c3-096c185609e7",
      "metadata": {
        "id": "2e729ff0-fca7-4137-80c3-096c185609e7"
      },
      "source": [
        "|算法|RF<br>(TPE)|AdaBoost<br>(TPE)|GBDT<br>(TPE)|XGB<br>(TPE)|\n",
        "|:-:|:-:|:-:|:-:|:-:|\n",
        "|5折验证<br>运行时间|0.22s|0.27s|1.54s(↑)|<font color=\"green\">**1.14s(↓)**</font>|\n",
        "|测试最优分数<br>(RMSE)|28346.673|35169.730|26415.835(↓)|<font color=\"green\">**25368.487(↓)**</font>|"
      ]
    },
    {
      "cell_type": "markdown",
      "id": "078f2e78-b271-4599-a838-a470bd06407a",
      "metadata": {
        "id": "078f2e78-b271-4599-a838-a470bd06407a"
      },
      "source": [
        "从参数的密度来看，我们还可以继续提升我们的分数，但课时有限，我们就不再继续调整了，大家可以顺着相似的思路继续往下调整，查看XGBoost是否还有更大的空间。"
      ]
    },
    {
      "cell_type": "markdown",
      "id": "524d37ac-cf73-4b72-b6f9-e53322a92848",
      "metadata": {
        "tags": [],
        "id": "524d37ac-cf73-4b72-b6f9-e53322a92848"
      },
      "source": [
        "# 四 原理进阶：XGBoost的求解流程\n",
        "\n",
        "**<font color=\"red\">学习XGBoost的数学原理需要大量梯度提升树（GBDT）相关知识，本课程将假设你已经非常熟悉梯度提升树的原理与特点。如果你不熟悉梯度提升树，强烈建议你回顾之前的课程。</font>**\n",
        "\n",
        "## 1 XGBoost的基本数学流程"
      ]
    },
    {
      "cell_type": "markdown",
      "id": "1bb79b5c-8d95-4c65-ba29-c138494c9bec",
      "metadata": {
        "id": "1bb79b5c-8d95-4c65-ba29-c138494c9bec"
      },
      "source": [
        "作为Boosting算法的里程碑，XGBoost以它高度复杂的数学原理闻名。无论你是阅读XGBoost原始论文，还是寻找经典书籍作为资料，都会发现数学占了很大的篇幅。然而事实上，随着Boosting算法的数学过程越来越复杂，实际建模过程和实现代码却是越来越简单的。**数学并没有让算法变得更复杂，而是让算法变得更简单**。\n",
        "\n",
        "- **参考文献**\n",
        "\n",
        "XGBoost最初是由陈天奇及华盛顿大学团队在2014年提出，在提出时就已经具有了今天我们要证明的全套复杂数学理论。但在搭建xgboost算法库的过程中，研发团队不断吸收当代各种经典算法的元素，形成更加复杂的算法系统：例如，DART树是吸收了深度学习中的Dropout技术，我们没有详细讲解的基于直方图的估计贪婪算法是借鉴LightGBM的技术，参考以下论文：\n",
        "\n",
        "《XGBoost：一种可拓展的提升树系统》\n",
        "Chen,T.Q.; Geustrin, C. (2014). \"XGBoost: A Scalable Tree Boosting System\"\n",
        "\n",
        "《DART树：当Dropout遇见自适应回归树》\n",
        "Rashmi, K.V.; Ran Gilad-Bachrach.(2015) “DART: Dropouts meet Multiple Additive Regression Trees”\n",
        "\n",
        "《Lightgbm：一种极度高效的梯度提升树》\n",
        "Ke, G. et al.(2017).\"Lightgbm: A highly efficient gradient boosting decision tree\"\n",
        "\n",
        "你可以在本周上传的课程中找到以上三篇论文。需要注意的是，在本节中我们将会专注于最原始的XGBoost论文，而不会涉及到其他两篇文献的内容。其中，XGBoost基本数学流程是总结自GBDT的流程与XGBoost论文中涉及到的伪代码，而所有证明过程都来自于XGBoost原始论文。同时，为了与之前的课程保持一致，我们将使用与原论文略有不同的符号，但数学过程将是完全相同的。在阅读原论文时，记得辨析不同的数学符号。"
      ]
    },
    {
      "cell_type": "markdown",
      "id": "85e544b4-65ef-454b-8b88-6b5ecb160df1",
      "metadata": {
        "id": "85e544b4-65ef-454b-8b88-6b5ecb160df1"
      },
      "source": [
        "- **基本流程**\n",
        "\n",
        "不要忘记，对任何Boosting算法来说我们都有如下流程（对大部分算法来说是损失函数$L$，对XGBoost来说是目标函数$O$）：\n",
        "\n",
        "---\n",
        "**<font color=\"green\"><center>依据上一个弱评估器$f(x)_{k-1}$的结果，计算目标函数$O$，\n",
        "    <br>并使用$O$自适应地影响下一个弱评估器$f(x)_k$的构建。<br>集成模型输出的结果，受到整体所有弱评估器$f(x)_0$ ~ $f(x)_K$的影响。</center></font>**\n",
        "---"
      ]
    },
    {
      "cell_type": "markdown",
      "id": "f536025f-c2a0-4fa1-81e3-74216a3073ca",
      "metadata": {
        "id": "f536025f-c2a0-4fa1-81e3-74216a3073ca"
      },
      "source": [
        "假设现有数据集$N$，含有形如$(x_i,y_i)$的样本$M$个，$i$为任意样本的编号，单一样本的损失函数为$l(y_i,H(x_i))$，其中$H(x_i)$是$i$号样本在集成算法上的预测结果，整个算法的损失函数为$L(y,H(x))$，且总损失等于全部样本的损失之和：$L(y,H(x)) = \\sum_i l(y_i,H(x_i))$。目标函数中使用L2正则化（$\\lambda$为0，$\\alpha$为0），并且$\\gamma$不为0。\n",
        "\n",
        "同时，弱评估器为回归树$f$，总共学习$K$轮（注意在GBDT当中我们使用的是大写字母T来表示迭代次数，由于在XGBoost当中字母T被用于表示目标函数中的叶子总量，因此我们在这里使用字母K表示迭代次数）。则XGBoost回归的基本流程如下所示："
      ]
    },
    {
      "cell_type": "markdown",
      "id": "477713d0-b340-41d4-9318-2478e5596e7e",
      "metadata": {
        "id": "477713d0-b340-41d4-9318-2478e5596e7e"
      },
      "source": [
        "- **1) 初始化**\n",
        "\n",
        "初始化数据迭代的起点$H_0(x)$。在应用xgboost时，我们可以指定任意数字来作为$H_0(x)$，但在xgboost原始论文当中，并未详细讨论如何计算迭代的初始值。考虑到XGBoost在许多方面继承了梯度提升树GBDT的思想，我们可以使用公式来计算XGBoost的$H_0$：\n",
        "\n",
        "$$\n",
        "\\begin{aligned}\n",
        "H_0(x) &= \\mathop{argmin}_{C} \\sum_{i=1}^M l(y_i,C)\\\\ \\\\\n",
        "&= \\mathop{argmin}_{C} L(y,C)\n",
        "\\end{aligned}\n",
        "$$"
      ]
    },
    {
      "cell_type": "markdown",
      "id": "020aa86b-ebb8-4083-a7f3-dd8be25aa807",
      "metadata": {
        "tags": [],
        "id": "020aa86b-ebb8-4083-a7f3-dd8be25aa807"
      },
      "source": [
        "其中$y_i$为真实标签，$C$为任意常数。以上式子表示，找出令$\\sum_{i=1}^Ml(y_i,C)$最小的常数$C$值，并输出最小的$\\sum_{i=1}^Ml(y_i,C)$作为$H_0(x)$的值。需要注意的是，由于$H_0(x)$是由全部样本的$l$计算出来的，因此所有样本的初始值都是$H_0(x)$，不存在针对某一样本的单一初始值。\n",
        "\n",
        "由于在初始的时候没有树结构，因此没有复杂度等信息，因此没有使用目标函数求初始值，而是使用了损失函数。在GBDT的数学过程当中，我们详细展示过如何求解令初始损失最小的$C$（对损失求一阶导数并让一阶导数为0），并且我们详细证明过，当损失函数为MSE时，令整体初始损失最小的$C$值就是$y$的均值。对XGBoost来说这一切都成立，只不过在xgboost库中我们默认的初始值为0.5。\n",
        "<br>"
      ]
    },
    {
      "cell_type": "markdown",
      "id": "4d90bf2a-9698-4855-a6f0-6c1fa8589630",
      "metadata": {
        "id": "4d90bf2a-9698-4855-a6f0-6c1fa8589630"
      },
      "source": [
        "开始循环，for k in 1,2,3...K:\n",
        "\n",
        "> - **2) 抽样**<br><br>\n",
        "在现有数据集$N$中，抽样$M$ * `subsample`个样本，构成训练集$N^k$<br><br>\n",
        "> - **3) 求拟合项**<br><br>\n",
        "对任意一个样本$i$，计算一阶导数$g_{ik}$，二阶导数$h_{ik}$，以及伪残差（pseudo-residuals）$r_{ik}$，具体公式为：<br><br>\n",
        "> $$g_{ik} = \\frac{\\partial{l(y_i,H_{k-1}(x_i))}}{\\partial{H_{k-1}(x_i)}}$$<br>\n",
        "> $$h_{ik} = \\frac{\\partial^2{l(y_i,H_{k-1}(x_i))}}{\\partial{H^2_{k-1}(x_i)}}$$<br>\n",
        "> $$r_{ik} = -\\frac{g_{ik}}{h_{ik}}$$"
      ]
    },
    {
      "cell_type": "markdown",
      "id": "c9576400-223a-4106-b862-5b19d295f540",
      "metadata": {
        "jupyter": {
          "source_hidden": true
        },
        "tags": [],
        "id": "c9576400-223a-4106-b862-5b19d295f540"
      },
      "source": [
        "> 不难发现，伪残差是一个样本的一阶导数除以二阶导数并取负的结果，并且在进行第k次迭代、计算第k个导数时，我们使用的是前k-1次迭代后输出的集成算法结果。同时，我们是先对目标函数$l$中的自变量$H(x)$求导，再令求导后的结果等于$H_{t-1}(x_i)$的值，并不是直接对$H_{t-1}(x_i)$这一常数求导。<br><br>\n",
        "> 对常数求导，以及对变量求导是两个概念，举例说明：<br><br>\n",
        "> $$l = x^2+x$$\n",
        "> 对常数0求导：$$\\frac{\\partial{l}}{\\partial{0}} = \\frac{\\partial{(x^2 + x)}}{0} = 0$$<br>\n",
        "> 对变量x求导并让x=0：$$\\frac{\\partial{l}}{\\partial{x}} = \\frac{\\partial{(x^2 + x)}}{\\partial x} = 2x + 1 = 2*0 + 1 = 1$$<br>\n",
        "> 因此，$g_{ik}$标准的写法应该是：\n",
        "> $$g_{ik} = \\big[\\frac{\\partial{l(y_i,H(x_i))}}{\\partial{H(x_i)}}\\big]_{H(x_i) = H_{k-1}\\ \\ (x_i)}$$<br>\n",
        "> 在实际推导过程中，为公式简洁，简写为上述流程中的写法。<br><br>\n",
        "> 在k=1时，所有求导计算过程中的$H_{k-1}(x_i)$都等于初始$H_0(x)$，在k>1时，每个样本上的$H_{k-1}(x_i)$都是不同的取值。<br>"
      ]
    },
    {
      "cell_type": "markdown",
      "id": "aea85a1f-eadf-4505-9783-fc9b59594deb",
      "metadata": {
        "id": "aea85a1f-eadf-4505-9783-fc9b59594deb"
      },
      "source": [
        "> - **4) 建树**<br><br>\n",
        "求解出伪残差后，在数据集$(x_i, r_{ik})$上按`colsample_by*`规则进行抽样，再按照**结构分数增益**规则建立一棵回归树$f_k$。注意在这个过程中，训练时拟合的标签为样本的伪残差$r_{ik}$，并且叶子节点$j$的结构分数和任意分枝时的结构分数增益的公式为：<br><br>\n",
        ">$$Score_j = \\frac{(\\sum_{i \\in j}g_i)^2}{\\sum_{i \\in j}h_i + \\lambda}$$<br>\n",
        ">$$Gain = \\frac{1}{2} \\left( \\frac{(\\sum_{i \\in L}g_i)^2}{\\sum_{i \\in L}h_i + \\lambda} + \\frac{(\\sum_{i \\in R}g_i)^2}{\\sum_{i \\in R}h_i + \\lambda} - \\frac{(\\sum_{i \\in P}g_i)^2}{\\sum_{i \\in P}h_i + \\lambda} \\right) - \\gamma$$ <br>\n",
        ">建树过程不影响任何$g_{ik}$与$h_{ik}$的值。<br><br>\n",
        "> - **5) 输出树上的结果**<br><br>\n",
        "建树之后，依据回归树$f_k$的结构输出叶子节点上的输出值（预测值）。对任意叶子节点$j$来说，输出值为：<br><br>\n",
        "> $$w_j = -\\frac{\\sum_{i \\in j}g_{ik}}{\\sum_{i \\in j}h_{ik} + \\lambda}$$<br>\n",
        "> 假设样本$i$被分割到叶子$j$上，则有：<br><br>\n",
        "> $$f_k(x_i) = w_j$$"
      ]
    },
    {
      "cell_type": "markdown",
      "id": "f353b22f-b897-4dd2-9cdf-65e54871522b",
      "metadata": {
        "jupyter": {
          "source_hidden": true
        },
        "tags": [],
        "id": "f353b22f-b897-4dd2-9cdf-65e54871522b"
      },
      "source": [
        "> 使用字母$w$表示叶子节点上的输出值是XGBoost论文所规定的，我们曾经见过一次$w$，你还记得在哪里吗？在我们介绍XGBoost的目标函数时，L2正则项的表达式为$\\frac{1}{2} \\lambda \\sum_{j=1}^T w_j^2$。我们曾说过$w$代表XGBoost中的叶子权重，**实际上叶子权重就是叶子上的输出值**。为不和其他权重混淆，之后我们统一称呼$w$为输出值。<br><br>\n",
        ">不难发现，叶子节点上的输出值与结构分数很相似，只不过结构分数的分子上是平方，而输出值的分子上没有平方。在数学上我们可以证明，**该输出值能让目标函数最快减小**。<br><br>\n",
        "> 你可能注意到了，在迭代刚开始时我们已经知道了输出值式子中所需的所有$g$和$h$。为什么还要建树呢？只有当我们建立了决策树，我们才能够知道具体哪些样本$i$在叶子节点$j$上。因此树$f_k$提供的是结构信息。<br><br>\n",
        "> 由于任意样本必然被分到任意叶子上，因此对整棵树$f_k$来说，任意$f_k(x_i)$一定有对应的$w$。<br>"
      ]
    },
    {
      "cell_type": "markdown",
      "id": "c00d3912-7808-4cba-83c8-b1b9585cadcc",
      "metadata": {
        "id": "c00d3912-7808-4cba-83c8-b1b9585cadcc"
      },
      "source": [
        "> - **6) 迭代**<br><br>\n",
        "根据预测结果$f_k(x_i)$迭代模型，具体来说：<br><br>\n",
        "> $$H_k(x_i) = H_{k-1}(x_i) + f_k(x_i)$$<br>\n",
        "> 假设输入的步长为$\\eta$，则$H_k(x)$应该为：<br><br>\n",
        "> $$H_k(x_i) = H_{k-1}(x_i) + \\eta f_k(x_i)$$<br>\n",
        "> 对整个算法则有：<br><br>\n",
        "> $$H_k(x) = H_{k-1}(x) + \\eta f_k(x)$$<br>\n",
        "\n",
        "- **7) 循环结束**<br><br>输出$H_K(x)$的值作为集成模型的输出值。"
      ]
    },
    {
      "cell_type": "markdown",
      "id": "90b7fe12-b634-4c04-8cde-1427274da3df",
      "metadata": {
        "id": "90b7fe12-b634-4c04-8cde-1427274da3df"
      },
      "source": [
        "以上就是XGBoost的完整数学流程。不难发现，作为从GBDT改进而来的算法，XGBoost在基础数学流程上基本继承了GBDT的流程（7步走的流程与GBDT一模一样，同时也有继承伪残差等细节），但又在具体每个流程中都做出了改进，进一步简化了Boosting算法的运算流程——比如说，虽然整个算法持续再向降低目标函数的方向运行，但整个过程中不存在任何的**求最优解**的数学计算。除了建树流程以外，其他流程都是非常简单的按公式计算而已。\n",
        "\n",
        "由于XGBoost原始论文中并不存在上述流程的完整说明，因此要梳理出该流程并不容易，但如果我们对GBDT的流程相对熟悉，那XGBoost的流程也并不难。对XGBoost来说，真正难度较大的部分并不是梳理以上算法流程，而是证明这一流程可以让模型向着目标函数最小化的方向运行。在这个流程中包括如下很明显的问题：\n",
        "\n",
        "- 1. 建树时拟合的$r_{ik} = -\\frac{g_{ik}}{h_{ik}}$究竟是什么？拟合它有什么意义？\n",
        "\n",
        "- 2. 结构分数和结构分数增益的公式是如何推导出来的？为什么这样建树可以提升模型的效果？\n",
        "\n",
        "- 3. 为什么叶子节点的输出值$w_j$是$-\\frac{(\\sum_{i \\in j} g_{ik})}{\\sum_{i \\in j} h_{ik} + \\lambda}$？这样输出有什么意义？\n",
        "\n",
        "- 4. 课程的第一部分说XGBoost拟合的也是残差，残差在哪里？\n",
        "\n",
        "接下来我们就将展示完整的证明来回答这些问题。"
      ]
    },
    {
      "cell_type": "markdown",
      "id": "5ccaad62-330c-4281-b029-aa8933500d4f",
      "metadata": {
        "id": "5ccaad62-330c-4281-b029-aa8933500d4f"
      },
      "source": [
        "## 2 化简XGBoost的目标函数"
      ]
    },
    {
      "cell_type": "markdown",
      "id": "c98aaad3-eb18-4b83-b6cb-ca84c7d710b7",
      "metadata": {
        "id": "c98aaad3-eb18-4b83-b6cb-ca84c7d710b7"
      },
      "source": [
        "- **定义目标函数与目标函数的自变量**"
      ]
    },
    {
      "cell_type": "markdown",
      "id": "f2d105e8-846c-468b-841c-ccab0692b450",
      "metadata": {
        "id": "f2d105e8-846c-468b-841c-ccab0692b450"
      },
      "source": [
        "首先，根据之前对目标函数的定义，**XGBoost中目标函数是针对一棵树的目标函数**，而不是针对一个样本或一整个算法的目标函数。并且，任意树的目标函数都包括三大部分：损失函数$l$、叶子数量$T$以及正则项。具体地来说：\n",
        "\n",
        "假设单一树$f_k$的目标函数为$O_k$，总共有$T$片叶子，该树上任意样本$i$的损失函数为$l((y_i,H(x_i))$，其中$H(x_i)$是$i$号样本在集成算法上的预测结果。树上总共有M个样本，目标函数中使用L2正则化（$\\lambda$不为0，$\\alpha$为0），并且$\\gamma$不为0，则该树的目标函数为：\n",
        "\n",
        "$$O_k = \\sum_{i=1}^Ml(y_i,H_k(x_i)) + \\gamma T + \\frac{1}{2}\\lambda\\sum_{j=1}^Tw_j^2$$\n",
        "\n",
        "**我们的目标是令目标函数最小，并找出令目标函数最小的某个自变量**。对使用普通损失函数的Boosting算法来说，算法的输出值$H(x)$是在迭代过程中不断变化的，损失函数$l(y,H(x))$也是在迭代中不断变小的：\n",
        "\n",
        "$$H_k(x_i) = H_{k-1}(x_i) + f_k(x_i)$$\n",
        "\n",
        "$$l_k = l(y_i,H_{k-1}(x_i) + f_k(x_i))$$\n",
        "\n",
        "当迭代到第$k$次时，损失函数中的$y_i$与$H_{k-1}(x_i)$都是常数，只有$f_k(x_i)$是变量，因此我们只需要在损失函数上对$f_k(x_i)$求导，并找到令整体损失函数最小的预测值$f_k(x_i)$即可。在GBDT当中，我们提到过，**无论弱评估器$f_k$是什么结构、什么规则、如何建立、如何拟合，只要其最终的输出值$f_k(x_i)$是令整体损失函数$L$最小化的$f_k(x_i)$，那随着算法逐步迭代，损失函数必然会越来越小**。因此，一个适合的$f_k(x_i)$不仅能保证损失持续减小，还可以指导单个评估器的建立。\n",
        "\n",
        "在GBDT当中，我们证明了令GBDT整体损失函数最小化的$f_k(x_i)$就是损失函数的负梯度$-g_i$（详见GBDT课程《四 4：证明：拟合伪残差可以令损失函数最快地减小》），也因此GBDT在建树时拟合负梯度。当损失函数为$\\frac{1}{2}MSE$时，GBDT中的负梯度在数值上就等于残差，因此GBDT是拟合残差的算法。\n",
        "\n",
        "在XGBoost当中，我们也可以对目标函数求导、并找出令目标函数最小的某个自变量，但问题在于，XGBoost的目标函数中存在多个自变量：\n",
        "\n",
        "$$\\begin{aligned} O_k &= \\sum_{i=1}^Ml(y_i,H_k(x_i)) + \\gamma T + \\frac{1}{2}\\lambda\\sum_{j=1}^Tw_j^2 \\\\ &= \\sum_{i=1}^M l \\left( y_i,H_{k-1}(x_i) + \\boldsymbol{\\color{red}{f_k(x_i)}} \\right) + \\gamma \\boldsymbol{\\color{red}T} + \\frac{1}{2}\\lambda\\sum_{j=1}^T\\boldsymbol{\\color{red}{w_j}}^2 \\end{aligned}$$\n",
        "\n",
        "其中，$T$是第$k$棵树上的叶子总量，$f_k(x_i)$与$w_j$都是模型输出的预测值（叶子上的输出值），不过表现形式不同，对任意位于叶子$j$上的样本$i$而言，数值上$f_k(x_i) = w_j$。对XGBoost来说，只能选择一个变量作为自变量，**考虑到$f_k(x_i)$只与单个样本的精确程度有关，而$T$只与树结构有关，XGBoost论文最终选择了即与精确度有关、又与树结构有关的变量**$w_j$。同时，如果知道叶子的最佳输出值$w_j$就可以引导树成长为合理的结构，但只知道叶子的总量$T$是无法指导建树的。\n",
        "\n",
        "因此，求解XGBoost目标函数的第一步，就是将目标函数尽量整理成以$w_j$表示的形式。"
      ]
    },
    {
      "cell_type": "markdown",
      "id": "189a8c43-b501-496e-91af-7edd4b3756d9",
      "metadata": {
        "id": "189a8c43-b501-496e-91af-7edd4b3756d9"
      },
      "source": [
        "- **对目标函数进行泰勒展开**"
      ]
    },
    {
      "cell_type": "markdown",
      "id": "b41e0199-2c9c-40f3-a8fc-41734915b1cd",
      "metadata": {
        "id": "b41e0199-2c9c-40f3-a8fc-41734915b1cd"
      },
      "source": [
        "在GBDT当中，我们借助一阶泰勒展开化简了损失函数，借鉴于GBDT的思路，XGBoost也使用了泰勒展开。具体来看："
      ]
    },
    {
      "cell_type": "markdown",
      "id": "a6615d08-e5d1-4260-900e-497dc8910700",
      "metadata": {
        "id": "a6615d08-e5d1-4260-900e-497dc8910700"
      },
      "source": [
        "在数学中，泰勒级数使用无限个项的连加式来表示一个函数。实际应用当中，我们一般取有限项的连加式来逼近一个函数。当总共有N项时，连加式被叫做N阶泰勒展开（Nth-order Taylor approximation）。假设现在存在函数$f(x)$，则有：\n",
        "\n",
        "> - **泰勒级数（无限项）**： \n",
        "$$f(x) = \\sum_{n=0}^{\\infty}\\frac{f^{(n)}(a)}{n!}(x-a)^n$$\n",
        "\n",
        "其中(x-a)是非常小的任意实数/复数，$n!$是n的阶乘，$f^{(n)}(a)$是函数$f(x)$的n阶导数在a点的取值。当a为0时，泰勒级数也被叫做麦克劳思级数。\n",
        "\n",
        "> - **一阶泰勒展开**：\n",
        "$$\\begin{aligned}\n",
        "f(x) &\\approx \\sum_{n=0}^{1}\\frac{f^{(n)}(a)}{n!}(x-a)^n \\\\\n",
        "&\\approx f(a) + \\frac{f'(a)}{1!}(x-a)\n",
        "\\end{aligned}\n",
        "$$\n",
        "\n",
        "> - **二阶泰勒展开**：\n",
        "$$\\begin{aligned}\n",
        "f(x) &\\approx \\sum_{n=0}^{2}\\frac{f^{(n)}(a)}{n!}(x-a)^n \\\\\n",
        "&\\approx f(a) + \\frac{f'(a)}{1!}(x-a) + \\frac{f''(a)}{2!}(x-a)^2\n",
        "\\end{aligned}\n",
        "$$\n",
        "\n",
        "> - **N阶泰勒展开**：\n",
        "$$\\begin{aligned}\n",
        "f(x) &\\approx \\sum_{n=0}^{N}\\frac{f^{(n)}(a)}{n!}(x-a)^n \\\\\n",
        "&\\approx f(a) + \\frac{f'(a)}{1!}(x-a) + \\frac{f''(a)}{2!}(x-a)^2 + \\frac{f'''(a)}{3!}(x-a)^3 + ...\n",
        "\\end{aligned}\n",
        "$$\n",
        "\n",
        "阶数越大，泰勒展开的值越接近$f(x)$的真实值。"
      ]
    },
    {
      "cell_type": "markdown",
      "id": "20761c06-6735-4b29-a9eb-00d4c669357c",
      "metadata": {
        "id": "20761c06-6735-4b29-a9eb-00d4c669357c"
      },
      "source": [
        "在我们的目标函数$O_k$中，**可以被泰勒展开的是第一部分损失函数**$l$：\n",
        "\n",
        "$$O_k = \\sum_{i=1}^Ml \\left( y_i,H_{k-1}(x_i) + f_k(x_i) \\right) + \\gamma T + \\frac{1}{2}\\lambda\\sum_{j=1}^T w_j^2$$\n",
        "\n",
        "由于损失函数$l$中只有唯一变量$H_{k-1}(x_i) + f_k(x_i)$，因此可以将函数简写为$l(H_{k-1}(x_i) + f_k(x_i))$。\n",
        "\n",
        "根据二阶泰勒展开，已知：\n",
        "\n",
        "$$\\begin{aligned}\n",
        "f(x) &\\approx \\sum_{n=0}^{2}\\frac{f^{(n)}(a)}{n!}(x-a)^n \\\\\n",
        "&\\approx f(a) + \\frac{f'(a)}{1!}(x-a) + \\frac{f''(a)}{2!}(x-a)^2\n",
        "\\end{aligned}\n",
        "$$\n",
        "\n",
        "令泰勒展开中的$x = H_{k-1}(x_i) + f_k(x_i)$，令泰勒展开中的$a = H_{k-1}(x_i)$，则$(x-a) = f_k(x_i)$。据此，损失函数$l(H_{k-1}(x_i) + f_k(x_i))$可以被表示为："
      ]
    },
    {
      "cell_type": "markdown",
      "id": "75ba4248-1c33-42fb-bbbc-188a11a7b5e7",
      "metadata": {
        "id": "75ba4248-1c33-42fb-bbbc-188a11a7b5e7"
      },
      "source": [
        "$$\\begin{aligned}\n",
        "l(H_{k-1}(x_i) + f_k(x_i)) &\\approx l(H_{k-1}(x_i)) + \\frac{\\partial{l(H_{k-1}(x_i))}}{\\partial{H_{k-1}(x_i)}} * f_k(x_i) +  \\frac{\\partial^2{l(H_{k-1}(x_i))}}{2\\partial{H^2_{k-1}(x_i)}} * f^2_k(x_i)\\\\\n",
        "\\end{aligned}\n",
        "$$\n",
        "\n",
        "在XGBoost中我们定义过损失函数的一阶导数与二阶导数：\n",
        "\n",
        "$$g_{ik} = \\frac{\\partial{l(y_i,H_{k-1}(x_i))}}{\\partial{H_{t-1}(x_i)}}$$\n",
        "\n",
        "$$h_{ik} = \\frac{\\partial^2{l(y_i,H_{k-1}(x_i))}}{\\partial{H^2_{t-1}(x_i)}}$$\n",
        "\n",
        "**在XGBoost原论文中，为了公式简洁，$g_i$和$h_i$并没有呈现下标$k$，但我们已经很清楚：$g$与$h$是在每一轮迭代时需要被重新计算的**。在这里我们也参照原论文中的做法去掉下标$k$。因此，经过泰勒展开后的式子可以化简为：\n",
        "\n",
        "$$\\begin{aligned}l(H_{k-1}(x_i) + f_k(x_i)) &\\approx l(H_{k-1}(x_i)) + g_if_k(x_i) + \\frac{1}{2}h_if^2_k(x_i) \\\\ &\\approx 常数 + g_if_k(x_i) + \\frac{1}{2}h_if^2_k(x_i) \\end{aligned}$$\n",
        "\n",
        "不难发现，该式子中$H_{k-1}(x_i)$是常数，因此第一部分$l(H_{t-1}(x_i))$也是一个常数，常数无法被最小化，因此我们可以将常数从该目标函数中剔除。经过泰勒展开，目标函数变为：\n",
        "\n",
        "$$\\begin{aligned} \\tilde{O}_k &= \\sum_{i=1}^M\\left(g_if_k(x_i) + \\frac{1}{2}h_if^2_k(x_i)\\right) + \\gamma T + \\frac{1}{2}\\lambda\\sum_{j=1}^T w_j^2 \\\\ &= \\sum_{i=1}^Mg_if_k(x_i) + \\frac{1}{2}\\sum_{i=1}^Mh_if^2_k(x_i) + \\gamma T + \\frac{1}{2}\\lambda\\sum_{j=1}^T w_j^2\\end{aligned}$$"
      ]
    },
    {
      "cell_type": "markdown",
      "id": "4f48dbec-ecc1-460b-8003-af4e3a526aec",
      "metadata": {
        "id": "4f48dbec-ecc1-460b-8003-af4e3a526aec"
      },
      "source": [
        "- **统一自变量**"
      ]
    },
    {
      "cell_type": "markdown",
      "id": "28b76d1f-ba19-448d-beeb-5aa07cdfd4b2",
      "metadata": {
        "id": "28b76d1f-ba19-448d-beeb-5aa07cdfd4b2"
      },
      "source": [
        "现在目标函数的前两项分别代表所有样本的$g_if_k(x_i)$之和，以及所有样本的$h_if^2_k(x_i)$之和乘1/2。别忘记，我们选择的唯一的自变量是$w_j$，因此我们希望能够将$f_k$以某种方式转化为$w_j$。之前已经提到过多次，对任意位于叶子$j$上的样本$i$而言，数值上$f_k(x_i) = w_j$，我们可以尝试着从一个样本开始进行转化：\n",
        "\n",
        "对于单一样本$i$，假设这个样本位于叶子$j$上，应该有：\n",
        "\n",
        "$$g_if_k(x_i) = g_iw_j$$\n",
        "\n",
        "对于一片叶子$j$，我们可以计算这片叶子上所有样本的$g_iw_j$之和：\n",
        "\n",
        "$$\\sum_{i \\in j} g_iw_j $$\n",
        "\n",
        "而一片叶子上所有样本的$w_j$都是一致的，因此一片叶子上的$g_iw_j$之和可以转变为：\n",
        "\n",
        "$$\\begin{aligned}\\sum_{i \\in j} g_iw_j &= g_1w_j \\ + \\ g_2w_j \\ + \\ ... \\ + \\ g_nw_j，其中1,2...n是叶子j上的样本 \\\\\n",
        "&= w_j\\sum_{i \\in j} g_i\\end{aligned}$$\n",
        "\n",
        "假设现在一共有$T$片叶子，则整棵树上所有样本的$g_iw_j$之和为：\n",
        "\n",
        "$$\\sum_{j=1}^T \\left( w_j\\sum_{i \\in j} g_i \\right)$$\n",
        "\n",
        "所以：\n",
        "\n",
        "$$\\sum_{i=1}^Mg_if_k(x_i) = \\sum_{j=1}^T \\left( w_j\\sum_{i \\in j} g_i \\right)$$"
      ]
    },
    {
      "cell_type": "markdown",
      "id": "9d01d327-dbe1-4584-a23a-00d13f571a27",
      "metadata": {
        "id": "9d01d327-dbe1-4584-a23a-00d13f571a27"
      },
      "source": [
        "同理，单一样本$i$的$h_if^2_k(x_i)$也可以以相同方式转化。对单一样本：\n",
        "\n",
        "$$h_if^2_k(x_i) = h_iw^2_j$$\n",
        "\n",
        "对一片叶子：\n",
        "\n",
        "$$\\begin{aligned}\\sum_{i \\in j}h_iw^2_j &= h_1w^2_j \\ + \\ h_2w^2_j \\ + \\ ... \\ + \\ h_nw^2_j，其中1,2...n是叶子j上的样本 \\\\ &= w^2_j\\sum_{i \\in j} h_i \\end{aligned}$$\n",
        "\n",
        "对整棵树：\n",
        "\n",
        "$$\\sum_{i=1}^Mh_if^2_k(x_i) = \\sum_{j=1}^T \\left( w^2_j\\sum_{i \\in j} h_i \\right)$$"
      ]
    },
    {
      "cell_type": "markdown",
      "id": "cf09ee8b-74e3-49a3-bc1c-33369079166d",
      "metadata": {
        "id": "cf09ee8b-74e3-49a3-bc1c-33369079166d"
      },
      "source": [
        "因此对整个目标函数有：\n",
        "\n",
        "$$\\begin{aligned} \\tilde{O}_k &= \\sum_{i=1}^Mg_if_k(x_i) + \\frac{1}{2}\\sum_{i=1}^Mh_if^2_k(x_i) + \\gamma T + \\frac{1}{2}\\lambda\\sum_{j=1}^T w_j^2 \\\\ \n",
        "&=\\sum_{j=1}^T \\left( w_j\\sum_{i \\in j} g_i + \\frac{1}{2}w^2_j\\sum_{i \\in j} h_i \\right) + \\gamma T + \\frac{1}{2}\\lambda\\sum_{j=1}^T w_j^2\\end{aligned}$$\n",
        "\n",
        "不难发现，现在正则项可以与原来损失函数的部分合并了：\n",
        "\n",
        "$$\\begin{aligned}\n",
        " &= \\sum_{j=1}^T \\left( w_j\\sum_{i \\in j} g_i + \\frac{1}{2}w^2_j\\sum_{i \\in j} h_i + \\frac{1}{2}\\lambda w_j^2 \\right) + \\gamma T \\\\ \n",
        "&= \\sum_{j=1}^T \\left( w_j\\sum_{i \\in j} g_i + \\frac{1}{2}w^2_j(\\sum_{i \\in j} h_i + \\lambda) \\right) + \\gamma T\\end{aligned}$$"
      ]
    },
    {
      "cell_type": "markdown",
      "id": "f48f7c41-2838-4338-a8cd-5c58438bfec8",
      "metadata": {
        "id": "f48f7c41-2838-4338-a8cd-5c58438bfec8"
      },
      "source": [
        "合并之后，整个目标函数变为两项，一项是所有叶子上的（损失+正则）之和，另一项是叶子总量。现在，我们可以开始求解最小目标函数以及对应的最优自变量$w_j$了。"
      ]
    },
    {
      "cell_type": "markdown",
      "id": "da0587ec-c125-45fa-a7b6-6dbf422f742b",
      "metadata": {
        "id": "da0587ec-c125-45fa-a7b6-6dbf422f742b"
      },
      "source": [
        "## 3 求解XGBoost的目标函数\n",
        "\n",
        "首先，令目标函数中的叶子总量最小是不可能的，过度降低叶子总量会大幅度伤害模型的学习能力，因此我们只能考虑令所有叶子上的（损失+正则）之和最小。\n",
        "\n",
        "其次，当树建好之后，叶子与叶子之间是相互独立的，因此每片叶子上的（损失+正则）也是相互独立的。我们只要令每片叶子的（损失+正则）都最小，就可以保证全部叶子的（损失+正则）之和最小。故而，我们要令式子中标注为红色的部分最小：\n",
        "\n",
        "$$\\begin{aligned}\n",
        "\\tilde{O}_k \n",
        "&= \\sum_{j=1}^T \\left( \\boldsymbol{\\color{red}{w_j\\sum_{i \\in j} g_i + \\frac{1}{2}w^2_j(\\sum_{i \\in j} h_i + \\lambda)}} \\right) + \\gamma T\\end{aligned}$$"
      ]
    },
    {
      "cell_type": "markdown",
      "id": "fa6c2c87-fa0f-4adf-ac6b-3fc2fc006248",
      "metadata": {
        "id": "fa6c2c87-fa0f-4adf-ac6b-3fc2fc006248"
      },
      "source": [
        "- **叶子权重**$w_j$"
      ]
    },
    {
      "cell_type": "markdown",
      "id": "4a2ecc7c-9c1f-46d9-871b-ac9ce7d7c1f9",
      "metadata": {
        "id": "4a2ecc7c-9c1f-46d9-871b-ac9ce7d7c1f9"
      },
      "source": [
        "将标注为红色的部分命名为$\\mu_j$，表示叶子$j$上的损失+正则。则有：\n",
        "\n",
        "$$\\mu_j = w_j\\sum_{i \\in j} g_i + \\frac{1}{2}w^2_j(\\sum_{i \\in j} h_i + \\lambda)$$\n",
        "\n",
        "**现在，对叶子$j$而言**，在$\\mu_j$上对唯一自变量$w_j$求导，则有：\n",
        "\n",
        "$$\\begin{aligned}\\frac{\\partial{\\mu_j}}{\\partial w_j}\n",
        "&= \\frac{\\partial{w_j\\sum_{i \\in j} g_i + \\frac{1}{2}w^2_j(\\sum_{i \\in j} h_i + \\lambda)}}{\\partial w_j} \\\\ \\\\\n",
        "&= \\sum_{i \\in j} g_i + w_j(\\sum_{i \\in j} h_i + \\lambda)\\end{aligned}$$\n",
        "\n",
        "令一阶导数为0，则有：\n",
        "\n",
        "$$\\begin{aligned}\n",
        "\\sum_{i \\in j} g_i + w_j(\\sum_{i \\in j} h_i + \\lambda) &= 0 \\\\ \\\\\n",
        "w_j(\\sum_{i \\in j} h_i + \\lambda) &= -\\sum_{i \\in j} g_i \\\\ \\\\\n",
        "w_j &= -\\frac{\\sum_{i \\in j} g_i}{\\sum_{i \\in j} h_i + \\lambda}\\end{aligned}$$\n",
        "\n",
        "你应该发现了，**对一片叶子来说，令目标函数最小的$w_j$就是我们之前提过的叶子权重，也就是XGBoost数学流程当中叶子上的输出值**。如果要令叶子的输出非常接近叶子权重公式，那应该如何拟合每个样本呢？"
      ]
    },
    {
      "cell_type": "markdown",
      "id": "31669336-abec-4cfe-9b54-f7b488ff727a",
      "metadata": {
        "id": "31669336-abec-4cfe-9b54-f7b488ff727a"
      },
      "source": [
        "- **拟合值**"
      ]
    },
    {
      "cell_type": "markdown",
      "id": "b0fffa13-320a-425e-913e-353080af3ae6",
      "metadata": {
        "id": "b0fffa13-320a-425e-913e-353080af3ae6"
      },
      "source": [
        "**对任意位于叶子$j$上的样本$i$来说**：\n",
        "\n",
        "$$\\mu_i = w_jg_i + \\frac{1}{2}w^2_jh_i$$\n",
        "\n",
        "将一片叶子上的$\\mu_j$转变成$\\mu_i$时，原则上需要将$\\mu_j$中的每一项都转换为单个样本所对应的项，然而在转换正则项时则存在问题：与$\\sum_{i \\in j} g_i$这样可以直接指向单个样本的项不同，$\\lambda$是针对与一片叶子设置的值，如果要将$\\lambda$转变为针对单一样本的正则项，则需要知道当前叶子上一共有多少样本。然而，拟合发生在建树之前，因此在这一时间点不可能知道一片叶子上的样本总量，因此在xgboost的实际实现过程当中，**拟合每一片叶子时不涉及正则项**，只有在计算结构分数与叶子输出值时才使用正则项。\n",
        "\n",
        "对$\\mu_i$上唯一的自变量$w_j$求导，则有：\n",
        "\n",
        "$$\\begin{aligned}\\frac{\\partial{\\mu_i}}{\\partial w_j}\n",
        "&= \\frac{\\partial{\\left( w_jg_i + \\frac{1}{2}w^2_jh_i \\right)}}{\\partial w_j} \\\\ \\\\\n",
        "&= g_i + w_jh_i\\end{aligned}$$\n",
        "\n",
        "令一阶导数为0，则有：\n",
        "\n",
        "$$\\begin{aligned}\n",
        "g_i + w_jh_i &= 0 \\\\ \\\\\n",
        "w_jh_i &= - g_i \\\\ \\\\\n",
        "w_j &= -\\frac{g_i}{h_i} \\end{aligned}$$\n",
        "\n",
        "**对任意样本$i$而言，令目标函数最小的最优$w_j$就是我们的伪残差$r_i$，也就是XGBoost数学流程当中用于进行拟合的拟合值**。"
      ]
    },
    {
      "cell_type": "markdown",
      "id": "d2025127-357d-42bd-bdd1-18cc2c763d38",
      "metadata": {
        "id": "d2025127-357d-42bd-bdd1-18cc2c763d38"
      },
      "source": [
        "- **结构分数**"
      ]
    },
    {
      "cell_type": "markdown",
      "id": "f9afafbe-78c8-4ae2-96b1-3fa74884aa21",
      "metadata": {
        "id": "f9afafbe-78c8-4ae2-96b1-3fa74884aa21"
      },
      "source": [
        "现在，我们把令目标函数最小的最优$w_j$带回到$\\mu_j$中，查看$\\mu_j$如何变化：\n",
        "\n",
        "$$\\begin{aligned}\n",
        "\\mu_j &= w_j\\sum_{i \\in j} g_i + \\frac{1}{2}w^2_j(\\sum_{i \\in j} h_i + \\lambda) \\\\\n",
        "&= -\\frac{\\sum_{i \\in j} g_i}{\\sum_{i \\in j} h_i + \\lambda} * \\sum_{i \\in j} g_i + \\frac{1}{2}(-\\frac{\\sum_{i \\in j} g_i}{\\sum_{i \\in j} h_i + \\lambda})^2 * {\\sum_{i \\in j} h_i + \\lambda}\\\\\n",
        "&= -\\frac{(\\sum_{i \\in j} g_i)^2}{\\sum_{i \\in j} h_i + \\lambda} + \\frac{1}{2}\\frac{(\\sum_{i \\in j} g_i)^2}{\\sum_{i \\in j} h_i + \\lambda} \\\\\n",
        "&= - \\frac{1}{2}\\frac{(\\sum_{i \\in j} g_i)^2}{\\sum_{i \\in j} h_i + \\lambda}\n",
        "\\end{aligned}$$"
      ]
    },
    {
      "cell_type": "markdown",
      "id": "3bb10442-4fa2-4f96-8a2f-39fc696cca1d",
      "metadata": {
        "id": "3bb10442-4fa2-4f96-8a2f-39fc696cca1d"
      },
      "source": [
        "因此，目标函数（所有叶子上的损失）就可以变为：\n",
        "\n",
        "$$\\begin{aligned}\n",
        "\\tilde{O}_k \n",
        "&= \\sum_{j=1}^T \\left( \\boldsymbol{\\color{red}{w_j\\sum_{i \\in j} g_i + \\frac{1}{2}w^2_j(\\sum_{i \\in j} h_i + \\lambda)}} \\right) + \\gamma T \\\\ \\\\\n",
        "&= \\sum_{j=1}^T \\left( -\\frac{1}{2}\\frac{(\\sum_{i \\in j} g_i)^2}{\\sum_{i \\in j} h_i + \\lambda} \\right) + \\gamma T \\end{aligned}\n",
        "$$\n",
        "\n",
        "因此，一片叶子上的目标函数就是：\n",
        "\n",
        "$$ O_j = -\\frac{1}{2}\\frac{(\\sum_{i \\in j} g_i)^2}{\\sum_{i \\in j} h_i + \\lambda} + \\gamma$$\n",
        "\n",
        "对任意一片叶子来说，目标函数可以衡量叶子的质量，其中$\\gamma$是可以设定的超参数，$\\frac{1}{2}$为常数，因此对任意叶子，我们希望标注为红色的部分越小越好：\n",
        "\n",
        "$$ O_j = \\frac{1}{2}\\left( \\boldsymbol{\\color{red}{-\\frac{(\\sum_{i \\in j} g_i)^2}{\\sum_{i \\in j} h_i + \\lambda}}} \\right)+ \\gamma$$\n",
        "\n",
        "故而，我们希望以下式子越大越好：\n",
        "\n",
        "$$\\frac{(\\sum_{i \\in j} g_i)^2}{\\sum_{i \\in j} h_i + \\lambda}$$\n",
        "\n",
        "这个式子，**正是XGBoost用于分枝时的指标“结构分数”（Structure Score）**。"
      ]
    },
    {
      "cell_type": "markdown",
      "id": "4aafa9f7-336c-4148-84ac-5981b8e90093",
      "metadata": {
        "id": "4aafa9f7-336c-4148-84ac-5981b8e90093"
      },
      "source": [
        "- **结构分数的增益**"
      ]
    },
    {
      "cell_type": "markdown",
      "id": "92c99fe7-4c71-49a0-8e56-401d390e839d",
      "metadata": {
        "id": "92c99fe7-4c71-49a0-8e56-401d390e839d"
      },
      "source": [
        "当分枝的时候，我们希望目标函数越小越好，因此在分枝过程中，父节点的目标函数是大于子节点的目标函数的，因此我们可以使用（父节点目标函数 - 子节点目标函数之和）来衡量分枝的质量，则有：\n",
        "\n",
        "$$\\begin{aligned}\n",
        "Gain &= O_p - (O_l + O_r) \\\\ \\\\\n",
        "&= -\\frac{1}{2}\\frac{(\\sum_{i \\in P} g_i)^2}{\\sum_{i \\in P} h_i + \\lambda} + \\gamma - (-\\frac{1}{2}\\frac{(\\sum_{i \\in L} g_i)^2}{\\sum_{i \\in L} h_i + \\lambda} + \\gamma  -\\frac{1}{2}\\frac{(\\sum_{i \\in R} g_i)^2}{\\sum_{i \\in R} h_i + \\lambda} + \\gamma) \\\\ \\\\\n",
        "&= -\\frac{1}{2}\\frac{(\\sum_{i \\in P} g_i)^2}{\\sum_{i \\in P} h_i + \\lambda} + \\gamma + \\frac{1}{2}\\frac{(\\sum_{i \\in L} g_i)^2}{\\sum_{i \\in L} h_i + \\lambda} - \\gamma + \\frac{1}{2}\\frac{(\\sum_{i \\in R} g_i)^2}{\\sum_{i \\in R} h_i + \\lambda} - \\gamma \\\\ \\\\\n",
        "&= \\frac{1}{2}\\left( \\frac{(\\sum_{i \\in L} g_i)^2}{\\sum_{i \\in L} h_i + \\lambda} + \\frac{(\\sum_{i \\in R} g_i)^2}{\\sum_{i \\in R} h_i + \\lambda} - \\frac{(\\sum_{i \\in P} g_i)^2}{\\sum_{i \\in P} h_i + \\lambda} \\right) - \\gamma \\\\ \\\\\n",
        "&= \\frac{1}{2} (Score_L + Score_R - Score_P) - \\gamma\n",
        "\\end{aligned}$$\n",
        "\n",
        "其中，$\\gamma$是可以设定的超参数，$\\frac{1}{2}$为常数，因此：\n",
        "\n",
        "$$Gain = Score_L + Score_R - Score_P$$\n",
        "\n",
        "**这就是我们在分枝时所使用的结构分数增益了**。"
      ]
    },
    {
      "cell_type": "markdown",
      "id": "9d184e23-8fa7-42e4-a917-88eb51109d01",
      "metadata": {
        "id": "9d184e23-8fa7-42e4-a917-88eb51109d01"
      },
      "source": [
        "现在你发现了，XGBoost流程中所使用的全部新公式（包括独特的拟合值、独特的分枝指标、独特的输出值）都是通过令目标函数最小而求解出来的。因此，XGBoost整个流程就保证了目标函数一定是向着最小化方向进行迭代的，新生成的每片叶子上的输出值$w_j$都是会令目标函数最小化的输出值。现在，你可以回答以下的问题了：\n",
        "\n",
        "- 1. 建树时拟合的$r_{ik} = -\\frac{g_{ik}}{h_{ik}}$究竟是什么？拟合它有什么意义？\n",
        "\n",
        "- 2. 结构分数和结构分数增益的公式是如何推导出来的？为什么这样建树可以提升模型的效果？\n",
        "\n",
        "- 3. 为什么叶子节点的输出值$w_j$是$-\\frac{(\\sum_{i \\in j} g_{ik})}{\\sum_{i \\in j} h_{ik} + \\lambda}$？这样输出有什么意义？\n",
        "\n",
        "- 4. 课程的第一部分说XGBoost拟合的也是残差，残差在哪里？\n",
        "\n",
        "唯一余留问题4其实我们早已解答过，回去查看第二部分中的《2.2 弱评估器的分枝》，你会发现其实我们早已经求出残差了。当目标函数为$\\frac{1}{2}MSE$，负梯度$-g_i$就等于残差，而$h_i = 1$，因此拟合项$-\\frac{g_i}{h_i}$自然也是残差本身了。因此，XGBoost也是拟合负梯度的算法，并且在特定损失函数下，XGBoost也拟合残差。在了解这个推导过程之后，再返回复习XGBoost的整体数学流程，你会发现**数学真的让算法变得更简单，而不是更复杂**。如果你已经学到了这里，你已经跨过了机器学习原理中几乎最难的一部分。在接下来的课程中，所有数学推导对你来说都不再是阻碍了。"
      ]
    },
    {
      "cell_type": "code",
      "execution_count": null,
      "id": "e8384eb7-e742-4bc1-a74f-954db4e54c96",
      "metadata": {
        "id": "e8384eb7-e742-4bc1-a74f-954db4e54c96"
      },
      "outputs": [],
      "source": [
        ""
      ]
    }
  ],
  "metadata": {
    "kernelspec": {
      "display_name": "Python 3 (ipykernel)",
      "language": "python",
      "name": "python3"
    },
    "language_info": {
      "codemirror_mode": {
        "name": "ipython",
        "version": 3
      },
      "file_extension": ".py",
      "mimetype": "text/x-python",
      "name": "python",
      "nbconvert_exporter": "python",
      "pygments_lexer": "ipython3",
      "version": "3.9.7"
    },
    "colab": {
      "name": "Lesson 13 XGBoost (0229).ipynb",
      "provenance": [],
      "include_colab_link": true
    }
  },
  "nbformat": 4,
  "nbformat_minor": 5
}