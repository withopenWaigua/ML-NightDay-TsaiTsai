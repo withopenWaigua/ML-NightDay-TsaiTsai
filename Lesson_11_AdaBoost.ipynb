{
  "cells": [
    {
      "cell_type": "markdown",
      "metadata": {
        "id": "view-in-github",
        "colab_type": "text"
      },
      "source": [
        "<a href=\"https://colab.research.google.com/github/withopenWaigua/ML-NightDay-TsaiTsai/blob/main/Lesson_11_AdaBoost.ipynb\" target=\"_parent\"><img src=\"https://colab.research.google.com/assets/colab-badge.svg\" alt=\"Open In Colab\"/></a>"
      ]
    },
    {
      "cell_type": "markdown",
      "metadata": {
        "id": "eGEjPIYWXyYN"
      },
      "source": [
        "# 集成学习"
      ]
    },
    {
      "cell_type": "code",
      "execution_count": null,
      "metadata": {
        "id": "RFbAMYUfXyYP"
      },
      "outputs": [],
      "source": [
        "import numpy as np\n",
        "import pandas as pd\n",
        "import sklearn\n",
        "import matplotlib as mlp\n",
        "import seaborn as sns\n",
        "import re, pip, conda"
      ]
    },
    {
      "cell_type": "code",
      "execution_count": null,
      "metadata": {
        "id": "Z5nZYWg9XyYR",
        "outputId": "76f3e970-d9c6-4ed7-ec18-0f3b345c6934"
      },
      "outputs": [
        {
          "name": "stdout",
          "output_type": "stream",
          "text": [
            "sklearn 1.0.1\n",
            "matplotlib 3.4.3\n",
            "numpy 1.21.4\n",
            "pandas 1.3.4\n",
            "seaborn 0.11.2\n",
            "pip 21.3.1\n",
            "conda 4.11.0\n"
          ]
        }
      ],
      "source": [
        "for package in [sklearn,mlp,np,pd,sns,pip,conda]:\n",
        "    print(re.findall(\"([^']*)\",str(package))[2],package.__version__)"
      ]
    },
    {
      "cell_type": "code",
      "execution_count": null,
      "metadata": {
        "id": "qbrfu_fAXyYS"
      },
      "outputs": [],
      "source": [
        "#pip install --upgrade scikit-learn\n",
        "#conda update scikit-learn"
      ]
    },
    {
      "cell_type": "markdown",
      "metadata": {
        "id": "0qPB3pzuXyYS"
      },
      "source": [
        "目录\n",
        "\n",
        "一 Boosting方法的基本思想<br>\n",
        "&emsp;1 Bagging pk Boosting<br>\n",
        "&emsp;2 Boosting算法的基本元素与基本流程<br>\n",
        "&emsp;3 sklearn中的boosting算法<br>\n",
        "二 AdaBoost<br>\n",
        "&emsp;1 AdaBoost的基本参数与损失函数<br>\n",
        "&emsp;&emsp;1.1 n_estimators<br>\n",
        "&emsp;&emsp;1.2 learning_rate<br>\n",
        "&emsp;&emsp;1.3 algorithm与loss<br>\n",
        "&emsp;2 原理进阶：Adaboost回归的求解流程<br>"
      ]
    },
    {
      "cell_type": "markdown",
      "metadata": {
        "id": "1XD2b1DQXyYT"
      },
      "source": [
        "# 一 Boosting方法的基本思想"
      ]
    },
    {
      "cell_type": "markdown",
      "metadata": {
        "id": "AKE2QNhLXyYT"
      },
      "source": [
        "在集成学习的“弱分类器集成”领域，除了降低方差来降低整体泛化误差的装袋法Bagging，还有专注于**降低整体偏差**来降低泛化误差的提升法Boosting。相比起操作简单、大道至简的Bagging算法，Boosting算法在操作和原理上的难度都更大，但由于专注于偏差降低，Boosting算法们在模型效果方面的突出表现制霸整个弱分类器集成的领域。当代知名的Boosting算法当中，Xgboost，LightGBM与Catboost都是机器学习领域最强大的强学习器，Boosting毫无疑问是当代机器学习领域最具统治力的算法领域。"
      ]
    },
    {
      "cell_type": "markdown",
      "metadata": {
        "id": "SBoyLUXcXyYU"
      },
      "source": [
        "- **Boosting PK Bagging**\n",
        "\n",
        "||装袋法 Bagging|提升法 Boosting|\n",
        "|-|-|-|\n",
        "|弱评估器|**相互独立**，并行构建|**相互关联**，按顺序依次构建<br>先建弱分类器的预测效果影响后续模型的建立|\n",
        "|建树前的抽样方式|样本有放回抽样<br>特征无放回抽样|样本有放回抽样<br>特征无放回抽样<br>先建弱分类器的预测效果可能影响抽样细节|\n",
        "|集成的结果|回归平均<br>分类众数|每个算法**具有自己独特的规则**，一般来说：<br>(1) 表现为某种分数的加权平均<br>(2) 使用输出函数|\n",
        "|目标|**降低方差**<br>提高模型整体的稳定性来提升泛化能力<br>本质是从“平均”这一数学行为中获利|**降低偏差**<br>提高模型整体的精确度来提升泛化能力<br>相信众多弱分类器叠加后可以等同于强学习器|\n",
        "|单个评估器容易<br>过拟合的时候|具有一定的抗过拟合能力|具有一定的抗过拟合能力|\n",
        "|单个评估器的效力<br>比较弱的时候|可能失效|大概率会提升模型表现|\n",
        "|代表算法|随机森林|梯度提升树，Adaboost|\n",
        "\n",
        "![RF2](https://pictes.oss-cn-beijing.aliyuncs.com/%E5%BE%AE%E8%AF%BE%20-%20sklearn/RFC/RF2.png)\n",
        "\n",
        "在以随机森林为代表的Bagging算法中，我们一次性建立多个平行独立的弱评估器，并让所有评估器并行运算。在Boosting集成算法当中，我们逐一建立多个弱评估器（基本是决策树），并且下一个弱评估器的建立方式依赖于上一个弱评估器的评估结果，最终综合多个弱评估器的结果进行输出，因此Boosting算法中的弱评估器之间不仅不是相互独立的、反而是强相关的，同时Boosting算法也不依赖于弱分类器之间的独立性来提升结果，这是Boosting与Bagging的一大差别。如果说Bagging不同算法之间的核心区别在于靠以不同方式实现“独立性”（随机性），**那Boosting的不同算法之间的核心区别就在于上一个弱评估器的评估结果具体如何影响下一个弱评估器的建立过程**。\n",
        "\n",
        "与Bagging算法中统一的回归求平均、分类少数服从多数的输出不同，Boosting算法在结果输出方面表现得十分多样。早期的Boosting算法的输出一般是最后一个弱评估器的输出，当代Boosting算法的输出都会考虑整个集成模型中全部的弱评估器。**一般来说，每个Boosting算法会其以独特的规则自定义集成输出的具体形式**，但对大部分算法而言，集成算法的输出结果往往是**关于弱评估器的某种结果的加权平均**，其中权重的求解是boosting领域中非常关键的步骤。"
      ]
    },
    {
      "cell_type": "markdown",
      "metadata": {
        "id": "jwEZQu_xXyYV"
      },
      "source": [
        "- **Boosting算法的基本元素与基本流程**"
      ]
    },
    {
      "cell_type": "markdown",
      "metadata": {
        "id": "T6_T4C1XXyYW"
      },
      "source": [
        "基于上面所明确的“降低偏差”、“逐一建树”、以及“以独特规则输出结果”的三大特色，我们可以确立任意boosting算法的三大基本元素以及boosting算法自适应建模的基本流程：\n",
        "\n",
        "- 损失函数$L(x,y)$ ：用以衡量模型预测结果与真实结果的差异\n",
        "- 弱评估器$f(x)$ ：（一般为）决策树，不同的boosting算法使用不同的建树过程\n",
        "- 综合集成结果$H(x)$：即集成算法具体如何输出集成结果\n",
        "\n",
        "这三大元素将会贯穿所有我们即将学习的boosting算法，我们会发现几乎所有boosting算法的原理都围绕这三大元素构建。在此三大要素基础上，所有boosting算法都遵循以下流程进行建模：\n",
        "\n",
        "---\n",
        "**<font color=\"green\"><center>依据上一个弱评估器$f(x)_{t-1}$的结果，计算损失函数$L(x,y)$，\n",
        "    <br>并使用$L(x,y)$自适应地影响下一个弱评估器$f(x)_t$的构建。<br>集成模型输出的结果，受到整体所有弱评估器$f(x)_0$ ~ $f(x)_T$的影响。</center></font>**\n",
        "---\n",
        "\n",
        "正如之前所言，Boosting算法之间的不同之处就在于使用不同的方式来**影响**后续评估器的构建。无论boosting算法表现出复杂或简单的流程，其核心思想一定是围绕上面这个流程不变的。"
      ]
    },
    {
      "cell_type": "markdown",
      "metadata": {
        "id": "aelch0YEXyYW"
      },
      "source": [
        "- **sklearn中的boosting算法**"
      ]
    },
    {
      "cell_type": "markdown",
      "metadata": {
        "id": "d0CJU07FXyYX"
      },
      "source": [
        "在sklearn当中，我们可以接触到数个Boosting集成算法，包括Boosting入门算法**AdaBoost**，性能最稳定、奠定了整个Boosting效果基础的梯度提升树**GBDT**（Gradient Boosting Decision Tree），以及近几年才逐渐被验证有效的**直方提升树**（Hist Gradient Boosting Tree）。\n",
        "\n",
        "在过去5年之间，除了sklearn，研究者们还创造了大量基于GBDT进行改造的提升类算法，这些算法大多需要从第三方库进行调用，例如极限提升树**XGBoost**（Extreme Gradient Boosting Tree），轻量梯度提升树**LightGBM**（Light Gradiant Boosting Machine），以及离散提升树**CatBoost**（Categorial Boosting Tree）。"
      ]
    },
    {
      "cell_type": "markdown",
      "metadata": {
        "id": "0e4wA0rqXyYX"
      },
      "source": [
        "|Boosting算法|库|集成类|\n",
        "|:--:|:--:|:--:|\n",
        "|ADB分类|sklearn|AdaBoostClassifer|\n",
        "|ADB回归|sklearn|AdaBoostRegressor|\n",
        "|梯度提升树分类|sklearn|GradientBoostingClassifier|\n",
        "|梯度提升树回归|sklearn|GradientBoostingRegressor|\n",
        "|直方提升树分类|sklearn|HistGraidientBoostingClassifier|\n",
        "|直方提升树回归|sklearn|HistGraidientBoostingRegressor|\n",
        "|极限提升树|第三方库xgboost|xgboost.train()|\n",
        "|轻量梯度提升树|第三方库lightgbm|lightgbm.train()|\n",
        "|离散提升树|第三方库catboost|catboost.train()|"
      ]
    },
    {
      "cell_type": "markdown",
      "metadata": {
        "id": "-E1kk_E8XyYX"
      },
      "source": [
        "在课程当中，我们会一一介绍以上所有算法的原理与用法。另外需要注意的是，周志华老师于2017年提出的深度森林算法既不是boosting也不是bagging，而是以深度学习的思路重新集成决策树之后得到的独特算法，可以算是模型融合的一部分。"
      ]
    },
    {
      "cell_type": "markdown",
      "metadata": {
        "id": "uZm_na4fXyYY"
      },
      "source": [
        "# 二 AdaBoost"
      ]
    },
    {
      "cell_type": "markdown",
      "metadata": {
        "id": "zonCCpWHXyYY"
      },
      "source": [
        "AdaBoost（Adaptive Boosting，自适应提升法）是当代boosting领域的开山鼻祖，它虽然不是首个实践boosting思想算法，却是首个成功将boosting思想发扬光大的算法。它的主要贡献在于实现了两个变化：\n",
        "\n",
        "1、首次实现根据之前弱评估器的结果**自适应地**影响后续建模过程<br>\n",
        "2、在Boosting算法中，首次实现考虑全部弱评估器结果的输出方式<br>\n",
        "\n",
        "作为开山算法，AdaBoost的构筑过程非常简单：**首先，在全样本上建立一棵决策树，根据该决策树预测的结果和损失函数值，增加被预测错误的样本在数据集中的样本权重，并让加权后的数据集被用于训练下一棵决策树**。这个过程相当于有意地加重“难以被分类正确的样本”的权重，同时降低“容易被分类正确的样本”的权重，而将后续要建立的弱评估器的注意力引导到难以被分类正确的样本上。\n",
        "\n",
        "![](https://skojiangdoc.oss-cn-beijing.aliyuncs.com/2021MachineLearning/Ensembles/Public/boostrap-fixed2.png)\n",
        "\n",
        "在该过程中，上一棵决策树的的结果通过影响样本权重、即影响数据分布来影响下一棵决策树的建立，整个过程是自适应的。当全部弱评估器都被建立后，集成算法的输出$H(x)$等于所有弱评估器输出值的加权平均，加权所用的权重也是在建树过程中被自适应地计算出来的。\n",
        "\n",
        "需要注意的是，虽然最初的原理较为简单，但近年来AdaBoost在已经发展出多个升级的版本（比如，**在建立每棵树之前，允许随机抽样特征，这使得Boosting中的决策树行为更加接近Bagging中的决策树**），而sklearn中使用了这些升级后的版本进行实现。幸运的是，这些实现并不影响我们对sklearn中的类的使用，对这些实现的具体过程感兴趣的小伙伴，可以在章节《2 原理进阶：AdaBoost的求解流程》中查看具体原理。\n",
        "\n",
        "在sklearn中，AdaBoost既可以实现分类也可以实现回归，我们使用如下两个类来调用它们：\n",
        "\n",
        "*class* `sklearn.ensemble.AdaBoostClassifier`(base_estimator=None, *, n_estimators=50, learning_rate=1.0, algorithm='SAMME.R', random_state=None)\n",
        "\n",
        "*class* `sklearn.ensemble.AdaBoostRegressor`(base_estimator=None, *, n_estimators=50, learning_rate=1.0, loss='linear', random_state=None)\n",
        "\n",
        "不难发现，AdaBoost的参数非常非常少，在调用AdaBoost时我们甚至无需理解AdaBoost的具体求解过程。同时，ADB分类器与ADB回归器的参数也高度一致。在课程当中，我们将重点Boosting算法独有的参数，以及ADB分类与ADB回归中表现不一致的参数。\n",
        "\n",
        "|参数|参数含义|\n",
        "|:-:|:-:|\n",
        "|**base_estimator**|弱评估器|\n",
        "|n_estimators|集成算法中弱评估器的数量|\n",
        "|**learning_rate**|迭代中所使用的学习率|\n",
        "|**algorithm**（分类器专属）|用于指定分类ADB中使用的具体实现方法|\n",
        "|**loss**（回归器专属）|用于指定回归ADB中使用的损失函数|\n",
        "|random_state|用于控制每次建树之前随机抽样过程的随机数种子|"
      ]
    },
    {
      "cell_type": "markdown",
      "metadata": {
        "id": "QHx0tvWMXyYY"
      },
      "source": [
        "## 1 AdaBoost的基本参数与损失函数"
      ]
    },
    {
      "cell_type": "code",
      "execution_count": null,
      "metadata": {
        "id": "TM7S_GMtXyYZ"
      },
      "outputs": [],
      "source": [
        "from sklearn.ensemble import AdaBoostClassifier as ABC\n",
        "from sklearn.ensemble import AdaBoostRegressor as ABR\n",
        "from sklearn.tree import DecisionTreeClassifier as DTC\n",
        "from sklearn.tree import DecisionTreeRegressor as DTR\n",
        "from sklearn.datasets import load_digits"
      ]
    },
    {
      "cell_type": "code",
      "execution_count": null,
      "metadata": {
        "id": "5UhCCk0ZXyYZ"
      },
      "outputs": [],
      "source": [
        "#用于分类的数据\n",
        "data_c = load_digits()\n",
        "X_c = data_c.data\n",
        "y_c = data_c.target"
      ]
    },
    {
      "cell_type": "code",
      "execution_count": null,
      "metadata": {
        "id": "VAUyucrKXyYZ",
        "outputId": "9f65f4fb-8f71-4bcd-8aba-66267581bc27"
      },
      "outputs": [
        {
          "data": {
            "text/plain": [
              "(1797, 64)"
            ]
          },
          "execution_count": 26,
          "metadata": {},
          "output_type": "execute_result"
        }
      ],
      "source": [
        "X_c.shape"
      ]
    },
    {
      "cell_type": "code",
      "execution_count": null,
      "metadata": {
        "id": "VQ2Nx4l5XyYa",
        "outputId": "c82fbbab-63b2-4787-a2ac-b0436025d2e1"
      },
      "outputs": [
        {
          "data": {
            "text/plain": [
              "array([[ 0.,  0.,  5., ...,  0.,  0.,  0.],\n",
              "       [ 0.,  0.,  0., ..., 10.,  0.,  0.],\n",
              "       [ 0.,  0.,  0., ..., 16.,  9.,  0.],\n",
              "       ...,\n",
              "       [ 0.,  0.,  1., ...,  6.,  0.,  0.],\n",
              "       [ 0.,  0.,  2., ..., 12.,  0.,  0.],\n",
              "       [ 0.,  0., 10., ..., 12.,  1.,  0.]])"
            ]
          },
          "execution_count": 16,
          "metadata": {},
          "output_type": "execute_result"
        }
      ],
      "source": [
        "X_c"
      ]
    },
    {
      "cell_type": "code",
      "execution_count": null,
      "metadata": {
        "id": "actvumgHXyYa",
        "outputId": "6da0f59a-e891-4cad-bfa6-804cc81b61f6"
      },
      "outputs": [
        {
          "data": {
            "text/plain": [
              "array([0, 1, 2, 3, 4, 5, 6, 7, 8, 9])"
            ]
          },
          "execution_count": 27,
          "metadata": {},
          "output_type": "execute_result"
        }
      ],
      "source": [
        "np.unique(y_c) #手写数字数据集，10分类"
      ]
    },
    {
      "cell_type": "code",
      "execution_count": null,
      "metadata": {
        "id": "k66UC1SpXyYa"
      },
      "outputs": [],
      "source": [
        "#用于回归的数据\n",
        "data_r = pd.read_csv(r\"D:\\Pythonwork\\2021ML\\PART 2 Ensembles\\datasets\\House Price\\train_encode.csv\",index_col=0)\n",
        "X_g = data_r.iloc[:,:-1]\n",
        "y_g = data_r.iloc[:,-1]"
      ]
    },
    {
      "cell_type": "code",
      "execution_count": null,
      "metadata": {
        "id": "fqAbkG84XyYb",
        "outputId": "527b5953-86a8-4c77-8fed-e9fef581bc23"
      },
      "outputs": [
        {
          "data": {
            "text/plain": [
              "(1460, 80)"
            ]
          },
          "execution_count": 13,
          "metadata": {},
          "output_type": "execute_result"
        }
      ],
      "source": [
        "X_g.shape"
      ]
    },
    {
      "cell_type": "code",
      "execution_count": null,
      "metadata": {
        "id": "DFxS_GPoXyYb",
        "outputId": "b1113211-3b16-41ed-ef37-88d5b3f867ba"
      },
      "outputs": [
        {
          "data": {
            "text/html": [
              "<div>\n",
              "<style scoped>\n",
              "    .dataframe tbody tr th:only-of-type {\n",
              "        vertical-align: middle;\n",
              "    }\n",
              "\n",
              "    .dataframe tbody tr th {\n",
              "        vertical-align: top;\n",
              "    }\n",
              "\n",
              "    .dataframe thead th {\n",
              "        text-align: right;\n",
              "    }\n",
              "</style>\n",
              "<table border=\"1\" class=\"dataframe\">\n",
              "  <thead>\n",
              "    <tr style=\"text-align: right;\">\n",
              "      <th></th>\n",
              "      <th>Id</th>\n",
              "      <th>住宅类型</th>\n",
              "      <th>住宅区域</th>\n",
              "      <th>街道接触面积(英尺)</th>\n",
              "      <th>住宅面积</th>\n",
              "      <th>街道路面状况</th>\n",
              "      <th>巷子路面状况</th>\n",
              "      <th>住宅形状(大概)</th>\n",
              "      <th>住宅现状</th>\n",
              "      <th>水电气</th>\n",
              "      <th>...</th>\n",
              "      <th>半开放式门廊面积</th>\n",
              "      <th>泳池面积</th>\n",
              "      <th>泳池质量</th>\n",
              "      <th>篱笆质量</th>\n",
              "      <th>其他配置</th>\n",
              "      <th>其他配置的价值</th>\n",
              "      <th>销售月份</th>\n",
              "      <th>销售年份</th>\n",
              "      <th>销售类型</th>\n",
              "      <th>销售状态</th>\n",
              "    </tr>\n",
              "  </thead>\n",
              "  <tbody>\n",
              "    <tr>\n",
              "      <th>0</th>\n",
              "      <td>0.0</td>\n",
              "      <td>5.0</td>\n",
              "      <td>3.0</td>\n",
              "      <td>36.0</td>\n",
              "      <td>327.0</td>\n",
              "      <td>1.0</td>\n",
              "      <td>0.0</td>\n",
              "      <td>3.0</td>\n",
              "      <td>3.0</td>\n",
              "      <td>0.0</td>\n",
              "      <td>...</td>\n",
              "      <td>0.0</td>\n",
              "      <td>0.0</td>\n",
              "      <td>0.0</td>\n",
              "      <td>0.0</td>\n",
              "      <td>0.0</td>\n",
              "      <td>0.0</td>\n",
              "      <td>1.0</td>\n",
              "      <td>2.0</td>\n",
              "      <td>8.0</td>\n",
              "      <td>4.0</td>\n",
              "    </tr>\n",
              "    <tr>\n",
              "      <th>1</th>\n",
              "      <td>1.0</td>\n",
              "      <td>0.0</td>\n",
              "      <td>3.0</td>\n",
              "      <td>51.0</td>\n",
              "      <td>498.0</td>\n",
              "      <td>1.0</td>\n",
              "      <td>0.0</td>\n",
              "      <td>3.0</td>\n",
              "      <td>3.0</td>\n",
              "      <td>0.0</td>\n",
              "      <td>...</td>\n",
              "      <td>0.0</td>\n",
              "      <td>0.0</td>\n",
              "      <td>0.0</td>\n",
              "      <td>0.0</td>\n",
              "      <td>0.0</td>\n",
              "      <td>0.0</td>\n",
              "      <td>4.0</td>\n",
              "      <td>1.0</td>\n",
              "      <td>8.0</td>\n",
              "      <td>4.0</td>\n",
              "    </tr>\n",
              "    <tr>\n",
              "      <th>2</th>\n",
              "      <td>2.0</td>\n",
              "      <td>5.0</td>\n",
              "      <td>3.0</td>\n",
              "      <td>39.0</td>\n",
              "      <td>702.0</td>\n",
              "      <td>1.0</td>\n",
              "      <td>0.0</td>\n",
              "      <td>0.0</td>\n",
              "      <td>3.0</td>\n",
              "      <td>0.0</td>\n",
              "      <td>...</td>\n",
              "      <td>0.0</td>\n",
              "      <td>0.0</td>\n",
              "      <td>0.0</td>\n",
              "      <td>0.0</td>\n",
              "      <td>0.0</td>\n",
              "      <td>0.0</td>\n",
              "      <td>8.0</td>\n",
              "      <td>2.0</td>\n",
              "      <td>8.0</td>\n",
              "      <td>4.0</td>\n",
              "    </tr>\n",
              "    <tr>\n",
              "      <th>3</th>\n",
              "      <td>3.0</td>\n",
              "      <td>6.0</td>\n",
              "      <td>3.0</td>\n",
              "      <td>31.0</td>\n",
              "      <td>489.0</td>\n",
              "      <td>1.0</td>\n",
              "      <td>0.0</td>\n",
              "      <td>0.0</td>\n",
              "      <td>3.0</td>\n",
              "      <td>0.0</td>\n",
              "      <td>...</td>\n",
              "      <td>0.0</td>\n",
              "      <td>0.0</td>\n",
              "      <td>0.0</td>\n",
              "      <td>0.0</td>\n",
              "      <td>0.0</td>\n",
              "      <td>0.0</td>\n",
              "      <td>1.0</td>\n",
              "      <td>0.0</td>\n",
              "      <td>8.0</td>\n",
              "      <td>0.0</td>\n",
              "    </tr>\n",
              "    <tr>\n",
              "      <th>4</th>\n",
              "      <td>4.0</td>\n",
              "      <td>5.0</td>\n",
              "      <td>3.0</td>\n",
              "      <td>55.0</td>\n",
              "      <td>925.0</td>\n",
              "      <td>1.0</td>\n",
              "      <td>0.0</td>\n",
              "      <td>0.0</td>\n",
              "      <td>3.0</td>\n",
              "      <td>0.0</td>\n",
              "      <td>...</td>\n",
              "      <td>0.0</td>\n",
              "      <td>0.0</td>\n",
              "      <td>0.0</td>\n",
              "      <td>0.0</td>\n",
              "      <td>0.0</td>\n",
              "      <td>0.0</td>\n",
              "      <td>11.0</td>\n",
              "      <td>2.0</td>\n",
              "      <td>8.0</td>\n",
              "      <td>4.0</td>\n",
              "    </tr>\n",
              "  </tbody>\n",
              "</table>\n",
              "<p>5 rows × 80 columns</p>\n",
              "</div>"
            ],
            "text/plain": [
              "    Id  住宅类型  住宅区域  街道接触面积(英尺)   住宅面积  街道路面状况  巷子路面状况  住宅形状(大概)  住宅现状  水电气  \\\n",
              "0  0.0   5.0   3.0        36.0  327.0     1.0     0.0       3.0   3.0  0.0   \n",
              "1  1.0   0.0   3.0        51.0  498.0     1.0     0.0       3.0   3.0  0.0   \n",
              "2  2.0   5.0   3.0        39.0  702.0     1.0     0.0       0.0   3.0  0.0   \n",
              "3  3.0   6.0   3.0        31.0  489.0     1.0     0.0       0.0   3.0  0.0   \n",
              "4  4.0   5.0   3.0        55.0  925.0     1.0     0.0       0.0   3.0  0.0   \n",
              "\n",
              "   ...  半开放式门廊面积  泳池面积  泳池质量  篱笆质量  其他配置  其他配置的价值  销售月份  销售年份  销售类型  销售状态  \n",
              "0  ...       0.0   0.0   0.0   0.0   0.0      0.0   1.0   2.0   8.0   4.0  \n",
              "1  ...       0.0   0.0   0.0   0.0   0.0      0.0   4.0   1.0   8.0   4.0  \n",
              "2  ...       0.0   0.0   0.0   0.0   0.0      0.0   8.0   2.0   8.0   4.0  \n",
              "3  ...       0.0   0.0   0.0   0.0   0.0      0.0   1.0   0.0   8.0   0.0  \n",
              "4  ...       0.0   0.0   0.0   0.0   0.0      0.0  11.0   2.0   8.0   4.0  \n",
              "\n",
              "[5 rows x 80 columns]"
            ]
          },
          "execution_count": 14,
          "metadata": {},
          "output_type": "execute_result"
        }
      ],
      "source": [
        "X_g.head()"
      ]
    },
    {
      "cell_type": "markdown",
      "metadata": {
        "id": "uOIB1BvYXyYb"
      },
      "source": [
        "- 参数`base_estimator`，属性`base_estimator_`与`estimators_`"
      ]
    },
    {
      "cell_type": "markdown",
      "metadata": {
        "id": "E_ct_v76XyYb"
      },
      "source": [
        "`base_estimator`是规定AdaBoost中使用弱评估器的参数。与对弱评估器有严格要求的Bagging算法不同，boosting算法通过降低偏差来降低整体泛化误差，因此可以使用任意弱评估器，且这些弱评估器往往被假设成非常弱小的评估器。当然了，默认的弱评估器还是决策树。在sklearn中，**ADB分类器的默认弱评估器是最大深度为1的“树桩”，ADB回归器的默认评估器是最大深度为3的“树苗”**，弱评估器本身基本不具备判断能力。而回归器中树深更深是因为boosting算法中回归任务往往更加复杂。在传统ADB理论当中，一般认为AdaBoost中的弱分类器为最大深度为1的树桩，但现在我们也可以自定义某种弱评估器来进行输入。\n",
        "\n",
        "当模型建好之后，我们可以使用属性`base_estimator_`来查看当前弱评估器，同时也可以使用`estimators_`来查看当前集成模型中所有弱评估器的情况："
      ]
    },
    {
      "cell_type": "markdown",
      "metadata": {
        "id": "jv4Wegn4XyYc"
      },
      "source": [
        "- 建立集成算法，调用其中的弱评估器"
      ]
    },
    {
      "cell_type": "code",
      "execution_count": null,
      "metadata": {
        "id": "fgz74yoEXyYc"
      },
      "outputs": [],
      "source": [
        "#建立ADB回归器和分类器\n",
        "clf = ABC(n_estimators=3).fit(X_c,y_c)\n",
        "reg = ABR(n_estimators=3).fit(X_g,y_g)"
      ]
    },
    {
      "cell_type": "code",
      "execution_count": null,
      "metadata": {
        "id": "RoaFkRy_XyYc",
        "outputId": "ce6cd9c9-d79e-4209-8126-b9b2ee1e7090"
      },
      "outputs": [
        {
          "data": {
            "text/plain": [
              "DecisionTreeClassifier(max_depth=1)"
            ]
          },
          "execution_count": 29,
          "metadata": {},
          "output_type": "execute_result"
        }
      ],
      "source": [
        "clf.base_estimator_"
      ]
    },
    {
      "cell_type": "code",
      "execution_count": null,
      "metadata": {
        "id": "9k9d1IngXyYc",
        "outputId": "f5da2b36-7bd1-462d-a033-6b72989e2745"
      },
      "outputs": [
        {
          "data": {
            "text/plain": [
              "DecisionTreeRegressor(max_depth=3)"
            ]
          },
          "execution_count": 30,
          "metadata": {},
          "output_type": "execute_result"
        }
      ],
      "source": [
        "reg.base_estimator_"
      ]
    },
    {
      "cell_type": "code",
      "execution_count": null,
      "metadata": {
        "id": "PaG0yqu1XyYc",
        "outputId": "bec2a690-619f-4c44-93df-aaf189a1d019"
      },
      "outputs": [
        {
          "data": {
            "text/plain": [
              "[DecisionTreeRegressor(max_depth=3, random_state=765348147),\n",
              " DecisionTreeRegressor(max_depth=3, random_state=850911835),\n",
              " DecisionTreeRegressor(max_depth=3, random_state=1434155639)]"
            ]
          },
          "execution_count": 31,
          "metadata": {},
          "output_type": "execute_result"
        }
      ],
      "source": [
        "reg.estimators_"
      ]
    },
    {
      "cell_type": "markdown",
      "metadata": {
        "id": "acjPM5OPXyYd"
      },
      "source": [
        "当AdaBoost完成分类任务时，弱评估器是分类树，当AdaBoost完成回归任务时，弱评估器是回归树，这一点与之后的Boosting算法们有较大的区别。"
      ]
    },
    {
      "cell_type": "markdown",
      "metadata": {
        "id": "c6iKu1eoXyYd"
      },
      "source": [
        "- 自建弱评估器"
      ]
    },
    {
      "cell_type": "code",
      "execution_count": null,
      "metadata": {
        "id": "q6mh2zeZXyYd"
      },
      "outputs": [],
      "source": [
        "base_estimator = DTC(max_depth=10,max_features=30)"
      ]
    },
    {
      "cell_type": "code",
      "execution_count": null,
      "metadata": {
        "id": "RXd7BDiUXyYd"
      },
      "outputs": [],
      "source": [
        "clf = ABC(base_estimator = base_estimator, n_estimators=3).fit(X_c,y_c)"
      ]
    },
    {
      "cell_type": "code",
      "execution_count": null,
      "metadata": {
        "id": "JB3bGtR5XyYd",
        "outputId": "567f9754-821d-499a-8b31-8dbd7590e25f"
      },
      "outputs": [
        {
          "data": {
            "text/plain": [
              "DecisionTreeClassifier(max_depth=10, max_features=30)"
            ]
          },
          "execution_count": 34,
          "metadata": {},
          "output_type": "execute_result"
        }
      ],
      "source": [
        "clf.base_estimator_"
      ]
    },
    {
      "cell_type": "code",
      "execution_count": null,
      "metadata": {
        "id": "ZEF-bQhzXyYe",
        "outputId": "6cec91a1-6f8a-4216-950e-aca0ef285907"
      },
      "outputs": [
        {
          "data": {
            "text/plain": [
              "[DecisionTreeClassifier(max_depth=10, max_features=30, random_state=814836020),\n",
              " DecisionTreeClassifier(max_depth=10, max_features=30, random_state=880262373),\n",
              " DecisionTreeClassifier(max_depth=10, max_features=30, random_state=925249775)]"
            ]
          },
          "execution_count": 35,
          "metadata": {},
          "output_type": "execute_result"
        }
      ],
      "source": [
        "clf.estimators_"
      ]
    },
    {
      "cell_type": "markdown",
      "metadata": {
        "id": "skqDcZVLXyYe"
      },
      "source": [
        "注意，为了保证集成算法中的树不一致，AdaBoost会默认消除我们填写在弱评估器中的random_state："
      ]
    },
    {
      "cell_type": "code",
      "execution_count": null,
      "metadata": {
        "id": "IpvEuRY2XyYe"
      },
      "outputs": [],
      "source": [
        "base_estimator = DTC(max_depth=10,max_features=30,random_state=1412)"
      ]
    },
    {
      "cell_type": "code",
      "execution_count": null,
      "metadata": {
        "id": "3ADn9bpbXyYe"
      },
      "outputs": [],
      "source": [
        "clf = ABC(base_estimator = base_estimator, n_estimators=3).fit(X_c,y_c)"
      ]
    },
    {
      "cell_type": "code",
      "execution_count": null,
      "metadata": {
        "id": "thDYoNUfXyYe",
        "outputId": "42936a89-233b-46cb-8468-94a2597e81dc"
      },
      "outputs": [
        {
          "data": {
            "text/plain": [
              "[DecisionTreeClassifier(max_depth=10, max_features=30, random_state=677195652),\n",
              " DecisionTreeClassifier(max_depth=10, max_features=30, random_state=1650391099),\n",
              " DecisionTreeClassifier(max_depth=10, max_features=30, random_state=672741048)]"
            ]
          },
          "execution_count": 53,
          "metadata": {},
          "output_type": "execute_result"
        }
      ],
      "source": [
        "clf.estimators_"
      ]
    },
    {
      "cell_type": "markdown",
      "metadata": {
        "id": "vCYKjfCRXyYf"
      },
      "source": [
        "- 参数`learning_rate`"
      ]
    },
    {
      "cell_type": "markdown",
      "metadata": {
        "id": "1TCt4JsvXyYf"
      },
      "source": [
        "在Boosting集成方法中，集成算法的输出$H(x)$往往都是多个弱评估器的输出结果的加权平均结果。但$H(x)$并不是在所有树建好之后才统一加权求解的，而是在算法逐渐建树的过程当中就随着迭代不断计算出来的。例如，对于样本$x_i$，集成算法当中一共有$T$棵树（也就是参数`n_estimators`的取值），现在正在建立第$t$个弱评估器，则第$t$个弱评估器上$x_i$的结果可以表示为$f_t(x_i)$。假设整个Boosting算法对样本$x_i$输出的结果为$H(x_i)$，则该结果一般可以被表示为t=1~t=T过程当中，所有弱评估器结果的加权求和："
      ]
    },
    {
      "cell_type": "markdown",
      "metadata": {
        "id": "ci1Ho7ljXyYf"
      },
      "source": [
        "$$H(x_i) =  \\sum_{t=1}^T\\phi_tf_t(x_i)$$\n",
        "\n",
        "其中，$\\phi_t$为第t棵树的权重。对于第$t$次迭代来说，则有：\n",
        "\n",
        "$$H_t(x_i) = H_{t-1}(x_i) + \\phi_tf_t(x_i)$$\n",
        "\n",
        "在这个一般过程中，每次将本轮建好的决策树加入之前的建树结果时，可以在权重$\\phi$前面增加参数$\\color{red}\\eta$，表示为第t棵树加入整体集成算法时的学习率，对标参数`learning_rate`。\n",
        "\n",
        "$$H_t(x_i) = H_{t-1}(x_i) + \\boldsymbol{\\color{red}\\eta} \\phi_tf_t(x_i)$$\n",
        "\n",
        "该学习率参数控制Boosting集成过程中$H(x_i)$的增长速度，是相当关键的参数。当学习率很大时，$H(x_i)$增长得更快，我们所需的n_estimators更少，当学习率较小时，$H(x_i)$增长较慢，我们所需的n_estimators就更多，因此boosting算法往往会需要在n_estimators与learning_rate当中做出权衡（以XGBoost算法为例）。\n",
        "\n",
        "![](https://pictes.oss-cn-beijing.aliyuncs.com/%E5%BE%AE%E8%AF%BE%20-%20sklearn/week%2011%20XGBoost/eta.PNG)\n",
        "\n",
        "需要注意的是，**以上式子为boosting算法中计算方式的一般规则，并不是具体到AdaBoost或任意Boosting集成算法的具体公式**。"
      ]
    },
    {
      "cell_type": "markdown",
      "metadata": {
        "id": "Yw77Y-LIXyYf"
      },
      "source": [
        "- 参数`algorithm`与`loss`"
      ]
    },
    {
      "cell_type": "markdown",
      "metadata": {
        "id": "nEXMMg26XyYf"
      },
      "source": [
        "参数`algorithm`与`loss`是boosting算法中非常常见的，分类器与回归器展示出不同参数的情况。正如之前提到的，虽然AdaBoost算法的原理简单，但是在近几年已经发展出了多种不同的算法实践手段，而参数`algorithm`与`loss`正是用来控制算法实践手段的关键参数，其中`algorithm`控制具体的实践算法，`loss`控制该实践算法中所使用的具体损失函数。\n",
        "\n",
        "> - `algorithm`\n",
        "\n",
        "首先，参数`algorithm`是针对分类器设置的参数，其中备选项有\"SAMME\"与\"SAMME.R\"两个字符串。这两个字符串分别代表了两种不同的、实现AdaBoost分类的手段：AdaBoost-SAMME与AdaBoost-SAMME.R。两者在数学流程上的区别并不大，只不过SAMME是基于算法输出的具体分类结果（例如-1，1，2）进行计算，而SAMME.R则是在SAMME基础上改进过后、基于弱分配器输出的概率值进行计算，两种方法都支持在AdaBoost上完成多分类任务，但SAMME.R往往能够得到更好的结果，因此sklearn中的默认值是SAMME.R，因此**sklearn中默认可以输入的base_estimators也需要是能够输出预测概率的弱评估器。实际在预测时，AdaBoost输出的$H(x)$也针对于某一类别的概率**。"
      ]
    },
    {
      "cell_type": "markdown",
      "metadata": {
        "id": "iDvaJo3jXyYf"
      },
      "source": [
        "需要注意的是，在分类器中，我们虽然被允许选择算法，却不被允许选择算法所使用的损失函数，这是因为SAMME与SAMME.R使用了相同的损失函数：二分类指数损失（Exponential Loss Function）与多分类指数损失（Multi-class Exponential loss function）。\n",
        "\n",
        "**二分类指数损失**——\n",
        "$$L(H(x),y) = e^{-yH^*(x)}$$<br>\n",
        "其中y为真实分类，$H^*(x)$则是从集成算法输出的概率结果$H(x)$转换来的向量。转换规则如下：\n",
        "\n",
        "$$H^*(x)=\n",
        "\\begin{cases}\n",
        "1& if \\ H(x)>0.5 \\\\\n",
        "-1& if\\  H(x) < 0.5\n",
        "\\end{cases}$$\n",
        "\n",
        "在sklearn当中，由于$H(x)$是概率值，因此需要转换为$H^*(x)$，如果在其他实现AdaBoost的算法库中，$H(x)$输出直接为预测类别，则可以不执行转换流程。\n",
        "\n",
        "**根据指数损失的特殊性质，二分类状况下的类别取值只能为-1或1**，因此$y$的取值只能为-1或1。当算法预测正确时，$yH^*(x)$的符号为正，则在函数$e^{-x}$上损失很小。当算法预测错误时，$yH^*(x)$的符号为负，则在函数$e^{-x}$上损失较大。二分类指数损失是AdaBoost最经典的损失函数，它在数学推导上的有效性以及在实践过程中很强的指导性让其沿用至今。\n",
        "\n",
        "![](https://www.tf.uni-kiel.de/matwis/amat/mw1_ge/kap_5/illustr/exponential1com.png)"
      ]
    },
    {
      "cell_type": "markdown",
      "metadata": {
        "id": "Nts8DYJdXyYg"
      },
      "source": [
        "**多分类指数损失**——\n",
        "\n",
        "$$\n",
        "\\begin{aligned}\n",
        "L(H(x),y) &=exp \\left( -\\frac{1}{K}\\boldsymbol{y^* · H^*(x)} \\right) \\\\ \n",
        "& = exp \\left( -\\frac{1}{K}(y^{*1}H^{*1}(x)+y^{*2}H^{*2}(x) \\ + \\  ... + y^{*k}H^{*k}(x)) \\right)\n",
        "\\end{aligned}\n",
        "$$<br>\n",
        "其中，$K$为总类别数，如四分类[0,1,2,3]的情况时，$K=4$，$\\boldsymbol{y^*}$与$\\boldsymbol{H^*(x)}$都是根据多分类具体情况、以及集成算法实际输出$H(x)$转化出的向量，其中$y^{*1}$与$H^{*1}(x)$的上标1都表示当前类别。\n",
        "\n",
        "在二分类算法中，算法会直接针对二分类中的**其中一个类别**输出概率，因为在二分类中$P(Y=1) = 1 - P(Y=-1)$，所以只计算出一类的概率即可判断预测的标签。但在多分类算法中，算法必须针对所有可能的取值类型都输出概率，**才能够从中找出最大概率所对应的预测标签**。因此在集成算法中，我们对进行多分类预测时，会得到如下的表格："
      ]
    },
    {
      "cell_type": "code",
      "execution_count": null,
      "metadata": {
        "id": "F-Y9huHYXyYg",
        "outputId": "fb7cf0b4-b6cc-4f6c-c865-cd9f56aeda86"
      },
      "outputs": [
        {
          "data": {
            "text/html": [
              "<div>\n",
              "<style scoped>\n",
              "    .dataframe tbody tr th:only-of-type {\n",
              "        vertical-align: middle;\n",
              "    }\n",
              "\n",
              "    .dataframe tbody tr th {\n",
              "        vertical-align: top;\n",
              "    }\n",
              "\n",
              "    .dataframe thead th {\n",
              "        text-align: right;\n",
              "    }\n",
              "</style>\n",
              "<table border=\"1\" class=\"dataframe\">\n",
              "  <thead>\n",
              "    <tr style=\"text-align: right;\">\n",
              "      <th></th>\n",
              "      <th>0</th>\n",
              "      <th>1</th>\n",
              "      <th>2</th>\n",
              "      <th>3</th>\n",
              "      <th>4</th>\n",
              "      <th>5</th>\n",
              "      <th>6</th>\n",
              "      <th>7</th>\n",
              "      <th>8</th>\n",
              "      <th>9</th>\n",
              "    </tr>\n",
              "  </thead>\n",
              "  <tbody>\n",
              "    <tr>\n",
              "      <th>0</th>\n",
              "      <td>0.909574</td>\n",
              "      <td>0.000000</td>\n",
              "      <td>0.010638</td>\n",
              "      <td>0.000000</td>\n",
              "      <td>0.031915</td>\n",
              "      <td>0.031915</td>\n",
              "      <td>0.015957</td>\n",
              "      <td>0.000000</td>\n",
              "      <td>0.000000</td>\n",
              "      <td>0.000000</td>\n",
              "    </tr>\n",
              "    <tr>\n",
              "      <th>1</th>\n",
              "      <td>0.003781</td>\n",
              "      <td>0.131380</td>\n",
              "      <td>0.120038</td>\n",
              "      <td>0.157845</td>\n",
              "      <td>0.134216</td>\n",
              "      <td>0.011342</td>\n",
              "      <td>0.003781</td>\n",
              "      <td>0.163516</td>\n",
              "      <td>0.158790</td>\n",
              "      <td>0.115312</td>\n",
              "    </tr>\n",
              "    <tr>\n",
              "      <th>2</th>\n",
              "      <td>0.003781</td>\n",
              "      <td>0.131380</td>\n",
              "      <td>0.120038</td>\n",
              "      <td>0.157845</td>\n",
              "      <td>0.134216</td>\n",
              "      <td>0.011342</td>\n",
              "      <td>0.003781</td>\n",
              "      <td>0.163516</td>\n",
              "      <td>0.158790</td>\n",
              "      <td>0.115312</td>\n",
              "    </tr>\n",
              "    <tr>\n",
              "      <th>3</th>\n",
              "      <td>0.000000</td>\n",
              "      <td>0.092672</td>\n",
              "      <td>0.099138</td>\n",
              "      <td>0.032328</td>\n",
              "      <td>0.071121</td>\n",
              "      <td>0.312500</td>\n",
              "      <td>0.370690</td>\n",
              "      <td>0.012931</td>\n",
              "      <td>0.006466</td>\n",
              "      <td>0.002155</td>\n",
              "    </tr>\n",
              "    <tr>\n",
              "      <th>4</th>\n",
              "      <td>0.909574</td>\n",
              "      <td>0.000000</td>\n",
              "      <td>0.010638</td>\n",
              "      <td>0.000000</td>\n",
              "      <td>0.031915</td>\n",
              "      <td>0.031915</td>\n",
              "      <td>0.015957</td>\n",
              "      <td>0.000000</td>\n",
              "      <td>0.000000</td>\n",
              "      <td>0.000000</td>\n",
              "    </tr>\n",
              "  </tbody>\n",
              "</table>\n",
              "</div>"
            ],
            "text/plain": [
              "          0         1         2         3         4         5         6  \\\n",
              "0  0.909574  0.000000  0.010638  0.000000  0.031915  0.031915  0.015957   \n",
              "1  0.003781  0.131380  0.120038  0.157845  0.134216  0.011342  0.003781   \n",
              "2  0.003781  0.131380  0.120038  0.157845  0.134216  0.011342  0.003781   \n",
              "3  0.000000  0.092672  0.099138  0.032328  0.071121  0.312500  0.370690   \n",
              "4  0.909574  0.000000  0.010638  0.000000  0.031915  0.031915  0.015957   \n",
              "\n",
              "          7         8         9  \n",
              "0  0.000000  0.000000  0.000000  \n",
              "1  0.163516  0.158790  0.115312  \n",
              "2  0.163516  0.158790  0.115312  \n",
              "3  0.012931  0.006466  0.002155  \n",
              "4  0.000000  0.000000  0.000000  "
            ]
          },
          "execution_count": 36,
          "metadata": {},
          "output_type": "execute_result"
        }
      ],
      "source": [
        "#多分类预测\n",
        "clf = DTC(max_depth=2).fit(X_c,y_c)\n",
        "\n",
        "#多分类预测输出的概率结果，取前5个样本\n",
        "pd.DataFrame(clf.predict_proba(X_c)).iloc[:5,:]"
      ]
    },
    {
      "cell_type": "markdown",
      "metadata": {
        "id": "d6SpFLoYXyYg"
      },
      "source": [
        "每一行对应一个样本，每一列则对应该样本的预测标签为某一类别的概率，以上表格就是5个样本在10分类情况下得出的概率表格，**而每一个样本的10个概率中，最大概率所对应的类别就是预测类别**。而这一转换可以由函数argmax完成。argmax会取出最大值所对应的索引，刚好也就是最大概率所对应的预测标签。"
      ]
    },
    {
      "cell_type": "code",
      "execution_count": null,
      "metadata": {
        "id": "cmiw6zxcXyYg",
        "outputId": "8779f031-a3cd-4d00-9025-e68c059953d8"
      },
      "outputs": [
        {
          "data": {
            "text/plain": [
              "0"
            ]
          },
          "execution_count": 37,
          "metadata": {},
          "output_type": "execute_result"
        }
      ],
      "source": [
        "np.argmax(pd.DataFrame(clf.predict_proba(X_c)).iloc[0,:])"
      ]
    },
    {
      "cell_type": "code",
      "execution_count": null,
      "metadata": {
        "id": "P6-ug7csXyYg",
        "outputId": "9d3496f5-9475-4b9b-8103-5cd7005b682e"
      },
      "outputs": [
        {
          "data": {
            "text/plain": [
              "7"
            ]
          },
          "execution_count": 38,
          "metadata": {},
          "output_type": "execute_result"
        }
      ],
      "source": [
        "np.argmax(pd.DataFrame(clf.predict_proba(X_c)).iloc[1,:])"
      ]
    },
    {
      "cell_type": "code",
      "execution_count": null,
      "metadata": {
        "id": "NWKhdA1rXyYg",
        "outputId": "b0d8226c-f24e-4a1e-fa82-43e623248b4d"
      },
      "outputs": [
        {
          "data": {
            "text/plain": [
              "6"
            ]
          },
          "execution_count": 39,
          "metadata": {},
          "output_type": "execute_result"
        }
      ],
      "source": [
        "np.argmax(pd.DataFrame(clf.predict_proba(X_c)).iloc[3,:])"
      ]
    },
    {
      "cell_type": "markdown",
      "metadata": {
        "id": "s2l3iXAXXyYh"
      },
      "source": [
        "对一棵决策树我们会输出k个概率，对于boosting集成中的每一棵树，在任意样本上都会得到$f^{c=0}(x)$、$f^{c=1}(x)$、$f^{c=2}(x)$……数个不同的结果。在集成算法当中，每个样本在第t次建树过程中，都会生成针对于不同类别的结果：\n",
        "\n",
        "$$H_{t}^0(x_i) = H_{t-1}^0(x_i) + \\phi_tf_t^0(x_i)$$<br>\n",
        "$$H_{t}^1(x_i) = H_{t-1}^1(x_i) + \\phi_tf_t^1(x_i)$$<br>\n",
        "$$H_{t}^2(x_i) = H_{t-1}^2(x_i) + \\phi_tf_t^2(x_i)$$<br>\n",
        "$$……$$\n",
        "$$H_{t}^k(x_i) = H_{t-1}^k(x_i) + \\phi_tf_t^k(x_i)$$<br>"
      ]
    },
    {
      "cell_type": "markdown",
      "metadata": {
        "id": "t4Up7m3fXyYh"
      },
      "source": [
        "因此，我们可以得到向量$[H^0(x),H^1(x),H^2(x),...,H^k(x)]$，表示当前集成算法计算出的、针对多个类别的概率（也是对全部弱分类器输出的、针对多个类别的概率进行的加权求和）。针对该向量，一定可以得到向量中的一个最大值，该最大值所对应的标签类别就是多分类算法中的预测标签类别。**根据该向量，以及指数损失的特性，我们规定：**\n",
        "\n",
        "$$H^*(x)=\n",
        "\\begin{cases}\n",
        "1& if \\ k = argmaxH(x) \\\\\n",
        "-\\frac{1}{K-1}& if\\ k  \\neq  argmaxH(x)\n",
        "\\end{cases}$$\n",
        "\n",
        "其中，$argmaxH(x)$对应的是预测标签，$k$为所有预选标签类别。因此，假设在4分类情况下，集成算法针对样本$i$的各个分类输出的概率如下所示，则向量$\\boldsymbol{H^*(x)}$的取值如下所示：\n",
        "\n",
        "||$0$|$1$|$2$|$3$|\n",
        "|:-:|:-:|:-:|:-:|:-:|\n",
        "|$H_t^k(x_i)$|$0.1$|$0.2$|$0.2$|$0.5$|\n",
        "|$H^*(x)$|$-\\frac{1}{3}$|$-\\frac{1}{3}$|$-\\frac{1}{3}$|$1$|\n",
        "\n",
        "其中3就是当前集成算法针对样本$i$预测的标签。"
      ]
    },
    {
      "cell_type": "markdown",
      "metadata": {
        "id": "3GgRjWMnXyYh"
      },
      "source": [
        "另外一方面，$\\boldsymbol{y^*}$一般来说都是真实标签经过上述处理后的结果。同样是4分类器情况下，**假设样本$i$的真实标签为2**，则向量$\\boldsymbol{y^*}$的构成如下所示：\n",
        "\n",
        "||$0$|$1$|$2$|$3$|\n",
        "|:-:|:-:|:-:|:-:|:-:|\n",
        "|$\\boldsymbol{y^*}$|$-\\frac{1}{3}$|$-\\frac{1}{3}$|$1$|$-\\frac{1}{3}$|"
      ]
    },
    {
      "cell_type": "markdown",
      "metadata": {
        "id": "m2vCg4qaXyYh"
      },
      "source": [
        "用公式表示则有：\n",
        "$$y^*=\n",
        "\\begin{cases}\n",
        "1& if \\ k=y_i \\\\\n",
        "-\\frac{1}{K-1}& if\\  k\\neq y_i \n",
        "\\end{cases}$$"
      ]
    },
    {
      "cell_type": "markdown",
      "metadata": {
        "id": "qfxwJBZpXyYh"
      },
      "source": [
        "其中$y_i$为样本的真实标签，$k$为所有预选标签类别。不难发现，在此规则下，此时向量$\\boldsymbol{y^*}$以及向量$\\boldsymbol{H^*(x)}$的和永远是0，因为向量内部总是1与(K-1)个$-\\frac{1}{K-1}$相加。"
      ]
    },
    {
      "cell_type": "code",
      "execution_count": null,
      "metadata": {
        "id": "fmbyUdAKXyYh",
        "outputId": "b1cdec88-3279-48d9-848d-8ad61487fd9f"
      },
      "outputs": [
        {
          "data": {
            "text/plain": [
              "0"
            ]
          },
          "execution_count": 136,
          "metadata": {},
          "output_type": "execute_result"
        }
      ],
      "source": [
        "K = 4\n",
        "y = [1,(-1/(K-1)),(-1/(K-1)),(-1/(K-1))]\n",
        "int(sum(y))"
      ]
    },
    {
      "cell_type": "markdown",
      "metadata": {
        "id": "a8y--xB0XyYi"
      },
      "source": [
        "在多分类算法当中，我们常常求解类似于$\\boldsymbol{y^*}$或$\\boldsymbol{H^*(x)}$的向量，比如在softmax函数中，当预测值或真实值不等于$k$时，我们赋予的向量值为0，而不是$-\\frac{1}{K-1}$。"
      ]
    },
    {
      "cell_type": "markdown",
      "metadata": {
        "id": "51eqiKhFXyYi"
      },
      "source": [
        "softmax的一般规则："
      ]
    },
    {
      "cell_type": "markdown",
      "metadata": {
        "id": "Z-KuE8CKXyYi"
      },
      "source": [
        "||$0$|$1$|$2$|$3$|\n",
        "|:-:|:-:|:-:|:-:|:-:|\n",
        "|$H_t^k(x_i)$|$0.1$|$0.2$|$0.2$|$0.5$|\n",
        "|$H^*(x)$|$0$|$0$|$0$|$1$|"
      ]
    },
    {
      "cell_type": "markdown",
      "metadata": {
        "id": "uP15YDUSXyYi"
      },
      "source": [
        "同时，当K=2时，多分类指数损失的值与二分类指数损失完全一致："
      ]
    },
    {
      "cell_type": "markdown",
      "metadata": {
        "id": "7XXSKW4VXyYi"
      },
      "source": [
        "多分类指数损失：\n",
        "\n",
        "假设K=2，\n",
        "\n",
        "$$\n",
        "\\begin{aligned}\n",
        "L = exp \\left( -\\frac{1}{K} \\left( y^{*1}H^{*1}(x)+y^{*2}H^{*2}(x) \\right) \\right)\n",
        "\\end{aligned}\n",
        "$$\n",
        "\n",
        "假设预测分类 = 真实分类 = 1，\n",
        "\n",
        "||$1$|$2$|\n",
        "|:-:|:-:|:-:|\n",
        "|$H_t^k(x_i)$|$0.7$|$0.3$|\n",
        "|$H^*(x)$|$1$|$-\\frac{1}{2-1}$|\n",
        "\n",
        "<br>\n",
        "\n",
        "||$1$|$2$|\n",
        "|:-:|:-:|:-:|\n",
        "|$\\boldsymbol{y^*}$|$1$|$-\\frac{1}{2-1}$|\n",
        "\n",
        "<br>"
      ]
    },
    {
      "cell_type": "markdown",
      "metadata": {
        "id": "GuEFb8bbXyYi"
      },
      "source": [
        "$$\n",
        "\\begin{aligned}\n",
        "-\\frac{1}{K}&\\left( y^{*1}H^{*1}(x)+y^{*2}H^{*2}(x) \\right)\\\\\n",
        "&= -\\frac{1}{2} \\left( 1 * 1 + \\frac{-1}{2-1} * \\frac{-1}{2-1} \\right)\\\\\n",
        "&= -\\frac{1}{2} \\left( 1 + 1 \\right)\\\\\n",
        "&= -1\n",
        "\\end{aligned}\n",
        "$$"
      ]
    },
    {
      "cell_type": "markdown",
      "metadata": {
        "id": "RsBcGhJ8XyYi"
      },
      "source": [
        "二分类指数损失，y=1，由于预测正确，所以$H^*(x)$ = 1\n",
        "\n",
        "$$\n",
        "\\begin{aligned}\n",
        "-y&H^*(x)\\\\\n",
        "& = -(1 * 1)\\\\\n",
        "& = -1\n",
        "\\end{aligned}\n",
        "$$"
      ]
    },
    {
      "cell_type": "markdown",
      "metadata": {
        "id": "8_A9sWSSXyYj"
      },
      "source": [
        "在实践中，无论是SAMME还是SAMME.R，我们都无法改变使用的损失函数，因此参数中没有为我们提供相应的选择。"
      ]
    },
    {
      "cell_type": "markdown",
      "metadata": {
        "id": "tgDMmoucXyYj"
      },
      "source": [
        "> - `loss`"
      ]
    },
    {
      "cell_type": "markdown",
      "metadata": {
        "id": "FB9fR8PDXyYj"
      },
      "source": [
        "看完参数`algorithm`，我们来看参数`loss`。与分类的情况完全相反，在AdaBoost回归当中，我们能够使用的算法是唯一的，即AdaBoost.R2，但是在R2算法下，我们却可以选择三种损失函数，分别是\"linear\"（线性）,\"square\"（平方）,\"exponential\"（指数）。\n",
        "\n",
        "在算法AdaBoost.R2当中，三种损失函数如下定义：\n",
        "\n",
        "首先：\n",
        "$$D = sup|H(x_i) - y_i|, i = 1,2,...,N$$\n",
        "\n",
        "其中$y_i$为真实标签，$H(x_i)$为预测标签，sup表示“取最大值”，但它与直接写作max的函数的区别在于，max中的元素已是固定的数值，而sup中的元素可以是一个表达式、并让该表达式在i的备选值中循环。上述式子表示，取出1~N号样本中**真实值与预测值差距最大的那一组差异**来作为D的值。\n",
        "\n",
        "**R2算法线性损失——**\n",
        "\n",
        "$$L_i = \\frac{|H(x_i) - y_i|}{D}$$\n",
        "\n",
        "**R2算法平方损失——**\n",
        "\n",
        "$$L_i = \\frac{|H(x_i) - y_i|^2}{D^2}$$\n",
        "\n",
        "**R2算法指数损失——**\n",
        "\n",
        "$$L_i = 1 - exp \\left( \\frac{-|H(x_i) - y_i|}{D} \\right)$$\n",
        "\n",
        "不难发现，其实线性损失就是我们常说的MAE的变体，平方损失就是MSE的变体，而指数损失也与分类中的指数损失高度相似。在R2算法当中，这些损失函数特殊的地方在于分母D。由于D是所有样本中真实值与预测值差异最大的那一组差异，因此任意样本的$L_i$在上述线性与平方损失定义下，取值范围都只有[0,1]（当真实值=预测值时，取值为0，当真实值-预测值=D时，取值为1）。\n",
        "\n",
        "![](https://www.tf.uni-kiel.de/matwis/amat/mw1_ge/kap_5/illustr/exponential1com.png)\n",
        "\n",
        "特别的，对于指数损失来说，自变量的部分是在[0,1]中取值，因此$e^{-x}$的在该定义域上的值域也为[0,1]，因此$1-e^{-x}$的值域为[0,1]。事实上，在R2算法的论文当中，就有明确对损失函数的唯一要求：即值域为[0,1]。该规则使得整个AdaBoost算法的求解流程变得顺畅，具体可以在《2 原理进阶：AdaBoost的求解流程》中看到。\n",
        "\n",
        "现在，我们已经了解了AdaBoost的全部参数了。不难发现，在AdaBoost的参数空间中，n_estimators与learning_rate是最为重要的两个参数。当我们在进行超参数调整时，注意对这两个参数的组合进行同时调整即可。\n",
        "\n",
        "|参数|参数含义|\n",
        "|:-:|:-:|\n",
        "|**base_estimator**|弱评估器|\n",
        "|n_estimators|集成算法中弱评估器的数量|\n",
        "|**learning_rate**|迭代中所使用的学习率|\n",
        "|**algorithm**（分类器专属）|用于指定分类ADB中使用的具体实现方法|\n",
        "|**loss**（回归器专属）|用于指定回归ADB中使用的损失函数|\n",
        "|random_state|用于控制每次建树之前随机抽样过程的随机数种子|"
      ]
    },
    {
      "cell_type": "markdown",
      "metadata": {
        "id": "IXM0X6bRXyYj"
      },
      "source": [
        "   "
      ]
    },
    {
      "cell_type": "markdown",
      "metadata": {
        "id": "gp0j5AqQXyYj"
      },
      "source": [
        "## 2 原理进阶：AdaBoost的求解流程"
      ]
    },
    {
      "cell_type": "markdown",
      "metadata": {
        "id": "kpOZ16ZpXyYj"
      },
      "source": [
        "在使用AdaBoost算法时，我们并不需要对AdaBoost的具体求解流程掌握太过于深入。严格来说，只要知道参数的含义，即便我们完全不了解AdaBoost的求解流程，我们也能够自由地调用这个算法。然而，对于参数较少、原理简单的AdaBoost来说或许是okay的，对于后续即将要学习的复杂Boosting算法而言，我们却很难再避开复杂数学推导与原理。即便是为了应对面试中会出现的“你都知道哪些boosting算法？这些算法之间有什么异同？”，我们也必须对Boosting算法的原理有所掌握。\n",
        "\n",
        "对于任意Boosting算法，我们都需要明确以下几点：\n",
        "\n",
        "- 损失函数$L(x,y)$的表达式是什么？损失函数如何影响模型构建？\n",
        "- 弱评估器$f(x)$ 是什么，当下boosting算法使用的具体建树过程是什么？\n",
        "- 综合集成结果$H(x)$是什么？集成算法具体如何输出集成结果？\n",
        "\n",
        "同时，还可能存在其他需要明确的问题，例如：\n",
        "- 是加权求和吗？如果是，加权求和中的权重如何求解？\n",
        "- 训练过程中，拟合的数据$X$与$y$分别是什么？\n",
        "- 模型训练到什么时候停下来最好？\n",
        "\n",
        "同时，别忘记boosting算法的基本规则：\n",
        "\n",
        "---\n",
        "**<font color=\"green\"><center>依据上一个弱评估器$f(x)_{t-1}$的结果，计算损失函数$L(x,y)$，\n",
        "    <br>并使用$L(x,y)$自适应地影响下一个弱评估器$f(x)_t$的构建。<br>集成模型输出的结果，受到整体所有弱评估器$f(x)_0$ ~ $f(x)_T$的影响。</center></font>**\n",
        "---"
      ]
    },
    {
      "cell_type": "markdown",
      "metadata": {
        "id": "_ZHIuNhsXyYk"
      },
      "source": [
        "在此基本指导思想下，我们来梳理回归算法的基本流程（考虑到后续Boosting算法也是以回归为主流，因此在这里我们梳理回归算法的基本流程）。"
      ]
    },
    {
      "cell_type": "markdown",
      "metadata": {
        "id": "iVohyV2TXyYk"
      },
      "source": [
        "- **AdaBoost.R2**"
      ]
    },
    {
      "cell_type": "markdown",
      "metadata": {
        "id": "xGPr9sa9XyYk"
      },
      "source": [
        "AdaBoost.R2算法是当前AdaBoost实现流程中使用最多的回归类实践方式，它囊括了对数据进行有放回抽样、按损失函数结果调整样本权重、自动计算弱分类器权重、并输出预测结果等AdaBoost算法经典的全流程。假设现有数据集N，含有样本$M$个，任意样本编号为$i$，同时，弱评估器为决策树$f$，总共学习$T$轮，则AdaBoost.R2的基本流程如下所示："
      ]
    },
    {
      "cell_type": "markdown",
      "metadata": {
        "id": "E5W3ddKIXyYk"
      },
      "source": [
        "- 1) 初始化原始数据集的权重$w_i$，其中任意$w_i = \\frac{1}{M}$\n",
        "\n",
        "开始循环，for t in 1,2,...T:\n",
        "\n",
        "> - 2) 在现有数据集$N$中，有放回抽样$M$个样本，构成训练集$N^t$。在每次抽取一个样本时，任意样本被抽中的概率为$P_i^t = \\frac{w_i}{\\sum w_i}$，很显然，**该概率就是当前样本在训练集$N^t$中的权重**。当从初始权重中抽样时，概率$P_i^1 = \\frac{1}{M}$，当后续权重变化时，拥有更大权重的样本被抽中的概率会更大。<br><br>\n",
        "> - 3) 在训练集$N^t$上按照**CART树**规则建立一棵回归树$f^t$，训练时所拟合的标签为样本的**真实标签**$y^t_i$。<br><br>\n",
        "> - 4) 将$N^t$上所有的样本输入$f^t$进行预测，得出预测结果$f^t(x_i)$，其中i = 1,2,...M。<br><br>\n",
        "> - 5) 计算单一样本$i$上的损失函数$L^t_i = L(f^t(x_i),y_i)$，计算过程如下所示：\n",
        ">> 求解$D = sup|f^t(x_i) - y_i|, i = 1,2,...,N$<br><br>\n",
        ">> 选择线性/平方或指数损失函数中的一种计算$L^t_i$<br><br>\n",
        ">> 线性损失：$L_i = \\frac{|f^t(x_i) - y_i|}{D}$<br><br>\n",
        ">> 平方损失：$L_i = \\frac{|f^t(x_i) - y_i|^2}{D^2}$<br><br>\n",
        ">> 指数损失：$L_i = 1 - exp \\left( \\frac{-|f^t(x_i) - y_i|}{D} \\right)$<br><br>\n",
        ">> 根据AdaBoost的要求，所有损失的值域都在[0,1]之间。\n",
        "> - 6) 计算全样本上的加权平均损失$\\bar{L^t} = \\sum_{i=1}^ML_i^tP_i^t$\n",
        ">> 注意此时$P_i^t$就等于样本的权重。由于$P_i^t = \\frac{w_i}{\\sum w_i}$，所以$P_i^t$一定位于[0,1]范围内，并且$\\sum{P_i^t}, i=1,2,...M$一定为1。<br><br>\n",
        ">> **当权重之和为1时，加权平均值一定会小于等于单一数值的最大值（同时大于等于单一数值的最小值），因此加权平均的值域不会超出单一平均数的值域**。由于所有损失的值域都是[0,1]，因此加权平均值$\\bar{L^t}$的值域也是[0,1]。同时，由于损失的最大值为1，而权重$P_i^t$的最大值一定是远远小于1的，因此加权平均值$\\bar{L^t}$的最大值一般也是远远小于1的。<br>"
      ]
    },
    {
      "cell_type": "code",
      "execution_count": null,
      "metadata": {
        "id": "76hwCrJCXyYk"
      },
      "outputs": [],
      "source": [
        "#例如：\n",
        "l = [10,20,5]\n",
        "P = [0,1,0]"
      ]
    },
    {
      "cell_type": "markdown",
      "metadata": {
        "id": "_4GHbL9zXyYk"
      },
      "source": [
        "> - 7) 依据加权平均损失$\\bar{L^t}$计算衡量当前集成算法的置信度$\\beta^t$\n",
        ">> $\\beta^t = \\frac{\\bar{L^t}}{1-\\bar{L^t} + \\lambda}$，其中$\\lambda$是为了防止分母为0的常数<br><br>\n",
        ">> 不难发现，当加权平平均损失很高时，$\\beta^t$很大，因此置信度小，当加权平均损失很低时，$\\beta^t$很小，因此置信度大。置信度越大，集成算法当前的预测结果越好。<br><br>\n",
        ">> 已知$\\bar{L^t}$的理论值域是[0,1]，因此$\\beta^t$的理论值域是[0,$+\\infty$]，因此$\\beta_t$的值越接近0越好。<br><br>\n",
        ">>同时，我们还知道$\\bar{L^t}$的实际范围大约都在0.2~0.3之间，因此一般来说$\\beta^t$的实际范围基本都是小于1的。"
      ]
    },
    {
      "cell_type": "code",
      "execution_count": null,
      "metadata": {
        "jupyter": {
          "source_hidden": true
        },
        "tags": [],
        "id": "POM9Xt0vXyYl",
        "outputId": "4fec6013-f439-4bae-ff14-71dfc991d1cc"
      },
      "outputs": [
        {
          "data": {
            "image/png": "[encoded data removed]",
            "text/plain": [
              "<Figure size 432x288 with 1 Axes>"
            ]
          },
          "metadata": {
            "needs_background": "light"
          },
          "output_type": "display_data"
        }
      ],
      "source": [
        "import numpy as np\n",
        "import matplotlib.pyplot as plt\n",
        "M = 1000\n",
        "lambda_ = 1e-6\n",
        "lt = np.sort(np.random.rand(M))\n",
        "beta = lt/(1-lt+lambda_)\n",
        "plt.plot(lt,beta)\n",
        "plt.ylim(0,5)\n",
        "plt.vlines(0.5,0,1,linestyles=\"dotted\",color=\"red\")\n",
        "plt.hlines(1,0,0.5,linestyles=\"dotted\",color=\"red\")\n",
        "plt.xlabel(\"lt\",fontdict={\"fontsize\":14})\n",
        "plt.ylabel(\"beta\",fontdict={\"fontsize\":14});"
      ]
    },
    {
      "cell_type": "markdown",
      "metadata": {
        "id": "zZ34gwvdXyYl"
      },
      "source": [
        "> - 8) 依据置信度评估$\\beta_t$更新样本权重\n",
        ">> $w_i = w_i\\beta^{(1-L_i)}$<br><br>\n",
        ">> 我们可以根据$L_i$的范围[0,1]，以及$\\beta$的计算公式，绘制出横坐标为$L_i$，纵坐标为$\\beta^{(1-L_i)}$的图像。不难发现，**单一样本的损失越大、$\\beta^{(1-L_i)}$也会越大，因此该样本的权重会被更新得越大**。<br>"
      ]
    },
    {
      "cell_type": "code",
      "execution_count": null,
      "metadata": {
        "jupyter": {
          "source_hidden": true
        },
        "tags": [],
        "id": "D5wWz86pXyYl",
        "outputId": "51db534a-d6a5-4fca-86bd-f199f063e2d4"
      },
      "outputs": [
        {
          "name": "stdout",
          "output_type": "stream",
          "text": [
            "0.3902868424714614 0.6401144497832878\n"
          ]
        },
        {
          "data": {
            "image/png": "[encoded data removed]",
            "text/plain": [
              "<Figure size 432x288 with 1 Axes>"
            ]
          },
          "metadata": {
            "needs_background": "light"
          },
          "output_type": "display_data"
        }
      ],
      "source": [
        "import numpy as np\n",
        "import matplotlib.pyplot as plt\n",
        "#假设1000个样本\n",
        "M = 1000\n",
        "lambda_ = 1e-6\n",
        "\n",
        "#1000个样本的损失位于[0,1]之间\n",
        "l = np.linspace(0,0.8,M)\n",
        "\n",
        "#1000个样本被抽到的概率加和为1\n",
        "p = np.random.dirichlet(np.ones(M),size=1)\n",
        "#p = 1/M\n",
        "\n",
        "#计算加权平均值与beta\n",
        "lbar = (l*p).sum()\n",
        "beta = lbar/(1-lbar+lambda_)\n",
        "\n",
        "l = np.sort(l,axis=0) #从小到大进行排序\n",
        "\n",
        "#按照1000个样本的l对beta**(1-l)进行绘图\n",
        "plt.plot(l,beta**(1-l))\n",
        "plt.xlabel(\"L_i\",fontdict={\"fontsize\":14})\n",
        "plt.ylabel(\"beta^(1-l)\",fontdict={\"fontsize\":14});\n",
        "print(lbar, beta)"
      ]
    },
    {
      "cell_type": "markdown",
      "metadata": {
        "id": "8Uc255ypXyYl"
      },
      "source": [
        "> - 9) 求解迭代过程中弱分类器$f^t$所需的权重\n",
        ">> $\\phi^t = log(\\frac{1}{\\beta^t})$\\\n",
        ">> 其中log的底数为e或者为2皆可。当$\\beta$值越接近于0，说明损失越小、置信度越高，则$log(\\frac{1}{\\beta^t})$的值越大。所以，损失更小的树对应的权重更大，损失更大的树对应的权重更小。\n",
        "> - 10) 求解出当前迭代$t$下集成算法的输出值：\n",
        ">> $H^t(x_i) = H^{t-1}(x_i) + \\eta \\phi^t f^t(x_i)$"
      ]
    },
    {
      "cell_type": "markdown",
      "metadata": {
        "id": "9GZwCmv5XyYl"
      },
      "source": [
        "在步骤2~10中循环，直到迭代次数被使用完毕。理想上来说，Adaboost至少应该迭代到$T$次以满足下列条件：\n",
        "\n",
        "$$\\left(\\sum_{t:H^t(x) \\leq y} log\\frac{1}{\\beta^t} \\right)\\ \\  \\geq \\ \\ \\left(\\frac{1}{2}\\sum_{t=1}^T log\\frac{1}{\\beta^t} \\right)$$\n",
        "\n",
        "等同于：\n",
        "$$\\left(\\sum_{t:H^t(x) \\leq y} \\phi^t \\right)\\ \\  \\geq \\ \\ \\left(\\frac{1}{2}\\sum_{t=1}^T \\phi^t \\right)$$\n",
        "\n",
        "并且，最终算法的输出值是上述等式满足“等于”条件时所对应的$H^t(x)$。对于一个正常迭代的AdaBoost来说，每一轮迭代后获得的$H(x_i)$都是累加结果，因此$H(x_i)$之间应该满足以下关系：\n",
        "\n",
        "$$H^0(x_i) < H^1(x_i) <, ... , < H^T(x_i)$$\n",
        "\n",
        "在$H^0(x_i)$到$H^T(x_i)$过程中，必然只有部分$H(x_i)$是小于真实标签$y_i$的，假设有$t$次迭代中$H(x_i)$都小于$y_i$，则理想状况下，前$t$次迭代中权重的累加，应该大于0.5 * 所有$T$次迭代中权重的累加。当两者相等时，t就是最佳迭代次数，而$t$对应的$H^t(x)$也就是最佳预测值。\n",
        "\n",
        "要完全使用公式来证明以上式子非常困难，但我们可以通过一个简单的小实验来验证该公式的合理性。"
      ]
    },
    {
      "cell_type": "code",
      "execution_count": null,
      "metadata": {
        "id": "p9i_UIZnXyYm"
      },
      "outputs": [],
      "source": [
        "yi = 20\n",
        "lambda_ = 1e-6"
      ]
    },
    {
      "cell_type": "code",
      "execution_count": null,
      "metadata": {
        "id": "B0Ld4jjsXyYm"
      },
      "outputs": [],
      "source": [
        "Hx = np.linspace(1,25,1000,endpoint=False) #逐渐增大的Hx\n",
        "\n",
        "#原则上应该使用fx计算损失，并且在迭代过程中逐渐计算出权重\n",
        "#但由于计算过程略为复杂，因此我们在这里简化，直接使用Hx计算损失、beta和权重\n",
        "#这种方法得出的曲线不是最严谨的，但其趋势与使用fx严谨计算的曲线趋势一致\n",
        "#因为原则上来说，只要一个样本被AdaBoost分类正确，这个样本上的损失应该也是越来越小的\n",
        "D = np.max(abs(Hx - yi))\n",
        "L = abs(Hx - yi)/D\n",
        "beta = L/(1-L+lambda_)"
      ]
    },
    {
      "cell_type": "code",
      "execution_count": null,
      "metadata": {
        "id": "QLi9Hs2TXyYm"
      },
      "outputs": [],
      "source": [
        "part1 = 0 #用来计算每一轮迭代后的累加值\n",
        "part1_ = [] #用来保存每一轮迭代后的累加值\n",
        "part2 = 0\n",
        "part2_ = []\n",
        "for t, beta_t in enumerate(beta):\n",
        "    phi = np.log(1/beta_t)\n",
        "    #如果Hx小于真实标签yi，则取倒数取对数后放入part1内\n",
        "    if Hx[t] <= yi:\n",
        "        part1 += phi\n",
        "    part1_.append(part1)\n",
        "    #所有beta取倒数取对数 * 0.5后都放入part2内\n",
        "    part2 += 0.5*phi\n",
        "    part2_.append(part2)"
      ]
    },
    {
      "cell_type": "code",
      "execution_count": null,
      "metadata": {
        "id": "vGT2cg6yXyYm",
        "outputId": "9fce0b9b-640f-4248-cdfd-8b5da5395ddb"
      },
      "outputs": [
        {
          "data": {
            "image/png": "[encoded data removed]",
            "text/plain": [
              "<Figure size 432x288 with 1 Axes>"
            ]
          },
          "metadata": {
            "needs_background": "light"
          },
          "output_type": "display_data"
        }
      ],
      "source": [
        "plt.plot(range(len(part1_)),part1_,c=\"red\",label = \"h < y t\")\n",
        "plt.plot(range(1000),part2_,c=\"blue\",label = \"all t\")\n",
        "plt.legend();"
      ]
    },
    {
      "cell_type": "code",
      "execution_count": null,
      "metadata": {
        "id": "aUwbEdSdXyYm",
        "outputId": "c4b34480-1369-4dfd-e61d-b4701449ae25"
      },
      "outputs": [
        {
          "data": {
            "text/plain": [
              "19.96"
            ]
          },
          "execution_count": 299,
          "metadata": {},
          "output_type": "execute_result"
        }
      ],
      "source": [
        "#最佳输出值\n",
        "Hx[790]"
      ]
    },
    {
      "cell_type": "markdown",
      "metadata": {
        "id": "8ZF6gkCCXyYm"
      },
      "source": [
        "在课程当中我们专注于AdaBoost回归的讲解，如果你对AdaBoost分类感兴趣，可以在任意材料上找到AdaBoost经典分类方法的数学推导，也可以找到包含了SAMME与SAMME.R方法的数学推导，值得注意的是，在AdaBoost回归方法当中，损失函数并没有明显的被“最小化”的过程，我们借助损失函数来自然地调整数据的权重，从而在迭代中不断减小整体损失，但在AdaBoost分类方法当中，有针对损失函数求解一阶导数、并让一阶导数为0的过程，该过程影响AdaBoost分类过程中求解弱分类器权重的内容，同时也影响AdaBoost分类过程中对于样本权重的迭代更新。感兴趣的小伙伴可以参阅论文《Multi-class AdaBoost》以及sklearn源码(https://github.com/scikit-learn/scikit-learn/blob/0d378913b/sklearn/ensemble/_weight_boosting.py#L913)。\n",
        "\n",
        "现在，我们已经完整讲解了AdaBoost的回归过程，该过程中的关键步骤可以被推广到任意Boosting算法，相信了解了这个过程之后，在学习后续Boosting算法时，我们将轻松很多。之后，我们将基于该流程讲解后续Boosting算法的原理。"
      ]
    }
  ],
  "metadata": {
    "kernelspec": {
      "display_name": "Python 3 (ipykernel)",
      "language": "python",
      "name": "python3"
    },
    "language_info": {
      "codemirror_mode": {
        "name": "ipython",
        "version": 3
      },
      "file_extension": ".py",
      "mimetype": "text/x-python",
      "name": "python",
      "nbconvert_exporter": "python",
      "pygments_lexer": "ipython3",
      "version": "3.9.7"
    },
    "colab": {
      "name": "Lesson 11 AdaBoost.ipynb",
      "provenance": [],
      "include_colab_link": true
    }
  },
  "nbformat": 4,
  "nbformat_minor": 0
}